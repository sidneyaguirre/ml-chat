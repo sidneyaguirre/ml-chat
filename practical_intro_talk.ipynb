{
  "nbformat": 4,
  "nbformat_minor": 0,
  "metadata": {
    "colab": {
      "name": "practical_intro_talk.ipynb",
      "version": "0.3.2",
      "provenance": [],
      "collapsed_sections": [
        "PPGNUTxPN2YY",
        "vi9DyX34a0Pp",
        "OQRIVZHHVl1t",
        "8RVCJ8M0VryT",
        "UpjkmB1Hna1l",
        "a5cKVSBhV4dF"
      ],
      "include_colab_link": true
    },
    "kernelspec": {
      "name": "python3",
      "display_name": "Python 3"
    }
  },
  "cells": [
    {
      "cell_type": "markdown",
      "metadata": {
        "id": "view-in-github",
        "colab_type": "text"
      },
      "source": [
        "<a href=\"https://colab.research.google.com/github/sidneyaguirre/ml-chat/blob/master/practical_intro_talk.ipynb\" target=\"_parent\"><img src=\"https://colab.research.google.com/assets/colab-badge.svg\" alt=\"Open In Colab\"/></a>"
      ]
    },
    {
      "cell_type": "markdown",
      "metadata": {
        "id": "wmPriOYyNEK6",
        "colab_type": "text"
      },
      "source": [
        "# A Practical Intro to Productionizing NLP Models (Modeling Workbook)"
      ]
    },
    {
      "cell_type": "markdown",
      "metadata": {
        "id": "b-3PMontNGvi",
        "colab_type": "text"
      },
      "source": [
        "# gather and augment intents data¶"
      ]
    },
    {
      "cell_type": "code",
      "metadata": {
        "id": "Ci8xkFQ6NH1o",
        "colab_type": "code",
        "colab": {}
      },
      "source": [
        "get_url = lambda intent, training: 'https://raw.githubusercontent.com/snipsco/nlu-benchmark/master/2017-06-custom-intent-engines/{0}/{1}_{0}{2}.json'.format(intent, 'train' if training else 'validate', '_full' if training else '')\n",
        "training_urls = []\n",
        "validation_urls = []\n",
        "intents = ['AddToPlaylist', 'BookRestaurant', 'GetWeather', 'PlayMusic', 'SearchCreativeWork', 'SearchScreeningEvent']\n",
        "intents_to_ix = {intent:ix for ix,intent in enumerate(intents)}\n",
        "for intent in intents:\n",
        "  training_urls.append((intent, get_url(intent, training=True)))\n",
        "  validation_urls.append((intent, get_url(intent, training=False)))"
      ],
      "execution_count": 0,
      "outputs": []
    },
    {
      "cell_type": "code",
      "metadata": {
        "id": "ATVrwFHDNMsp",
        "colab_type": "code",
        "colab": {}
      },
      "source": [
        "import requests\n",
        "get_json = lambda url: requests.get(url).json()\n",
        "get_texts = lambda url: [' '.join(' '.join([d['text'] for d in j['data']]).split()) for j in list(get_json(url).values())[0]]"
      ],
      "execution_count": 0,
      "outputs": []
    },
    {
      "cell_type": "code",
      "metadata": {
        "id": "z3FWW2TcNTdr",
        "colab_type": "code",
        "colab": {}
      },
      "source": [
        "# we need to also handle greet, goodbye, and \"None\" intents:\n",
        "intents.extend(['Greet', 'Bye','None'])\n",
        "intents_to_ix = {intent:ix for ix,intent in enumerate(intents)}"
      ],
      "execution_count": 0,
      "outputs": []
    },
    {
      "cell_type": "markdown",
      "metadata": {
        "id": "Zy6vL_4Rgw4H",
        "colab_type": "text"
      },
      "source": [
        "augment the dataset with three manually-labeled intents: \"greet\", \"bye\",  and \"no intent\""
      ]
    },
    {
      "cell_type": "code",
      "metadata": {
        "id": "wlwkCiNCNUvD",
        "colab_type": "code",
        "outputId": "e3db8181-dffb-4c8d-a2fe-b9da8a77111e",
        "colab": {
          "base_uri": "https://localhost:8080/",
          "height": 35
        }
      },
      "source": [
        "# number of intents to augment small data to\n",
        "import itertools\n",
        "n = 300\n",
        "print('generating around',n,'observations of each manually added intent')\n",
        "augment_data = lambda texts, n=n:list(itertools.chain.from_iterable(itertools.repeat(x, int(n/len(texts))) for x in texts if x))\n",
        "get_manual_data = lambda fname: 'https://{0}.github.io/{1}/{2}.txt'.format('bkvillalobos', '.github.io',fname)\n",
        "# add greet utterances\n",
        "greet_texts = augment_data(requests.get(get_manual_data('greet')).text.split('\\n'))\n",
        "# add bye utterances\n",
        "bye_texts = augment_data(requests.get(get_manual_data('bye')).text.split('\\n'))\n",
        "# add random utterances\n",
        "random_texts = augment_data(requests.get(get_manual_data('misc_utterences')).text.split('\\n'))"
      ],
      "execution_count": 0,
      "outputs": [
        {
          "output_type": "stream",
          "text": [
            "generating around 300 observations of each manually added intent\n"
          ],
          "name": "stdout"
        }
      ]
    },
    {
      "cell_type": "code",
      "metadata": {
        "id": "RHhqlUGDNXr2",
        "colab_type": "code",
        "outputId": "ec4d2878-b26c-4bec-ac52-eb0d4199f439",
        "colab": {
          "base_uri": "https://localhost:8080/",
          "height": 86
        }
      },
      "source": [
        "to_intent_text_tuple = lambda intent, text_list: list(zip([intent,]*len(text_list),text_list))\n",
        "manual_intents = []\n",
        "\n",
        "# append greet intents\n",
        "manual_intents.extend(to_intent_text_tuple('Greet', greet_texts))\n",
        "print('addded', len(greet_texts),'new greet utterances')\n",
        "\n",
        "# append goodbye intents\n",
        "manual_intents.extend(to_intent_text_tuple('Bye', bye_texts))\n",
        "print(len(bye_texts),'new bye utterances')\n",
        "\n",
        "# append random intents\n",
        "manual_intents.extend(to_intent_text_tuple('None', random_texts))\n",
        "print(len(random_texts),'new random, no-intent utterances')\n",
        "\n",
        "print('total new manually-added intents:', len(manual_intents))"
      ],
      "execution_count": 0,
      "outputs": [
        {
          "output_type": "stream",
          "text": [
            "addded 219 new greet utterances\n",
            "219 new bye utterances\n",
            "219 new random, no-intent utterances\n",
            "total new manually-added intents: 657\n"
          ],
          "name": "stdout"
        }
      ]
    },
    {
      "cell_type": "code",
      "metadata": {
        "id": "Uch-5utXNwq9",
        "colab_type": "code",
        "outputId": "a96355b5-2378-4dcc-eb50-b494f7d45c86",
        "colab": {
          "base_uri": "https://localhost:8080/",
          "height": 279
        }
      },
      "source": [
        "import pandas as pd\n",
        "def get_randomized_df_from_urls(urls, manual_intents=[]):\n",
        "  return_data = []\n",
        "  for intent, url in urls:\n",
        "    print('getting text for url:',url)\n",
        "    for text in get_texts(url):\n",
        "      return_data.append((intent,intents_to_ix[intent],text))\n",
        "  print('adding texts for manually-generated intents' if manual_intents else 'not adding any manual intents')\n",
        "  for intent, text in manual_intents:\n",
        "    return_data.append((intent,intents_to_ix[intent],text))\n",
        "  return pd.DataFrame(return_data, columns=['intent','intent_ix','text']).sample(frac=1).reset_index(drop=True)\n",
        "\n",
        "training_df = get_randomized_df_from_urls(training_urls, manual_intents=manual_intents)\n",
        "test_df = get_randomized_df_from_urls(validation_urls) # not adding manually-generated intents to testing data"
      ],
      "execution_count": 0,
      "outputs": [
        {
          "output_type": "stream",
          "text": [
            "getting text for url: https://raw.githubusercontent.com/snipsco/nlu-benchmark/master/2017-06-custom-intent-engines/AddToPlaylist/train_AddToPlaylist_full.json\n",
            "getting text for url: https://raw.githubusercontent.com/snipsco/nlu-benchmark/master/2017-06-custom-intent-engines/BookRestaurant/train_BookRestaurant_full.json\n",
            "getting text for url: https://raw.githubusercontent.com/snipsco/nlu-benchmark/master/2017-06-custom-intent-engines/GetWeather/train_GetWeather_full.json\n",
            "getting text for url: https://raw.githubusercontent.com/snipsco/nlu-benchmark/master/2017-06-custom-intent-engines/PlayMusic/train_PlayMusic_full.json\n",
            "getting text for url: https://raw.githubusercontent.com/snipsco/nlu-benchmark/master/2017-06-custom-intent-engines/SearchCreativeWork/train_SearchCreativeWork_full.json\n",
            "getting text for url: https://raw.githubusercontent.com/snipsco/nlu-benchmark/master/2017-06-custom-intent-engines/SearchScreeningEvent/train_SearchScreeningEvent_full.json\n",
            "adding texts for manually-generated intents\n",
            "getting text for url: https://raw.githubusercontent.com/snipsco/nlu-benchmark/master/2017-06-custom-intent-engines/AddToPlaylist/validate_AddToPlaylist.json\n",
            "getting text for url: https://raw.githubusercontent.com/snipsco/nlu-benchmark/master/2017-06-custom-intent-engines/BookRestaurant/validate_BookRestaurant.json\n",
            "getting text for url: https://raw.githubusercontent.com/snipsco/nlu-benchmark/master/2017-06-custom-intent-engines/GetWeather/validate_GetWeather.json\n",
            "getting text for url: https://raw.githubusercontent.com/snipsco/nlu-benchmark/master/2017-06-custom-intent-engines/PlayMusic/validate_PlayMusic.json\n",
            "getting text for url: https://raw.githubusercontent.com/snipsco/nlu-benchmark/master/2017-06-custom-intent-engines/SearchCreativeWork/validate_SearchCreativeWork.json\n",
            "getting text for url: https://raw.githubusercontent.com/snipsco/nlu-benchmark/master/2017-06-custom-intent-engines/SearchScreeningEvent/validate_SearchScreeningEvent.json\n",
            "not adding any manual intents\n"
          ],
          "name": "stdout"
        }
      ]
    },
    {
      "cell_type": "markdown",
      "metadata": {
        "id": "PPGNUTxPN2YY",
        "colab_type": "text"
      },
      "source": [
        "# train/test split"
      ]
    },
    {
      "cell_type": "markdown",
      "metadata": {
        "id": "hcDFXciDc4aR",
        "colab_type": "text"
      },
      "source": [
        "create column of data without stop words\n",
        "(this is a slow, but easy to follow implementation)"
      ]
    },
    {
      "cell_type": "code",
      "metadata": {
        "id": "facqh6krjt5H",
        "colab_type": "code",
        "colab": {}
      },
      "source": [
        "# load spacy language model\n",
        "import spacy\n",
        "\n",
        "nlp = spacy.load('en')"
      ],
      "execution_count": 0,
      "outputs": []
    },
    {
      "cell_type": "code",
      "metadata": {
        "id": "91tM_iq0c7bC",
        "colab_type": "code",
        "colab": {}
      },
      "source": [
        "remove_stopwords = lambda sentence: ' '.join([str(token) for token in nlp(sentence) if not token.is_stop])\n",
        "test_df['text_no_stop'] = [remove_stopwords(s) for s in test_df['text'].values]\n",
        "training_df['text_no_stop'] = [remove_stopwords(s) for s in training_df['text'].values]"
      ],
      "execution_count": 0,
      "outputs": []
    },
    {
      "cell_type": "code",
      "metadata": {
        "id": "cigyBVKBPnFm",
        "colab_type": "code",
        "outputId": "c3372f5e-3a97-4c41-e866-4d87ccd4531f",
        "colab": {
          "base_uri": "https://localhost:8080/",
          "height": 198
        }
      },
      "source": [
        "training_df.head()"
      ],
      "execution_count": 0,
      "outputs": [
        {
          "output_type": "execute_result",
          "data": {
            "text/html": [
              "<div>\n",
              "<style scoped>\n",
              "    .dataframe tbody tr th:only-of-type {\n",
              "        vertical-align: middle;\n",
              "    }\n",
              "\n",
              "    .dataframe tbody tr th {\n",
              "        vertical-align: top;\n",
              "    }\n",
              "\n",
              "    .dataframe thead th {\n",
              "        text-align: right;\n",
              "    }\n",
              "</style>\n",
              "<table border=\"1\" class=\"dataframe\">\n",
              "  <thead>\n",
              "    <tr style=\"text-align: right;\">\n",
              "      <th></th>\n",
              "      <th>intent</th>\n",
              "      <th>intent_ix</th>\n",
              "      <th>text</th>\n",
              "      <th>text_no_stop</th>\n",
              "    </tr>\n",
              "  </thead>\n",
              "  <tbody>\n",
              "    <tr>\n",
              "      <th>0</th>\n",
              "      <td>SearchCreativeWork</td>\n",
              "      <td>4</td>\n",
              "      <td>Find Live at Bearsville Theater</td>\n",
              "      <td>Find Live Bearsville Theater</td>\n",
              "    </tr>\n",
              "    <tr>\n",
              "      <th>1</th>\n",
              "      <td>AddToPlaylist</td>\n",
              "      <td>0</td>\n",
              "      <td>Add this track to the classical music for smar...</td>\n",
              "      <td>Add track classical music smart kids playlist</td>\n",
              "    </tr>\n",
              "    <tr>\n",
              "      <th>2</th>\n",
              "      <td>GetWeather</td>\n",
              "      <td>2</td>\n",
              "      <td>Will it be chilly in Milligan College , AK on ...</td>\n",
              "      <td>Will chilly Milligan College , AK law day</td>\n",
              "    </tr>\n",
              "    <tr>\n",
              "      <th>3</th>\n",
              "      <td>SearchCreativeWork</td>\n",
              "      <td>4</td>\n",
              "      <td>Find HeroQuest II: Legacy of Sorasil .</td>\n",
              "      <td>Find HeroQuest II : Legacy Sorasil .</td>\n",
              "    </tr>\n",
              "    <tr>\n",
              "      <th>4</th>\n",
              "      <td>SearchCreativeWork</td>\n",
              "      <td>4</td>\n",
              "      <td>play the TV series BET Awards 2013</td>\n",
              "      <td>play TV series BET Awards 2013</td>\n",
              "    </tr>\n",
              "  </tbody>\n",
              "</table>\n",
              "</div>"
            ],
            "text/plain": [
              "               intent  ...                                   text_no_stop\n",
              "0  SearchCreativeWork  ...                   Find Live Bearsville Theater\n",
              "1       AddToPlaylist  ...  Add track classical music smart kids playlist\n",
              "2          GetWeather  ...      Will chilly Milligan College , AK law day\n",
              "3  SearchCreativeWork  ...           Find HeroQuest II : Legacy Sorasil .\n",
              "4  SearchCreativeWork  ...                 play TV series BET Awards 2013\n",
              "\n",
              "[5 rows x 4 columns]"
            ]
          },
          "metadata": {
            "tags": []
          },
          "execution_count": 138
        }
      ]
    },
    {
      "cell_type": "code",
      "metadata": {
        "id": "Fp78xVydOPQZ",
        "colab_type": "code",
        "colab": {}
      },
      "source": [
        "from sklearn.model_selection import train_test_split\n",
        "X_train, X_valid, y_train, y_valid = train_test_split(training_df.text_no_stop.values, \n",
        "                                                      training_df.intent_ix.values, \n",
        "                                                      test_size=500)\n",
        "X_test, y_test = test_df.text_no_stop.values, test_df.intent_ix.values"
      ],
      "execution_count": 0,
      "outputs": []
    },
    {
      "cell_type": "code",
      "metadata": {
        "id": "-k0JXOZhOPmn",
        "colab_type": "code",
        "colab": {}
      },
      "source": [
        "max_len = 20\n",
        "num_words = 1000\n",
        "from tensorflow.keras.preprocessing.text import Tokenizer\n",
        "# Fit the tokenizer on the training data\n",
        "t = Tokenizer(num_words=num_words, oov_token='__OOV__')\n",
        "t.fit_on_texts(X_train)"
      ],
      "execution_count": 0,
      "outputs": []
    },
    {
      "cell_type": "code",
      "metadata": {
        "id": "L9YEKZJTOZC9",
        "colab_type": "code",
        "outputId": "65b94a4c-03e0-45c2-e0ca-5661ef270996",
        "colab": {
          "base_uri": "https://localhost:8080/",
          "height": 138
        }
      },
      "source": [
        "from keras.preprocessing.sequence import pad_sequences\n",
        "# training data\n",
        "x_train_seq = t.texts_to_sequences(X_train)\n",
        "x_train_padded = pad_sequences(x_train_seq, maxlen=max_len, padding='post')\n",
        "\n",
        "# validation data\n",
        "x_valid_seq = t.texts_to_sequences(X_valid)\n",
        "x_valid_padded = pad_sequences(x_valid_seq, maxlen=max_len, padding='post')\n",
        "\n",
        "# test data\n",
        "x_test_seq = t.texts_to_sequences(X_test)\n",
        "x_test_padded = pad_sequences(x_test_seq, maxlen=max_len, padding='post')\n",
        "print(x_train_padded)"
      ],
      "execution_count": 0,
      "outputs": [
        {
          "output_type": "stream",
          "text": [
            "[[  4   1 378 ...   0   0   0]\n",
            " [109 324   1 ...   0   0   0]\n",
            " [640   1 228 ...   0   0   0]\n",
            " ...\n",
            " [  4  22   1 ...   0   0   0]\n",
            " [  7  57 813 ...   0   0   0]\n",
            " [  5 116  27 ...   0   0   0]]\n"
          ],
          "name": "stdout"
        }
      ]
    },
    {
      "cell_type": "markdown",
      "metadata": {
        "id": "vi9DyX34a0Pp",
        "colab_type": "text"
      },
      "source": [
        "# Import Pre-trained Embeddings Matrix (optional)\n"
      ]
    },
    {
      "cell_type": "code",
      "metadata": {
        "id": "ZMnQH3xXkYB2",
        "colab_type": "code",
        "outputId": "a0469829-9df3-4618-8fe3-9534e229afe5",
        "colab": {
          "base_uri": "https://localhost:8080/",
          "height": 35
        }
      },
      "source": [
        "top_n_words = tuple(t.word_index.keys())[:num_words]\n",
        "print('top 5 words: {}'.format(top_n_words[:5]))"
      ],
      "execution_count": 0,
      "outputs": [
        {
          "output_type": "stream",
          "text": [
            "top 5 words: ('__OOV__', 'play', 'i', 'add', 'find')\n"
          ],
          "name": "stdout"
        }
      ]
    },
    {
      "cell_type": "code",
      "metadata": {
        "id": "gF4DvNcFl_B3",
        "colab_type": "code",
        "colab": {}
      },
      "source": [
        "vector_dict = {w: nlp(w).vector for w in top_n_words}"
      ],
      "execution_count": 0,
      "outputs": []
    },
    {
      "cell_type": "markdown",
      "metadata": {
        "id": "KU5M0r1qmemq",
        "colab_type": "text"
      },
      "source": [
        "create an embedding matrix with pretrained GloVe word vectors from SpaCy"
      ]
    },
    {
      "cell_type": "code",
      "metadata": {
        "id": "jN8GK05ga6Wf",
        "colab_type": "code",
        "colab": {}
      },
      "source": [
        "import numpy as np\n",
        "emb_matrix = np.zeros((len(vector_dict.keys()), len(vector_dict[top_n_words[0]])))\n",
        "for i, w in enumerate(vector_dict.keys()):\n",
        "  emb_matrix[i] = vector_dict[w]"
      ],
      "execution_count": 0,
      "outputs": []
    },
    {
      "cell_type": "code",
      "metadata": {
        "id": "MNi8CAm8mZOE",
        "colab_type": "code",
        "outputId": "3f98f37c-78ae-40e5-d210-811e110597d0",
        "colab": {
          "base_uri": "https://localhost:8080/",
          "height": 259
        }
      },
      "source": [
        "print('embedding matrix shape: {}'.format(emb_matrix.shape))\n",
        "emb_matrix"
      ],
      "execution_count": 0,
      "outputs": [
        {
          "output_type": "stream",
          "text": [
            "embedding matrix shape: (1000, 384)\n"
          ],
          "name": "stdout"
        },
        {
          "output_type": "execute_result",
          "data": {
            "text/plain": [
              "array([[ 1.80208778,  3.32538462,  2.25258517, ...,  0.05187614,\n",
              "         0.69417703,  0.07564092],\n",
              "       [ 0.1234386 ,  1.07958233,  5.19028759, ..., -0.19546871,\n",
              "         0.15194739,  0.13699253],\n",
              "       [ 0.04693624, -1.03170252,  6.53575373, ...,  0.08946218,\n",
              "         0.46413276, -0.04817876],\n",
              "       ...,\n",
              "       [-1.0435518 ,  0.92175484,  1.72832751, ..., -0.16411856,\n",
              "         0.77037418, -0.76295686],\n",
              "       [ 0.6416406 ,  1.30268419,  3.57998562, ...,  0.03111946,\n",
              "         0.83241338,  0.35189229],\n",
              "       [-0.04768187, -0.89021552,  0.3576569 , ..., -0.46991587,\n",
              "         0.25018063,  0.26320362]])"
            ]
          },
          "metadata": {
            "tags": []
          },
          "execution_count": 185
        }
      ]
    },
    {
      "cell_type": "code",
      "metadata": {
        "id": "whz0yNpSa9uK",
        "colab_type": "code",
        "outputId": "da641c04-3200-4718-fce0-6715ab7ae3e4",
        "colab": {
          "base_uri": "https://localhost:8080/",
          "height": 55
        }
      },
      "source": [
        ""
      ],
      "execution_count": 0,
      "outputs": [
        {
          "output_type": "execute_result",
          "data": {
            "text/plain": [
              "dict_items([('__OOV__', 1), ('play', 2), ('i', 3), ('add', 4), ('find', 5), ('playlist', 6), ('book', 7), ('what', 8), ('movie', 9), ('the', 10), ('weather', 11), ('restaurant', 12), ('music', 13), ('want', 14), ('forecast', 15), (\"'s\", 16), ('playing', 17), ('table', 18), ('like', 19), ('is', 20), ('movies', 21), ('song', 22), ('need', 23), ('will', 24), ('can', 25), ('album', 26), ('called', 27), ('schedule', 28), ('theatres', 29), ('show', 30), ('track', 31), ('reservation', 32), ('house', 33), ('please', 34), (\"'d\", 35), ('time', 36), ('tune', 37), ('people', 38), ('where', 39), ('animated', 40), ('times', 41), ('schedules', 42), ('films', 43), ('1', 44), ('a', 45), ('party', 46), ('tv', 47), ('cinema', 48), ('artist', 49), ('game', 50), ('list', 51), ('serves', 52), ('new', 53), ('area', 54), ('2', 55), ('close', 56), ('spot', 57), ('nearest', 58), ('closest', 59), ('showing', 60), ('hear', 61), ('going', 62), ('tell', 63), ('theatre', 64), ('current', 65), ('park', 66), ('0', 67), ('rated', 68), ('watch', 69), ('soundtrack', 70), ('pm', 71), ('food', 72), ('bar', 73), ('songs', 74), ('eat', 75), ('love', 76), ('national', 77), ('8', 78), ('6', 79), ('place', 80), ('when', 81), ('brasserie', 82), ('nearby', 83), ('looking', 84), ('3', 85), ('4', 86), ('saga', 87), ('state', 88), ('best', 89), ('p', 90), ('picture', 91), ('rock', 92), ('photograph', 93), ('search', 94), ('look', 95), ('5', 96), ('trailer', 97), ('pub', 98), ('how', 99), ('series', 100), ('television', 101), ('popular', 102), ('video', 103), ('seven', 104), ('city', 105), ('de', 106), ('10', 107), (\"'\", 108), ('put', 109), ('neighborhood', 110), (\"'m\", 111), ('reservations', 112), ('spotify', 113), ('7', 114), ('highly', 115), ('painting', 116), ('hours', 117), ('9', 118), ('hot', 119), ('metal', 120), ('far', 121), ('novel', 122), ('margin', 123), ('in', 124), ('groove', 125), ('img', 126), ('minute', 127), ('logo', 128), ('second', 129), ('minutes', 130), ('b', 131), ('pop', 132), ('reserve', 133), ('neighbourhood', 134), ('hits', 135), ('netflix', 136), ('north', 137), ('screen', 138), ('years', 139), ('itunes', 140), ('listen', 141), (\"o'clock\", 142), ('hour', 143), ('day', 144), ('you', 145), ('weeks', 146), ('shark', 147), ('indie', 148), ('my', 149), ('this', 150), ('google', 151), ('islands', 152), ('deezer', 153), ('live', 154), ('work', 155), ('night', 156), ('today', 157), ('south', 158), ('colder', 159), ('warm', 160), ('me', 161), ('last', 162), ('text', 163), ('give', 164), ('corporation', 165), ('week', 166), ('good', 167), ('lastfm', 168), ('src', 169), ('twenties', 170), ('women', 171), ('youtube', 172), ('min', 173), ('of', 174), ('fm', 175), ('font', 176), ('chant', 177), ('zvooq', 178), ('chilly', 179), ('year', 180), ('pandora', 181), ('showtimes', 182), ('country', 183), ('slacker', 184), ('title', 185), ('american', 186), ('days', 187), ('freezing', 188), ('cold', 189), ('island', 190), ('distance', 191), ('dance', 192), ('am', 193), ('seconds', 194), ('la', 195), ('all', 196), ('open', 197), ('walking', 198), ('use', 199), ('html', 200), ('make', 201), ('hotter', 202), ('black', 203), ('color', 204), ('display', 205), ('sound', 206), ('creativity', 207), ('width', 208), ('soul', 209), ('href', 210), ('creative', 211), ('strong', 212), ('vimeo', 213), ('cineplex', 214), ('chillier', 215), ('titled', 216), ('cinemas', 217), ('warmer', 218), ('style', 219), ('near', 220), ('jazz', 221), ('ballad', 222), ('top', 223), ('ep', 224), ('position', 225), ('melody', 226), ('know', 227), ('entertainment', 228), ('man', 229), ('help', 230), ('32', 231), ('symphony', 232), ('neighboring', 233), ('com', 234), ('latin', 235), ('faraway', 236), ('iheart', 237), ('theaters', 238), ('m', 239), ('greatest', 240), ('theme', 241), ('record', 242), ('location', 243), ('fourties', 244), ('lake', 245), ('life', 246), ('chill', 247), ('newest', 248), ('saint', 249), ('device', 250), ('eighties', 251), ('content', 252), ('wildlife', 253), ('50', 254), ('code', 255), ('github', 256), ('movement', 257), ('serving', 258), ('tavern', 259), ('blues', 260), ('punk', 261), ('on', 262), ('sixties', 263), ('right', 264), ('height', 265), ('which', 266), ('temperate', 267), ('for', 268), ('pixel', 269), ('ratio', 270), ('dinner', 271), ('world', 272), ('thirties', 273), ('folk', 274), ('named', 275), ('east', 276), ('seventies', 277), ('rain', 278), ('room', 279), ('tunes', 280), ('div', 281), ('tea', 282), ('your', 283), ('11', 284), ('fifties', 285), ('group', 286), ('st', 287), ('classical', 288), ('starting', 289), ('great', 290), ('r', 291), ('20', 292), ('s', 293), ('workout', 294), ('southern', 295), ('half', 296), ('distant', 297), ('cafe', 298), ('court', 299), ('get', 300), ('–', 301), ('west', 302), ('12', 303), ('check', 304), ('lo', 305), ('body', 306), ('pool', 307), ('john', 308), ('type', 309), ('let', 310), ('river', 311), ('months', 312), ('storm', 313), ('evening', 314), ('york', 315), ('pages', 316), ('ii', 317), ('file', 318), ('21', 319), ('red', 320), ('taverna', 321), ('blizzard', 322), ('little', 323), ('paul', 324), ('month', 325), ('cloudy', 326), ('fire', 327), ('data', 328), ('fast', 329), ('h1', 330), ('https', 331), ('read', 332), ('tracks', 333), ('http', 334), ('inline', 335), ('added', 336), ('wild', 337), ('windy', 338), ('githubstatus', 339), ('journal', 340), ('classic', 341), ('sun', 342), ('loews', 343), ('acoustic', 344), ('head', 345), ('nature', 346), ('nineties', 347), ('truck', 348), ('suggestions', 349), ('jan', 350), ('it', 351), ('class', 352), ('star', 353), ('2x', 354), ('beach', 355), ('gaming', 356), ('baby', 357), ('spring', 358), ('parking', 359), ('martin', 360), ('cafeteria', 361), ('100', 362), ('line', 363), ('weight', 364), ('snowstorm', 365), ('no', 366), ('2016', 367), ('death', 368), ('site', 369), ('street', 370), (\"'ll\", 371), ('midnight', 372), ('united', 373), ('amc', 374), ('road', 375), ('feb', 376), ('dakota', 377), ('that', 378), ('out', 379), ('2017', 380), ('are', 381), ('diner', 382), ('local', 383), ('french', 384), ('wind', 385), ('latest', 386), ('to', 387), ('tomorrow', 388), ('el', 389), ('carolina', 390), ('reggae', 391), ('classics', 392), ('pull', 393), ('cloud', 394), ('hop', 395), ('block', 396), ('supposed', 397), ('refuge', 398), ('snow', 399), ('family', 400), ('go', 401), ('big', 402), ('we', 403), ('magic', 404), ('san', 405), ('david', 406), ('spa', 407), ('hail', 408), ('hotel', 409), ('id', 410), ('overcast', 411), ('white', 412), ('center', 413), ('mountain', 414), ('pacific', 415), ('13', 416), ('start', 417), ('hip', 418), ('january', 419), ('16', 420), ('bakery', 421), ('mejor', 422), ('green', 423), ('october', 424), ('johnson', 425), ('story', 426), ('snowfall', 427), ('and', 428), ('mexico', 429), ('steakhouse', 430), ('concerto', 431), ('old', 432), ('22', 433), ('heart', 434), ('wish', 435), ('fresh', 436), ('summer', 437), ('seating', 438), ('gastropub', 439), ('conditions', 440), ('feel', 441), ('image', 442), ('indoor', 443), ('include', 444), ('autumn', 445), ('stormy', 446), ('valley', 447), ('piano', 448), ('15', 449), ('step', 450), ('seats', 451), ('one', 452), ('found', 453), ('joint', 454), ('snowy', 455), ('internet', 456), ('y', 457), ('michael', 458), ('funk', 459), ('guest', 460), ('james', 461), ('fox', 462), ('buy', 463), ('dj', 464), ('august', 465), ('young', 466), ('samoa', 467), ('king', 468), ('al', 469), ('u', 470), ('christmas', 471), ('sep', 472), ('morning', 473), ('auto', 474), ('amco', 475), ('chicken', 476), ('outdoor', 477), ('decoration', 478), ('j', 479), ('needs', 480), ('kids', 481), ('up', 482), ('meal', 483), ('company', 484), ('post', 485), ('malco', 486), ('march', 487), ('afternoon', 488), ('september', 489), ('blue', 490), ('oct', 491), ('georgia', 492), ('person', 493), ('meta', 494), ('equiv', 495), ('media', 496), ('disco', 497), ('cuisine', 498), ('coffeehouse', 499), ('home', 500), ('español', 501), ('creek', 502), ('container', 503), ('50px', 504), ('school', 505), ('size', 506), ('forest', 507), ('power', 508), ('35px', 509), ('april', 510), ('1px', 511), ('60px', 512), ('17', 513), ('helvetica', 514), ('dead', 515), ('be', 516), ('information', 517), ('winter', 518), ('alt', 519), ('png', 520), ('base64', 521), ('ehbhy2tldcbizwdpbj0i77u', 522), ('iibpzd0ivzvnme1wq2voauh6cmvtek5uy3pryzlkij8', 523), ('idwvcmrmokrlc2nyaxb0aw9upia8l3jkzjpsrey', 524), ('idwvedp4bxbtzxrhpia8p3hwywnrzxqgzw5kpsjyij8', 525), ('bistro', 526), ('hill', 527), ('que', 528), ('humidity', 529), ('resolution', 530), ('d', 531), ('woman', 532), ('july', 533), ('down', 534), ('town', 535), ('00', 536), ('caribbean', 537), ('trip', 538), ('nationalpark', 539), ('sunny', 540), ('history', 541), ('wifi', 542), ('foggy', 543), ('fog', 544), ('scheduled', 545), ('if', 546), ('churrascaria', 547), ('locate', 548), ('she', 549), ('earth', 550), ('pizzeria', 551), ('sort', 552), ('hills', 553), ('19', 554), ('jul', 555), ('imax', 556), ('1x', 557), ('ok', 558), ('june', 559), ('odeon', 560), ('los', 561), ('chris', 562), ('purchase', 563), ('theater', 564), ('nov', 565), ('sunset', 566), ('case', 567), ('war', 568), ('fall', 569), ('indian', 570), ('lee', 571), ('oyster', 572), ('humid', 573), ('queen', 574), ('lets', 575), ('sea', 576), ('jersey', 577), ('dec', 578), ('cooper', 579), ('noon', 580), ('’s', 581), ('discography', 582), ('mike', 583), ('depression', 584), ('bay', 585), ('way', 586), ('cinemark', 587), ('kentucky', 588), ('2024', 589), ('temps', 590), ('february', 591), ('mi', 592), ('high', 593), ('quality', 594), ('guinea', 595), ('december', 596), ('dickinson', 597), ('states', 598), ('back', 599), ('who', 600), ('three', 601), ('colorado', 602), ('av', 603), ('vibes', 604), ('del', 605), ('law', 606), ('jams', 607), ('long', 608), ('from', 609), ('just', 610), ('oh', 611), ('smoking', 612), ('amusements', 613), ('instrumental', 614), ('foundation', 615), ('wisconsin', 616), ('mark', 617), ('free', 618), ('fish', 619), ('century', 620), ('para', 621), ('downtown', 622), ('forever', 623), ('marcus', 624), ('90s', 625), ('girl', 626), ('mary', 627), ('apr', 628), ('stars', 629), ('space', 630), ('2034', 631), ('natural', 632), ('sky', 633), ('lounge', 634), ('light', 635), ('goodrich', 636), ('walk', 637), ('future', 638), ('take', 639), ('texas', 640), ('novedades', 641), ('sweet', 642), ('megaplex', 643), ('george', 644), ('film', 645), ('jun', 646), ('mother', 647), ('vermont', 648), ('suena', 649), ('northern', 650), ('da', 651), ('view', 652), ('blood', 653), ('self', 654), ('dave', 655), ('fort', 656), ('end', 657), ('kerasotes', 658), ('temperature', 659), ('elevenses', 660), ('harkins', 661), ('billy', 662), ('page', 663), ('23', 664), ('brazilian', 665), ('tennessee', 666), ('ak', 667), ('tom', 668), ('steve', 669), ('70s', 670), ('come', 671), ('radio', 672), ('30', 673), ('supper', 674), ('rising', 675), ('rainy', 676), ('don', 677), ('happy', 678), ('beat', 679), ('douglas', 680), ('collection', 681), ('at', 682), ('november', 683), ('pa', 684), ('heaven', 685), ('mar', 686), ('tonight', 687), ('joe', 688), ('fine', 689), ('general', 690), ('boy', 691), ('air', 692), ('land', 693), ('02', 694), ('nothing', 695), ('lunch', 696), ('ms', 697), ('vincent', 698), ('ma', 699), ('il', 700), ('2020', 701), ('laundry', 702), ('sanctuary', 703), ('virginia', 704), ('plitt', 705), ('johnny', 706), ('o', 707), ('warren', 708), ('hollywood', 709), ('another', 710), ('iowa', 711), ('fever', 712), ('mills', 713), ('club', 714), ('digster', 715), ('cobb', 716), ('1975', 717), ('background', 718), ('2030', 719), ('rhode', 720), ('ne', 721), ('jones', 722), ('spanish', 723), ('entitled', 724), ('brian', 725), ('provide', 726), ('bill', 727), ('alaska', 728), ('rainfall', 729), ('dipson', 730), ('escape', 731), ('18', 732), ('shadow', 733), ('springs', 734), ('about', 735), ('música', 736), ('frank', 737), ('richard', 738), ('1958', 739), ('girls', 740), ('delaware', 741), ('br', 742), ('son', 743), ('santikos', 744), ('nv', 745), ('07', 746), ('rush', 747), ('wave', 748), ('castle', 749), ('2026', 750), ('mariana', 751), ('inn', 752), ('washington', 753), ('26', 754), ('status', 755), ('away', 756), ('mann', 757), ('midday', 758), ('robin', 759), ('service', 760), ('guitar', 761), ('indiana', 762), ('members', 763), ('minnesota', 764), ('ul', 765), ('25', 766), ('gu', 767), ('paramount', 768), ('connecticut', 769), ('historic', 770), ('arkansas', 771), ('latino', 772), ('grand', 773), ('2003', 774), ('perfect', 775), ('louisiana', 776), ('e', 777), ('robert', 778), ('do', 779), ('micronesia', 780), ('mt', 781), ('kansas', 782), ('california', 783), ('heights', 784), ('thirteen', 785), ('cool', 786), ('consolidated', 787), ('van', 788), ('alamo', 789), ('drafthouse', 790), ('only', 791), ('palau', 792), ('sleep', 793), ('sc', 794), ('todo', 795), ('borough', 796), ('paris', 797), ('us', 798), ('dark', 799), ('seat', 800), ('so', 801), ('nice', 802), ('14', 803), ('puerto', 804), ('rico', 805), ('return', 806), ('09', 807), ('2033', 808), ('missouri', 809), ('focus', 810), ('fifth', 811), ('kiss', 812), ('osteria', 813), ('2025', 814), ('jack', 815), ('aug', 816), ('monday', 817), ('c', 818), ('montana', 819), ('rap', 820), ('2000', 821), ('2011', 822), ('address', 823), ('gold', 824), ('under', 825), ('secret', 826), ('bear', 827), ('arclight', 828), ('chips', 829), ('prince', 830), ('delicatessen', 831), ('ghost', 832), ('seventh', 833), ('ut', 834), ('smash', 835), ('06', 836), ('wy', 837), ('ultimate', 838), ('columbia', 839), ('showcase', 840), ('zero', 841), ('rhythm', 842), ('hit', 843), ('falls', 844), ('williams', 845), ('root', 846), ('republic', 847), ('very', 848), ('k', 849), ('breakfast', 850), ('bridge', 851), ('as', 852), ('brown', 853), ('finds', 854), ('showings', 855), ('80s', 856), ('sister', 857), ('index', 858), ('stone', 859), ('en', 860), ('n', 861), ('heavy', 862), ('con', 863), ('fourteen', 864), ('romance', 865), ('child', 866), ('ks', 867), ('ia', 868), ('2037', 869), ('lady', 870), ('glass', 871), ('scott', 872), ('deep', 873), ('landmark', 874), ('ny', 875), ('may', 876), ('virgin', 877), ('two', 878), ('sans', 879), ('hover', 880), ('underline', 881), ('2021', 882), ('tales', 883), ('would', 884), ('harry', 885), ('md', 886), ('hell', 887), ('sure', 888), ('filename', 889), ('matches', 890), ('url', 891), ('2032', 892), ('seventeen', 893), ('spirit', 894), ('ri', 895), ('clinton', 896), ('before', 897), ('journey', 898), ('friday', 899), ('an', 900), ('price', 901), ('4183c4', 902), ('brazil', 903), ('404', 904), ('ivborw0kggoaaaansuheugaaaeaaaabacayaaacqaxheaaaagxrfwhrtb2z0d2fyzqbbzg9izsbjbwfnzvjlywr5ccllpaaaayrpvfh0we1momnvbs5hzg9izs54bxaaaaaaadw', 905), ('idx4onhtcg1ldgegeg1sbnm6ed0iywrvymu6bnm6bwv0ys8iihg6eg1wdgs9ikfkb2jlifhnucbdb3jliduumy1jmdexidy2lje0nty2mswgmjaxmi8wmi8wni0xndo1njoynyagicagicagij4gphjkzjpsreygeg1sbnm6cmrmpsjodhrwoi8vd3d3lnczlm9yzy8xotk5lzaylziylxjkzi1zew50yxgtbnmjij4gphjkzjpezxnjcmlwdglvbibyzgy6ywjvdxq9iiigeg1sbnm6eg1wpsjodhrwoi8vbnmuywrvymuuy29tl3hhcc8xljaviib4bwxuczp4bxbntt0iahr0cdovl25zlmfkb2jllmnvbs94yxavms4wl21tlyigeg1sbnm6c3rszwy9imh0dha6ly9ucy5hzg9izs5jb20vegfwlzeumc9zvhlwzs9szxnvdxjjzvjlzimiihhtcdpdcmvhdg9yvg9vbd0iqwrvymugughvdg9zag9wientniaotwfjaw50b3noksigeg1wtu06sw5zdgfuy2vjrd0ieg1wlmlpzdpequm1qkuxrui0mumxmuuyquqzreixqzrenuffnum5niigeg1wtu06rg9jdw1lbnrjrd0ieg1wlmrpzdpequm1qkuxrki0mumxmuuyquqzreixqzrenuffnum5nii', 906), ('idx4bxbnttpezxjpdmvkrnjvbsbzdfjlzjppbnn0yw5jzulepsj4bxauawlkokuxnkjenjdgqjngmdexrtjbrdneqjfdneq1quu1qzk2iibzdfjlzjpkb2n1bwvudelepsj4bxauzglkokuxnkjenjgwqjngmdexrtjbrdneqjfdneq1quu1qzk2ii8', 907), ('hfpraqaab6ljrefuenrsw2mme2uybodtt', 908), ('2222u35qheoccygbqligijgkzjnpzgigoatej8adfemfadfyabkgwiiwciek4s', 909), ('qoihayuj2hmnkgyleujpnttu9vttbvdw', 910), ('chu1k6m535pt3ubhcsyezr', 911), ('b73eb73', 912), ('t7vrfxsufow4bz6', 913), ('vom9', 914), ('b23ovnnnw34b5xygagodg46mbt4mesvmswd1qsphhdxd2fup', 915), ('afcput5', 916), ('a88xwymcdbglqenp6furyuwv4zu', 917), ('v759qywbjxoz5t76', 918), ('gun09mk5xfyakocapsatcaznpvnpoyvbh6o1ykgrf0u13sndq27qmzfpiaakj0lnu6', 919), ('gbvfazw2wwpwwvzy0igp3g73fpji6rehaga9qvrqa1b9mvobvyic2tdi8xg24', 920), ('duzqiabs', 921), ('s7ox8g2o', 922), ('3mkcc', 923), ('zw0efzpqefcvjyrarx3dbv1butho8fmgt42f', 924), ('mp0yutvqbdwsahvsikdihkhapxcqxqufxgubgmrxme9u0aaxfh4vfvjm7ef6ukbjs5qoqweqga57ac5jllfyuvzz5ckuegmvxsk2jlsyzi', 925), ('qxjsiyjzneajyjazb', 926), ('kqa41jjkl8podmqiteaymxw5n8', 927), ('p0ijd3bh7rgog59aanxiirtvvv', 928), ('oj0tnhca', 929), ('wmrvwodwb3ratgxzkbg', 930), ('gnzvapfv62wy2n5ao70hm', 931), ('5wbj0qnxyqsavpdiunzzy0v3nthmwxiwha0gj2np7ecibdgadayxkcqjm1dhrgj3nhulcpbl8j4nmhe46x', 932), ('g60fwbz3aewjkqfqaaqebwu1aoqyqwt8id6qehmc97zu7u7fggsn7haivuosvw7p35c1nccdgscxop1dhezswmfhmnxbo6ztk', 933), ('jn8dl', 934), ('vf7vwofdsa', 935), ('mln9oeubmxob3', 936), ('1eoesbvw6zmua49r8ymhakdiepcmwbsxmiqq', 937), ('ixzpfxzyqrpxarg', 938), ('yor1obfj0guskxbbamcr1okmmuvdxhrau8', 939), ('lmy3jflmupfqz9hxg65smyjdykyecoxdieae', 940), ('p1gjf2oonivzasxvgl2daa4eqwcw6j55qfaffzijwylxnqy2qosuzgrsyxcudieliwaheo4wslwqbrfozakxckmcxmyxaks0ve9vl8q42woiypju4hv3hkcns8m9gl7p', 941), ('xq73ef5kb4j5mnrwmtjrnwazqiv1cxjvtzcikeq', 942), ('z1bzfzsn2cenmvafvy4plz8xkagwjjakfk6lcbmdr', 943), ('mjjllmsqnm43xaiqktaa', 944), ('wewhdjl', 945), ('jvi1kktssotckbmtwpqesaot6dn6fr1ghwvjju6iruyibypuuubag5dgkagbmxlvdgiek9gdkohdy', 946), ('bjo4cag0r8mirssgabkgvqs4kxu098iguxssrsfaokzivavdy2wuiiptjyri41kwgisrgsltlsth8fiwnz2fbkqvwfrtle3if2yw63', 947), ('ycacxz1dw02gwgytfard4idjnckhracxyrhog5ltkt6syitop1fjhbmaypyrr0unzqtmna6s0zg', 948), ('gzblt0gdo7ephgpe3q6nz8yylhc8xj8mjh', 949), ('aktay', 950), ('5fpakhle7rdwuyjzmnwzycmkbcyykrojbmjl9b', 951), ('pxxcjjmcmdovzh3fippobewgqoke4ebl8v1hlqsdlvd23mkxhm9pc9kmpmno9hoetii7ewbhezppx1ztls1tv3angumjinjvbqfuhw6zdo5by7dtpaqnbgmlrrartksls1mnwt7uwp9virx9qzbw', 952), ('huv', 953), ('j5d', 954), ('6jniklllp8lkeonjdk', 955), ('dq9gsqtnc4fb1heo0k47hwe7wddr9nakgxwobwhi', 956), ('c45htj1d6sd429tunecmudc', 957), ('pralhcvn87dxw4ugzdsagxufl94nfv9zi1j7gvbhlvb2dnaj3svrxfc', 958), ('n2', 959), ('ntsz7', 960), ('h7', 961), ('mr3g5xdsihyjsh1pz', 962), ('7ftoyl2', 963), ('erqilgz4nalyb9govgahjr93hv1zru4xdsft20kh3pobzbwk0cgg1jacviunaqb9f', 964), ('vexylmzkpclv0ijv7ahqiocauyhx7v5qgscmyhttqsayzlejtk22bie4iq3xsqpm4saf9hq9a2dnj4ulk3seulcdrvp3i3zhysqpficxedsqc1nrlyxxvr', 965), ('o7qassezxb', 966), ('h1suuomgg9ll8buov4749eiolkh', 967), ('eiqwmqvezldghks2pxhw7xtquqw9j5ncaxok10agioz6zli6jy6z1q461koz4niklharw', 968), ('kdsxlduphz5zpqzquvdpjstqb5n9malbpah8c2xxdll62', 969), ('wzidfrulnvoiwencnnu3aqekl', 970), ('cdmsolvzo2fqb7ajssnaufuvorldvvkkg2i87', 971), ('jo2k2qavphdrfyvik5vqto34okaxxcp', 972), ('7drddbcadubm6eidx', 973), ('2wwqt5komwh4yqlk', 974), ('h4ae93h8xg2gvhekqzogsglztlydtlj4lx9', 975), ('kzwkbsaint4iy3fqqbfnuzr42pkqfksbr9qkvxcpusd3oia', 976), ('rkq5kp8qv', 977), ('jl1wywap', 978), ('dcmpm2zl1uruahe4jqfnwwkxiul3uubfp8njaflw1ofr3gdftz72cnh', 979), ('ptqt7', 980), ('brw', 981), ('nxqjahh0y9v8', 982), ('a1u7afwimad7ms3pcbuwjaaaaaelftksuqmcc', 983), ('documentation', 984), ('tony', 985), ('bring', 986), ('dc', 987), ('doctype', 988), ('clark', 989), ('04', 990), ('children', 991), ('security', 992), ('policy', 993), ('default', 994), ('unsafe', 995), ('connect', 996), ('mystery', 997), ('2028', 998), ('contain', 999), ('requested', 1000), ('bow', 1001), ('tie', 1002), ('thirty', 1003), ('1991', 1004), ('sd', 1005), ('configured', 1006), ('arizona', 1007), ('concert', 1008), ('css', 1009), ('wars', 1010), ('picks', 1011), ('taylor', 1012), ('2015', 1013), ('24', 1014), ('iron', 1015), ('charset', 1016), ('utf', 1017), ('middot', 1018), ('fear', 1019), ('2038', 1020), ('pw', 1021), ('2022', 1022), ('serbia', 1023), ('mdash', 1024), ('daily', 1025), ('li', 1026), ('point', 1027), ('8th', 1028), ('2023', 1029), ('25px', 1030), ('padding', 1031), ('2027', 1032), ('funtime', 1033), ('forcast', 1034), ('t', 1035), ('men', 1036), ('china', 1037), ('tn', 1038), ('moz', 1039), ('40', 1040), ('40px', 1041), ('600px', 1042), ('align', 1043), ('twitter', 1044), ('14px', 1045), ('news', 1046), ('urls', 1047), ('example', 1048), ('1999', 1049), ('calm', 1050), ('666666', 1051), ('federated', 1052), ('lakes', 1053), ('g', 1054), ('thursday', 1055), ('goes', 1056), ('african', 1057), ('thomas', 1058), ('drive', 1059), ('rgba', 1060), ('20px', 1061), ('ian', 1062), ('80', 1063), ('volume', 1064), ('café', 1065), ('2dppx', 1066), ('central', 1067), ('ccc', 1068), ('10th', 1069), ('te', 1070), ('throwback', 1071), ('spain', 1072), ('2035', 1073), ('wife', 1074), ('electronic', 1075), ('amor', 1076), ('800px', 1077), ('relative', 1078), ('left', 1079), ('100px', 1080), ('letter', 1081), ('spacing', 1082), ('0px', 1083), ('fff', 1084), ('10px', 1085), ('27', 1086), ('his', 1087), ('le', 1088), ('nebraska', 1089), ('cleaning', 1090), ('coming', 1091), ('neue', 1092), ('arial', 1093), ('serif', 1094), ('review', 1095), ('sixteen', 1096), ('edition', 1097), ('something', 1098), ('junction', 1099), ('have', 1100), ('goodbye', 1101), ('russia', 1102), ('fusion', 1103), ('ivborw0kggoaaaansuheugaaacaaaaagcayaaabzenr0aaaagxrfwhrtb2z0d2fyzqbbzg9izsbjbwfnzvjlywr5ccllpaaaayrpvfh0we1momnvbs5hzg9izs54bxaaaaaaadw', 1104), ('idx4onhtcg1ldgegeg1sbnm6ed0iywrvymu6bnm6bwv0ys8iihg6eg1wdgs9ikfkb2jlifhnucbdb3jliduumy1jmdexidy2lje0nty2mswgmjaxmi8wmi8wni0xndo1njoynyagicagicagij4gphjkzjpsreygeg1sbnm6cmrmpsjodhrwoi8vd3d3lnczlm9yzy8xotk5lzaylziylxjkzi1zew50yxgtbnmjij4gphjkzjpezxnjcmlwdglvbibyzgy6ywjvdxq9iiigeg1sbnm6eg1wpsjodhrwoi8vbnmuywrvymuuy29tl3hhcc8xljaviib4bwxuczp4bxbntt0iahr0cdovl25zlmfkb2jllmnvbs94yxavms4wl21tlyigeg1sbnm6c3rszwy9imh0dha6ly9ucy5hzg9izs5jb20vegfwlzeumc9zvhlwzs9szxnvdxjjzvjlzimiihhtcdpdcmvhdg9yvg9vbd0iqwrvymugughvdg9zag9wientniaotwfjaw50b3noksigeg1wtu06sw5zdgfuy2vjrd0ieg1wlmlpzdpfmtzcrdy3reizrjaxmuuyquqzreixqzrenuffnum5niigeg1wtu06rg9jdw1lbnrjrd0ieg1wlmrpzdpfmtzcrdy3ruizrjaxmuuyquqzreixqzrenuffnum5nii', 1105), ('idx4bxbnttpezxjpdmvkrnjvbsbzdfjlzjppbnn0yw5jzulepsj4bxauawlkokuxnkjenjdcqjngmdexrtjbrdneqjfdneq1quu1qzk2iibzdfjlzjpkb2n1bwvudelepsj4bxauzglkokuxnkjenjddqjngmdexrtjbrdneqjfdneq1quu1qzk2ii8', 1106), ('sm9mcaaaa', 1107), ('5jrefuenrev11ik1ey3s4', 1108), ('ddop29q5b0opcgkfsokoi5kg6cihuwi6zljloylopq4qskkgi4i6cyiou', 1109), ('q5idaks6syos76irwtyj', 1110), ('p7cdt7sf1pgod', 1111), ('e0c3dygax', 1112), ('67zzzpm95', 1113), ('877gydhrg3zjmxfxepqkns6slcwjxqnnufpimfjvs4zjua', 1114), ('pmmjed6vljs8npvnt4qq7mxwjssjieqim', 1115), ('9lgmhgir5ohuxg1wcw9vqv1clfr0dcqbodelv6v90ogedjgdybvjxhpaendioqk07cir7zaqe49pt09bpl2pmgtbyqgsyizlqd4umxtdr', 1116), ('jxwinhginyhgt2mskgmrm2dnzxgrxhahag5jejoduahxux4ludhje9rdeda', 1117), ('i3juz7bghe4mhe9fnrgwbclirmfv9okh5eflfh8pr5nk5ndabrr2bnjlko0t35', 1118), ('li4n4', 1119), ('jqcxhmu5h3ujoxnhpbmwzahmshwb8l5', 1120), ('ipqammaaf0zpddx1onv3vurdidqwaql', 1121), ('pec8slcae1ccvq3yhxiw8pl85xswnc1haddiv0rie', 1122), ('o4j0k3kww4xslwihcq3effom7kn', 1123), ('hugoqkt0cfa5wpnjlmvxbez', 1124), ('ivqaxg', 1125), ('zrzl9wiha63ydyiem7dnlp5ciagsc7i5sgtykjgwe2a8sefqgfjrjjepy1cn3pj8', 1126), ('9w1e5vwsfdtemfrbcodhzjeqkxuhicmykpjhahqn21hryatkfuoldmkygrr4o4c0volgjkroitkb4jijzdxygbkixyc5tdqdnk', 1127), ('pz8qrw6oowglstkgoqw6oh6fbwsyepxdoxltgxiyebilzcjz', 1128), ('glgmiknxnzc49ymlcrdhxcswxfvgtinqhc9g33uhnojluqq6t345p9y3euy8otk5pjahui9uo4b07fbaohsu0a4unc', 1129), ('t1tu1nj3kssse5yj65jqf2ddd8qqwymazrim2vlztdnzmb6abpdv9v6ec9znf5q7hjyumdre0jop3mjito4sfa', 1130), ('czz8umqe3tcbslvdfkr', 1131), ('kwddnql5inutcysocpft35zrbbxx4p3jahlzvvw1d', 1132), ('634vrt', 1133), ('fvlbgk', 1134), ('v5lv9ws', 1135), ('10xmtewtrw7xvqol', 1136), ('e2q8v3ayioiaxq26', 1137), ('hewvnzcvfcykhg2cbgtpmpmjym8l24gyauhyaih7xwfr9ere8qhodfn2ltnavc0hx6mfcbip8bi', 1138), ('6f6cdw', 1139), ('dickanrfx99feyfq7nph5i', 1140), ('uqia214gno7k', 1141), ('guhaikg9gc62', 1142), ('m8er7xsbsyj4ilam60fb7r7uaj8wfyuwm1oiowgfmdy6rxeeqzjmpe23dxrvs7rtyd3df8z', 1143), ('fpgaeazwu5ku59zauaaaaasuvork5cyii', 1144), ('co', 1145), ('08', 1146), ('pierre', 1147), ('43', 1148), ('oklahoma', 1149), ('through', 1150), ('ad', 1151), ('2036', 1152), ('friends', 1153), ('grenadines', 1154), ('nh', 1155), ('webkit', 1156), ('lost', 1157), ('192dpi', 1158), ('legend', 1159), ('lovers', 1160), ('evil', 1161), ('1959', 1162), ('provincial', 1163), ('2010', 1164), ('kb', 1165), ('niger', 1166), ('ar', 1167), ('were', 1168), ('thirteenth', 1169), ('does', 1170), ('lazy', 1171), ('water', 1172), ('saturday', 1173), ('tree', 1174), ('father', 1175), ('sam', 1176), ('fourth', 1177), ('season', 1178), ('running', 1179), ('clásicos', 1180), ('200', 1181), ('verano', 1182), ('trail', 1183), ('dancing', 1184), ('1970', 1185), ('lord', 1186), ('cell', 1187), ('bold', 1188), ('brooklyn', 1189), ('activity', 1190), ('fl', 1191), ('hearts', 1192), ('maryland', 1193), ('ca', 1194), ('coffee', 1195), ('district', 1196), ('x', 1197), ('genre', 1198), ('ocean', 1199), ('andrew', 1200), ('animal', 1201), ('eighth', 1202), ('2029', 1203), ('illinois', 1204), ('más', 1205), ('tears', 1206), ('sarah', 1207), ('1997', 1208), ('ct', 1209), ('there', 1210), ('releases', 1211), ('nj', 1212), ('andy', 1213), ('could', 1214), ('1981', 1215), ('favorite', 1216), ('not', 1217), ('was', 1218), ('short', 1219), ('moon', 1220), ('hard', 1221), ('f1f1f1', 1222), ('european', 1223), ('montenegro', 1224), ('fiesta', 1225), ('hands', 1226), ('regal', 1227), ('glory', 1228), ('dream', 1229), ('alabama', 1230), ('speakeasy', 1231), ('mount', 1232), ('more', 1233), ('cheese', 1234), ('2018', 1235), ('devil', 1236), ('first', 1237), ('epic', 1238), ('project', 1239), ('thing', 1240), ('currently', 1241), ('di', 1242), ('2019', 1243), ('surface', 1244), ('remix', 1245), ('halloween', 1246), ('dirty', 1247), ('1966', 1248), ('sing', 1249), ('zambia', 1250), ('ice', 1251), ('fest', 1252), ('eighteen', 1253), ('college', 1254), ('copy', 1255), ('matt', 1256), ('fair', 1257), ('trabajo', 1258), ('relax', 1259), ('cherry', 1260), ('mc', 1261), ('kuwait', 1262), ('togo', 1263), ('adventures', 1264), ('miss', 1265), ('noise', 1266), ('hampshire', 1267), ('grill', 1268), ('ky', 1269), ('20th', 1270), ('eric', 1271), ('mind', 1272), ('az', 1273), ('ballads', 1274), ('late', 1275), ('cake', 1276), ('tyrolean', 1277), ('wa', 1278), ('1973', 1279), ('peter', 1280), ('marshall', 1281), ('thompson', 1282), ('america', 1283), ('hong', 1284), ('christian', 1285), ('sunrise', 1286), ('venezuela', 1287), ('1951', 1288), ('mjr', 1289), ('01', 1290), ('48', 1291), ('carter', 1292), ('sandwich', 1293), ('without', 1294), ('luis', 1295), ('mix', 1296), ('guy', 1297), ('dine', 1298), ('still', 1299), ('shown', 1300), ('1954', 1301), ('booking', 1302), ('casa', 1303), ('preserve', 1304), ('accommodate', 1305), ('ross', 1306), ('alternative', 1307), ('electro', 1308), ('ridge', 1309), ('bone', 1310), ('2006', 1311), ('1996', 1312), ('wyoming', 1313), ('brother', 1314), ('cry', 1315), ('loving', 1316), ('netherlands', 1317), ('palylist', 1318), ('davis', 1319), ('52', 1320), ('1988', 1321), ('heat', 1322), ('tim', 1323), ('got', 1324), ('90', 1325), ('recreation', 1326), ('comedy', 1327), ('wi', 1328), ('2012', 1329), ('god', 1330), ('their', 1331), ('joseph', 1332), ('but', 1333), ('kind', 1334), ('bad', 1335), ('here', 1336), ('grandfather', 1337), ('rose', 1338), ('wilson', 1339), ('welcome', 1340), ('nd', 1341), ('original', 1342), ('kingdom', 1343), ('kevin', 1344), ('hanging', 1345), ('cape', 1346), ('adam', 1347), ('nineteen', 1348), ('las', 1349), ('infinite', 1350), ('cash', 1351), ('2009', 1352), ('released', 1353), ('things', 1354), ('ga', 1355), ('michigan', 1356), ('1993', 1357), ('jam', 1358), ('albania', 1359), ('00s', 1360), ('global', 1361), ('irish', 1362), ('pre', 1363), ('chaos', 1364), ('jim', 1365), ('chocolate', 1366), ('part', 1367), ('warning', 1368), ('sword', 1369), ('sxsw', 1370), ('again', 1371), ('dubstep', 1372), ('paradise', 1373), ('smith', 1374), ('9th', 1375), ('wv', 1376), ('weekly', 1377), ('opera', 1378), ('2039', 1379), ('union', 1380), ('anna', 1381), ('sex', 1382), ('turn', 1383), ('prairie', 1384), ('jean', 1385), ('roll', 1386), ('memorial', 1387), ('éxitos', 1388), ('garage', 1389), ('revival', 1390), ('they', 1391), ('2007', 1392), ('emily', 1393), ('gabon', 1394), ('arthur', 1395), ('zen', 1396), ('garrix', 1397), ('trey', 1398), ('trap', 1399), ('1964', 1400), ('holmes', 1401), ('viola', 1402), ('2004', 1403), ('horse', 1404), ('adventure', 1405), ('cream', 1406), ('phil', 1407), ('hipster', 1408), ('neo', 1409), ('sixteenth', 1410), ('english', 1411), ('australia', 1412), ('download', 1413), ('sixth', 1414), ('touch', 1415), ('shores', 1416), ('western', 1417), ('conexiones', 1418), ('moore', 1419), ('salvador', 1420), ('lopez', 1421), ('eddie', 1422), ('montserrat', 1423), ('fonsi', 1424), ('miquelon', 1425), ('sons', 1426), ('pat', 1427), ('soulful', 1428), ('predicted', 1429), ('die', 1430), ('05', 1431), ('pass', 1432), ('art', 1433), ('mountains', 1434), ('passion', 1435), ('grime', 1436), ('theory', 1437), ('grace', 1438), ('dirt', 1439), ('2031', 1440), ('twentieth', 1441), ('saudi', 1442), ('arabia', 1443), ('hi', 1444), ('form', 1445), ('now', 1446), ('birds', 1447), ('wilderness', 1448), ('lot', 1449), ('ashley', 1450), ('sudan', 1451), ('coney', 1452), ('24th', 1453), ('�', 1454), ('collective', 1455), ('study', 1456), ('1974', 1457), ('singer', 1458), ('falkland', 1459), ('has', 1460), ('sounds', 1461), ('parc', 1462), ('machine', 1463), ('real', 1464), ('7th', 1465), ('polynesia', 1466), ('tokyo', 1467), ('uzbekistan', 1468), ('reed', 1469), ('ray', 1470), ('living', 1471), ('wright', 1472), ('birthday', 1473), ('jeff', 1474), ('taiwan', 1475), ('band', 1476), ('oregon', 1477), ('commute', 1478), ('might', 1479), ('stress', 1480), ('roots', 1481), ('always', 1482), ('speed', 1483), ('papua', 1484), ('six', 1485), ('peace', 1486), ('hand', 1487), ('dragon', 1488), ('vi', 1489), ('croatia', 1490), ('dr', 1491), ('endorphin', 1492), ('or', 1493), ('essentials', 1494), ('duetos', 1495), ('justice', 1496), ('maine', 1497), ('miller', 1498), ('sunday', 1499), ('18th', 1500), ('eastern', 1501), ('southeastern', 1502), ('florida', 1503), ('philip', 1504), ('totally', 1505), ('sunshine', 1506), ('ace', 1507), ('hood', 1508), ('cross', 1509), ('fried', 1510), ('camino', 1511), ('london', 1512), ('dog', 1513), ('1962', 1514), ('tres', 1515), ('management', 1516), ('middle', 1517), ('ball', 1518), ('greenland', 1519), ('charles', 1520), ('vanuatu', 1521), ('mac', 1522), ('canciones', 1523), ('kitchen', 1524), ('see', 1525), ('anderson', 1526), ('ricky', 1527), ('nevada', 1528), ('relaxing', 1529), ('holy', 1530), ('cardio', 1531), ('tommy', 1532), ('tour', 1533), ('parents', 1534), ('indonesia', 1535), ('other', 1536), ('retro', 1537), ('ukraine', 1538), ('mississippi', 1539), ('incorporate', 1540), ('bruce', 1541), ('hero', 1542), ('dawn', 1543), ('conservation', 1544), ('28', 1545), ('birth', 1546), ('mr', 1547), ('every', 1548), ('france', 1549), ('hall', 1550), ('nc', 1551), ('steak', 1552), ('football', 1553), ('burkina', 1554), ('psychedelic', 1555), ('vol', 1556), ('wanda', 1557), ('fairy', 1558), ('1972', 1559), ('holiday', 1560), ('goiano', 1561), ('boots', 1562), ('miami', 1563), ('randy', 1564), ('car', 1565), ('total', 1566), ('musical', 1567), ('broadway', 1568), ('nights', 1569), ('13th', 1570), ('beyond', 1571), ('heroes', 1572), ('voices', 1573), ('highway', 1574), ('chronicles', 1575), ('concentración', 1576), ('walker', 1577), ('her', 1578), ('hat', 1579), ('helen', 1580), ('romania', 1581), ('pure', 1582), ('final', 1583), ('between', 1584), ('edge', 1585), ('korea', 1586), ('irma', 1587), ('train', 1588), ('2005', 1589), ('francisco', 1590), ('canada', 1591), ('express', 1592), ('funky', 1593), ('rare', 1594), ('malaysia', 1595), ('songz', 1596), ('bird', 1597), ('force', 1598), ('paulinho', 1599), ('mn', 1600), ('massachusetts', 1601), ('lullaby', 1602), ('roy', 1603), ('everybody', 1604), ('monterey', 1605), ('marine', 1606), ('attack', 1607), ('soft', 1608), ('crown', 1609), ('jacob', 1610), ('kong', 1611), ('1957', 1612), ('corn', 1613), ('korean', 1614), ('osts', 1615), ('truth', 1616), ('angry', 1617), ('reserved', 1618), ('tgif', 1619), ('played', 1620), ('bpm', 1621), ('doctor', 1622), ('pine', 1623), ('rob', 1624), ('4th', 1625), ('liechtenstein', 1626), ('eyes', 1627), ('secrets', 1628), ('eye', 1629), ('cut', 1630), ('45', 1631), ('port', 1632), ('russian', 1633), ('purple', 1634), ('alone', 1635), ('2002', 1636), ('bachelor', 1637), ('2014', 1638), ('singles', 1639), ('sammy', 1640), ('11th', 1641), ('instrumentals', 1642), ('awards', 1643), ('wonderful', 1644), ('research', 1645), ('junior', 1646), ('came', 1647), ('monument', 1648), ('ex', 1649), ('husband', 1650), ('rex', 1651), ('international', 1652), ('idaho', 1653), ('pr', 1654), ('friend', 1655), ('qatar', 1656), ('mon', 1657), ('ntc', 1658), ('training', 1659), ('mh', 1660), ('italian', 1661), ('bride', 1662), ('reggaeton', 1663), ('wondering', 1664), ('1990', 1665), ('portugal', 1666), ('sings', 1667), ('concentration', 1668), ('mis', 1669), ('niños', 1670), ('equatorial', 1671), ('moments', 1672), ('loves', 1673), ('daughter', 1674), ('falling', 1675), ('until', 1676), ('british', 1677), ('pizza', 1678), ('diamond', 1679), ('nm', 1680), ('brunch', 1681), ('2013', 1682), ('charlie', 1683), ('isle', 1684), ('deathcore', 1685), ('teenager', 1686), ('getting', 1687), ('prefectural', 1688), ('gary', 1689), ('apple', 1690), ('flame', 1691), ('makers', 1692), ('baker', 1693), ('crew', 1694), ('playlists', 1695), ('face', 1696), ('sudden', 1697), ('rainstorm', 1698), ('hurricane', 1699), ('trance', 1700), ('yellow', 1701), ('sessions', 1702), ('own', 1703), ('side', 1704), ('village', 1705), ('pura', 1706), ('vida', 1707), ('lloyd', 1708), ('ti', 1709), ('bobby', 1710), ('leche', 1711), ('mellow', 1712), ('atmospheric', 1713), ('lesotho', 1714), ('bonaire', 1715), ('five', 1716), ('techno', 1717), ('cena', 1718), ('selektor', 1719), ('mp', 1720), ('plays', 1721), ('3rd', 1722), ('nelson', 1723), ('spotlight', 1724), ('zimbabwe', 1725), ('crystal', 1726), ('bass', 1727), ('un', 1728), ('weekend', 1729), ('té', 1730), ('bean', 1731), ('hype', 1732), ('jerry', 1733), ('ohio', 1734), ('rocks', 1735), ('denmark', 1736), ('jordan', 1737), ('2040', 1738), ('2001', 1739), ('favorites', 1740), ('horror', 1741), ('jon', 1742), ('square', 1743), ('manhattan', 1744), ('patrick', 1745), ('building', 1746), ('colony', 1747), ('hillary', 1748), ('fifteenth', 1749), ('chapter', 1750), ('dean', 1751), ('56', 1752), ('online', 1753), ('bermuda', 1754), ('flight', 1755), ('teddy', 1756), ('jimmy', 1757), ('eleventh', 1758), ('blind', 1759), ('houston', 1760), ('aftercluv', 1761), ('beast', 1762), ('seafood', 1763), ('nicky', 1764), ('naked', 1765), ('warrior', 1766), ('tanzania', 1767), ('lisa', 1768), ('punks', 1769), ('india', 1770), ('liberty', 1771), ('afterwork', 1772), ('shake', 1773), ('nathan', 1774), ('coast', 1775), ('age', 1776), ('gay', 1777), ('sweden', 1778), ('myanmar', 1779), ('playlis', 1780), ('moldova', 1781), ('meet', 1782), ('mama', 1783), ('presents', 1784), ('primavera', 1785), ('barcelona', 1786), ('gate', 1787), ('gates', 1788), ('aruba', 1789), ('hamilton', 1790), ('confidence', 1791), ('pastelaria', 1792), ('complete', 1793), ('battle', 1794), ('facility', 1795), ('harris', 1796), ('alley', 1797), ('kings', 1798), ('roberto', 1799), ('ultra', 1800), ('twilight', 1801), ('australian', 1802), ('stuff', 1803), ('zealand', 1804), ('attic', 1805), ('pokémon', 1806), ('screened', 1807), ('string', 1808), ('run', 1809), ('broken', 1810), ('glenn', 1811), ('urban', 1812), ('trouble', 1813), ('dreams', 1814), ('viernes', 1815), ('sudamérica', 1816), ('honduras', 1817), ('set', 1818), ('honor', 1819), ('outlaw', 1820), ('eden', 1821), ('gun', 1822), ('farian', 1823), ('nu', 1824), ('paula', 1825), ('alexander', 1826), ('finland', 1827), ('say', 1828), ('brunei', 1829), ('brasileiro', 1830), ('wanna', 1831), ('against', 1832), ('apartment', 1833), ('everywhere', 1834), ('va', 1835), ('44', 1836), ('behind', 1837), ('baking', 1838), ('maggie', 1839), ('listas', 1840), ('darkness', 1841), ('madness', 1842), ('6th', 1843), ('slick', 1844), ('ride', 1845), ('rough', 1846), ('ready', 1847), ('1983', 1848), ('norfolk', 1849), ('name', 1850), ('planet', 1851), ('johnston', 1852), ('carol', 1853), ('iv', 1854), ('ranch', 1855), ('camp', 1856), ('lebanon', 1857), ('bob', 1858), ('bosnia', 1859), ('herzegovina', 1860), ('princess', 1861), ('1965', 1862), ('88', 1863), ('keys', 1864), ('fry', 1865), ('tx', 1866), ('carlos', 1867), ('met', 1868), ('decade', 1869), ('domingo', 1870), ('bite', 1871), ('jewish', 1872), ('chillout', 1873), ('gene', 1874), ('diann', 1875), ('louis', 1876), ('tuvalu', 1877), ('gangsta', 1878), ('diary', 1879), ('1998', 1880), ('kosovo', 1881), ('1967', 1882), ('flower', 1883), ('1994', 1884), ('afghanistan', 1885), ('clarke', 1886), ('sahara', 1887), ('kitts', 1888), ('nevis', 1889), ('03', 1890), ('sleeping', 1891), ('ghosts', 1892), ('dear', 1893), ('holly', 1894), ('jennifer', 1895), ('stop', 1896), ('showstopper', 1897), ('jane', 1898), ('rio', 1899), ('karl', 1900), ('lewis', 1901), ('botswana', 1902), ('seventeenth', 1903), ('africa', 1904), ('cameroon', 1905), ('bossa', 1906), ('nova', 1907), ('rainbow', 1908), ('keep', 1909), ('bryan', 1910), ('gregory', 1911), ('v', 1912), ('palm', 1913), ('masters', 1914), ('miles', 1915), ('2008', 1916), ('armenia', 1917), ('stand', 1918), ('35', 1919), ('travel', 1920), ('tale', 1921), ('todd', 1922), ('drum', 1923), ('daniel', 1924), ('fiji', 1925), ('gothic', 1926), ('somalia', 1927), ('mayotte', 1928), ('rwanda', 1929), ('llegando', 1930), ('ni', 1931), ('eighteenth', 1932), ('condition', 1933), ('réunion', 1934), ('our', 1935), ('turks', 1936), ('caicos', 1937), ('azerbaijan', 1938), ('15th', 1939), ('door', 1940), ('metalsucks', 1941), ('access', 1942), ('emotron', 1943), ('peters', 1944), ('pulse', 1945), ('landing', 1946), ('leopold', 1947), ('ben', 1948), ('decades', 1949), ('mom', 1950), ('joan', 1951), ('next', 1952), ('boys', 1953), ('workday', 1954), ('ground', 1955), ('argentina', 1956), ('merry', 1957), ('desert', 1958), ('barbados', 1959), ('creole', 1960), ('1st', 1961), ('sur', 1962), ('chillin', 1963), ('boss', 1964), ('flying', 1965), ('dale', 1966), ('clayton', 1967), ('noodle', 1968), ('mccracken', 1969), ('revived', 1970), ('tribute', 1971), ('cuba', 1972), ('belgium', 1973), ('escapada', 1974), ('shall', 1975), ('puccini', 1976), ('morris', 1977), ('2nd', 1978), ('crossroad', 1979), ('slovakia', 1980), ('caledonia', 1981), ('catch', 1982), ('kaori', 1983), ('strict', 1984), ('battlefield', 1985), ('cayman', 1986), ('antoinette', 1987), ('1982', 1988), ('antilles', 1989), ('with', 1990), ('key', 1991), ('knowledge', 1992), ('angela', 1993), ('timor', 1994), ('station', 1995), ('hunter', 1996), ('rumba', 1997), ('morgan', 1998), ('1976', 1999), ('marry', 2000), ('sierra', 2001), ('peaceful', 2002), ('couples', 2003), ('barbara', 2004), ('info', 2005), ('sebastian', 2006), ('crash', 2007), ('course', 2008), ('canadian', 2009), ('indonesian', 2010), ('mozart', 2011), ('crab', 2012), ('åland', 2013), ('well', 2014), ('relief', 2015), ('andorra', 2016), ('platinum', 2017), ('jazzy', 2018), ('app', 2019), ('store', 2020), ('hank', 2021), ('mccoy', 2022), ('fist', 2023), ('ribbon', 2024), ('sin', 2025), ('office', 2026), ('monster', 2027), ('molly', 2028), ('parade', 2029), ('bolivia', 2030), ('l', 2031), ('marino', 2032), ('1952', 2033), ('angola', 2034), ('25th', 2035), ('crime', 2036), ('palestine', 2037), ('landscape', 2038), ('lawrence', 2039), ('amber', 2040), ('sherlock', 2041), ('talk', 2042), ('waiting', 2043), ('modern', 2044), ('betty', 2045), ('rosana', 2046), ('31', 2047), ('mongolia', 2048), ('elegante', 2049), ('salsa', 2050), ('mickey', 2051), ('official', 2052), ('futuros', 2053), ('mcdonald', 2054), ('oman', 2055), ('xiang', 2056), ('brenda', 2057), ('angels', 2058), ('around', 2059), ('disney', 2060), ('jr', 2061), ('education', 2062), ('circus', 2063), ('egypt', 2064), ('edna', 2065), ('bacon', 2066), ('clase', 2067), ('souvlaki', 2068), ('clay', 2069), ('evans', 2070), ('stuart', 2071), ('fourteenth', 2072), ('bahamas', 2073), ('verde', 2074), ('entity', 2075), ('stories', 2076), ('master', 2077), ('records', 2078), ('flesh', 2079), ('viajes', 2080), ('tunisia', 2081), ('third', 2082), ('bank', 2083), ('trying', 2084), ('cole', 2085), ('greece', 2086), ('roger', 2087), ('bahrain', 2088), ('americana', 2089), ('1950', 2090), ('too', 2091), ('1986', 2092), ('grey', 2093), ('eagle', 2094), ('sint', 2095), ('maarten', 2096), ('riley', 2097), ('chile', 2098), ('he', 2099), ('benin', 2100), ('electronow', 2101), ('travelling', 2102), ('latvia', 2103), ('sensation', 2104), ('thunder', 2105), ('chad', 2106), ('build', 2107), ('maid', 2108), ('curacao', 2109), ('timeless', 2110), ('sri', 2111), ('gus', 2112), ('stevens', 2113), ('grunge', 2114), ('massive', 2115), ('soca', 2116), ('infusions', 2117), ('chase', 2118), ('silver', 2119), ('macao', 2120), ('22nd', 2121), ('burke', 2122), ('xplorer', 2123), ('uncharted', 2124), ('drake', 2125), ('walter', 2126), ('guam', 2127), ('electric', 2128), ('tajikistan', 2129), ('beats', 2130), ('shop', 2131), ('send', 2132), ('laos', 2133), ('congo', 2134), ('round', 2135), ('works', 2136), ('naomi', 2137), ('boost', 2138), ('pitcairn', 2139), ('phillips', 2140), ('grandes', 2141), ('unplugged', 2142), ('italy', 2143), ('treatment', 2144), ('across', 2145), ('never', 2146), ('chu', 2147), ('dominican', 2148), ('pennsylvania', 2149), ('kid', 2150), ('adobe', 2151), ('hombres', 2152), ('after', 2153), ('shadows', 2154), ('anthony', 2155), ('gretchen', 2156), ('than', 2157), ('canyon', 2158), ('joy', 2159), ('utah', 2160), ('chicago', 2161), ('orchestra', 2162), ('cello', 2163), ('guadeloupe', 2164), ('arms', 2165), ('easy', 2166), ('apart', 2167), ('rouge', 2168), ('underground', 2169), ('singapore', 2170), ('grove', 2171), ('hynes', 2172), ('main', 2173), ('deli', 2174), ('graham', 2175), ('lil', 2176), ('gamer', 2177), ('wine', 2178), ('1987', 2179), ('corner', 2180), ('kan', 2181), ('health', 2182), ('expected', 2183), ('waltz', 2184), ('heath', 2185), ('slow', 2186), ('romántica', 2187), ('guernsey', 2188), ('breed', 2189), ('kickass', 2190), ('bright', 2191), ('21st', 2192), ('steps', 2193), ('zezé', 2194), ('camargo', 2195), ('luciano', 2196), ('angeles', 2197), ('jennie', 2198), ('fight', 2199), ('hello', 2200), ('bedroom', 2201), ('shawn', 2202), ('box', 2203), ('quiero', 2204), ('youth', 2205), ('47', 2206), ('yourself', 2207), ('winnie', 2208), ('douglass', 2209), ('fi', 2210), ('wood', 2211), ('wall', 2212), ('solid', 2213), ('bluegrass', 2214), ('reverie', 2215), ('anniversary', 2216), ('swiss', 2217), ('metropolitan', 2218), ('dangles', 2219), ('emma', 2220), ('mellowed', 2221), ('gym', 2222), ('wayne', 2223), ('pachangueo', 2224), ('til', 2225), ('brutal', 2226), ('adrenaline', 2227), ('abdul', 2228), ('inyección', 2229), ('jonny', 2230), ('northeast', 2231), ('41', 2232), ('targeted', 2233), ('yesterday', 2234), ('amanda', 2235), ('listings', 2236), ('yolanda', 2237), ('charlotte', 2238), ('saucisse', 2239), ('millennium', 2240), ('hurts', 2241), ('ninth', 2242), ('famous', 2243), ('ren', 2244), ('skin', 2245), ('rogers', 2246), ('rachael', 2247), ('rick', 2248), ('push', 2249), ('button', 2250), ('wise', 2251), ('oliver', 2252), ('worlds', 2253), ('gluten', 2254), ('astor', 2255), ('territories', 2256), ('42', 2257), ('dressing', 2258), ('pirates', 2259), ('ai', 2260), ('rings', 2261), ('clapton', 2262), ('mediterranean', 2263), ('fly', 2264), ('teens', 2265), ('bobcat', 2266), ('bettye', 2267), ('community', 2268), ('wants', 2269), ('madison', 2270), ('deana', 2271), ('panama', 2272), ('born', 2273), ('wirth', 2274), ('money', 2275), ('elephant', 2276), ('jacinto', 2277), ('relish', 2278), ('quo', 2279), ('olga', 2280), ('souza', 2281), ('mill', 2282), ('madeleine', 2283), ('flow', 2284), ('saison', 2285), ('others', 2286), ('hannah', 2287), ('sylvia', 2288), ('plath', 2289), ('along', 2290), ('trower', 2291), ('blowfly', 2292), ('alice', 2293), ('peru', 2294), ('berry', 2295), ('jeremy', 2296), ('ina', 2297), ('mash', 2298), ('confusion', 2299), ('windows', 2300), ('1968', 2301), ('170', 2302), ('190', 2303), ('trentino', 2304), ('fink', 2305), ('twelfth', 2306), ('transatlantic', 2307), ('macedonia', 2308), ('czech', 2309), ('golden', 2310), ('caucasian', 2311), ('legendary', 2312), ('solos', 2313), ('municipal', 2314), ('caitlin', 2315), ('margaret', 2316), ('starts', 2317), ('khan', 2318), ('jenifer', 2319), ('inside', 2320), ('bread', 2321), ('beer', 2322), ('riders', 2323), ('skull', 2324), ('marilyn', 2325), ('tourte', 2326), ('puglia', 2327), ('canal', 2328), ('34', 2329), ('thousand', 2330), ('pasta', 2331), ('smart', 2332), ('mim', 2333), ('alternativa', 2334), ('praise', 2335), ('tokelau', 2336), ('franklin', 2337), ('iran', 2338), ('1978', 2339), ('greg', 2340), ('hawaii', 2341), ('ava', 2342), ('exit', 2343), ('gray', 2344), ('kelly', 2345), ('cuban', 2346), ('senegal', 2347), ('four', 2348), ('grande', 2349), ('kim', 2350), ('making', 2351), ('terror', 2352), ('better', 2353), ('nephew', 2354), ('hyun', 2355), ('double', 2356), ('belle', 2357), ('protected', 2358), ('baxter', 2359), ('deborah', 2360), ('route', 2361), ('josh', 2362), ('astronomy', 2363), ('thin', 2364), ('stephen', 2365), ('mirror', 2366), ('nauru', 2367), ('township', 2368), ('major', 2369), ('league', 2370), ('por', 2371), ('una', 2372), ('1989', 2373), ('michelle', 2374), ('chopin', 2375), ('crying', 2376), ('marina', 2377), ('newport', 2378), ('off', 2379), ('1992', 2380), ('sinfonía', 2381), ('kirk', 2382), ('thrash', 2383), ('swing', 2384), ('shine', 2385), ('iris', 2386), ('available', 2387), ('wes', 2388), ('dunbrody', 2389), ('cheapest', 2390), ('farm', 2391), ('17th', 2392), ('dick', 2393), ('cambodia', 2394), ('system', 2395), ('berghoff', 2396), ('nineteenth', 2397), ('darkest', 2398), ('colleagues', 2399), ('strange', 2400), ('serve', 2401), ('lit', 2402), ('lou', 2403), ('dallas', 2404), ('cabin', 2405), ('takes', 2406), ('floor', 2407), ('rainforest', 2408), ('suzuki', 2409), ('leanne', 2410), ('jesse', 2411), ('ford', 2412), ('jefferson', 2413), ('pakistan', 2414), ('cleveland', 2415), ('rita', 2416), ('burrito', 2417), ('buffalo', 2418), ('juan', 2419), ('brat', 2420), ('vengeance', 2421), ('tuscan', 2422), ('51', 2423), ('crate', 2424), ('diggers', 2425), ('anonymous', 2426), ('pearl', 2427), ('indiespensables', 2428), ('shoes', 2429), ('sardinian', 2430), ('monkey', 2431), ('watson', 2432), ('55', 2433), ('kurt', 2434), ('1985', 2435), ('mali', 2436), ('past', 2437), ('grass', 2438), ('mane', 2439), ('javanese', 2440), ('granddaughter', 2441), ('algeria', 2442), ('yo', 2443), ('ho', 2444), ('beau', 2445), ('sauce', 2446), ('meredith', 2447), ('sondra', 2448), ('university', 2449), ('sonning', 2450), ('niue', 2451), ('yamazaki', 2452), ('hostel', 2453), ('these', 2454), ('chance', 2455), ('save', 2456), ('bloody', 2457), ('sushis', 2458), ('finn', 2459), ('matrix', 2460), ('martinique', 2461), ('selena', 2462), ('palace', 2463), ('mo', 2464), ('bougatsa', 2465), ('friendesemana', 2466), ('nash', 2467), ('nation', 2468), ('ken', 2469), ('reno', 2470), ('bluff', 2471), ('kyrgyzstan', 2472), ('bell', 2473), ('noctámbulo', 2474), ('selling', 2475), ('flamenco', 2476), ('61', 2477), ('madagascar', 2478), ('shoot', 2479), ('1977', 2480), ('peaches', 2481), ('burger', 2482), ('phunkadelic', 2483), ('59', 2484), ('sabbath', 2485), ('dinnertime', 2486), ('acoustics', 2487), ('poland', 2488), ('sugar', 2489), ('twin', 2490), ('todays', 2491), ('ticket', 2492), ('tus', 2493), ('fiestas', 2494), ('organ', 2495), ('paraguay', 2496), ('beaver', 2497), ('bandas', 2498), ('sonoras', 2499), ('nick', 2500), ('cave', 2501), ('larry', 2502), ('eternal', 2503), ('trapeo', 2504), ('garden', 2505), ('nationaal', 2506), ('william', 2507), ('changes', 2508), ('behavior', 2509), ('bissau', 2510), ('business', 2511), ('…', 2512), ('ron', 2513), ('signed', 2514), ('xoxo', 2515), ('thacker', 2516), ('jamaica', 2517), ('nicaragua', 2518), ('trails', 2519), ('49', 2520), ('industrial', 2521), ('atlas', 2522), ('nana', 2523), ('ito', 2524), ('mister', 2525), ('biosphere', 2526), ('jason', 2527), ('confessions', 2528), ('elmer', 2529), ('tango', 2530), ('trattoria', 2531), ('redemption', 2532), ('willie', 2533), ('gloria', 2534), ('maxine', 2535), ('oak', 2536), ('enemy', 2537), ('experiment', 2538), ('djibouti', 2539), ('frescura', 2540), ('tommie', 2541), ('universe', 2542), ('beauty', 2543), ('robbie', 2544), ('iii', 2545), ('catholic', 2546), ('desire', 2547), ('electronics', 2548), ('brave', 2549), ('crazy', 2550), ('upstairs', 2551), ('iyer', 2552), ('nuts', 2553), ('bon', 2554), ('andrea', 2555), ('wedding', 2556), ('electrosafari', 2557), ('toast', 2558), ('1960', 2559), ('railroad', 2560), ('isaac', 2561), ('francis', 2562), ('healy', 2563), ('rockin', 2564), ('manor', 2565), ('puppet', 2566), ('bhutan', 2567), ('nação', 2568), ('program', 2569), ('boon', 2570), ('brick', 2571), ('laine', 2572), ('heard', 2573), ('legacy', 2574), ('lives', 2575), ('chemistry', 2576), ('royal', 2577), ('sherri', 2578), ('dana', 2579), ('natalie', 2580), ('victory', 2581), ('sorrow', 2582), ('gods', 2583), ('burning', 2584), ('estonia', 2585), ('brain', 2586), ('europe', 2587), ('tara', 2588), ('pete', 2589), ('yauch', 2590), ('lobster', 2591), ('newberg', 2592), ('fantasía', 2593), ('extreme', 2594), ('colour', 2595), ('armand', 2596), ('helden', 2597), ('cierra', 2598), ('puerta', 2599), ('bunny', 2600), ('progress', 2601), ('hold', 2602), ('trinidad', 2603), ('tobago', 2604), ('radar', 2605), ('hardcore', 2606), ('ahmad', 2607), ('gear', 2608), ('returns', 2609), ('olympia', 2610), ('yemen', 2611), ('ecological', 2612), ('sorted', 2613), ('detective', 2614), ('residence', 2615), ('lanka', 2616), ('buccaneer', 2617), ('anthems', 2618), ('erin', 2619), ('musica', 2620), ('española', 2621), ('invisible', 2622), ('manadonese', 2623), ('luxembourg', 2624), ('cruel', 2625), ('apache', 2626), ('outpost', 2627), ('robinson', 2628), ('mendoza', 2629), ('roadrunner', 2630), ('rec', 2631), ('political', 2632), ('comfort', 2633), ('gregori', 2634), ('maple', 2635), ('angelo', 2636), ('feeling', 2637), ('partners', 2638), ('rice', 2639), ('warped', 2640), ('word', 2641), ('lynn', 2642), ('w', 2643), ('petar', 2644), ('mysterious', 2645), ('detroit', 2646), ('fat', 2647), ('ambient', 2648), ('campus', 2649), ('unfinished', 2650), ('remains', 2651), ('beard', 2652), ('suriname', 2653), ('días', 2654), ('connection', 2655), ('fashion', 2656), ('patty', 2657), ('gordon', 2658), ('bush', 2659), ('carpenter', 2660), ('harbor', 2661), ('12th', 2662), ('nuclear', 2663), ('blast', 2664), ('jigs', 2665), ('reels', 2666), ('emoji', 2667), ('sos', 2668), ('thieves', 2669), ('27th', 2670), ('om', 2671), ('chapman', 2672), ('chanson', 2673), ('daddy', 2674), ('by', 2675), ('cowboy', 2676), ('esenciales', 2677), ('connie', 2678), ('evangeline', 2679), ('maldives', 2680), ('win', 2681), ('chavez', 2682), ('call', 2683), ('halal', 2684), ('chasity', 2685), ('luck', 2686), ('rapcaviar', 2687), ('refugee', 2688), ('sense', 2689), ('dan', 2690), ('episode', 2691), ('tenth', 2692), ('hurley', 2693), ('shannon', 2694), ('ward', 2695), ('medal', 2696), ('harding', 2697), ('curious', 2698), ('carey', 2699), ('surf', 2700), ('satire', 2701), ('wizard', 2702), ('bliss', 2703), ('pursuit', 2704), ('clear', 2705), ('nastya', 2706), ('kamenskih', 2707), ('divine', 2708), ('mughlai', 2709), ('selections', 2710), ('costa', 2711), ('colleague', 2712), ('once', 2713), ('daughters', 2714), ('metallica', 2715), ('flash', 2716), ('grenada', 2717), ('bound', 2718), ('most', 2719), ('enamorándose', 2720), ('seed', 2721), ('chamber', 2722), ('covered', 2723), ('wagon', 2724), ('mujeres', 2725), ('chasing', 2726), (\"n't\", 2727), ('mason', 2728), ('kenya', 2729), ('vickie', 2730), ('rave', 2731), ('shoe', 2732), ('dish', 2733), ('single', 2734), ('corinne', 2735), ('butterfly', 2736), ('stacy', 2737), ('coverage', 2738), ('santa', 2739), ('keith', 2740), ('society', 2741), ('pain', 2742), ('burns', 2743), ('soundscapes', 2744), ('crossing', 2745), ('joey', 2746), ('delta', 2747), ('hoping', 2748), ('alan', 2749), ('channel', 2750), ('38', 2751), ('witness', 2752), ('talks', 2753), ('countdown', 2754), ('ochs', 2755), ('fortune', 2756), ('blonde', 2757), ('independent', 2758), ('atlantic', 2759), ('adams', 2760), ('jade', 2761), ('belize', 2762), ('barry', 2763), ('edit', 2764), ('casserole', 2765), ('myth', 2766), ('1995', 2767), ('sheila', 2768), ('full', 2769), ('anne', 2770), ('laurie', 2771), ('polish', 2772), ('comes', 2773), ('robertson', 2774), ('berlin', 2775), ('anochecer', 2776), ('urbano', 2777), ('nigeria', 2778), ('hope', 2779), ('sexy', 2780), ('sicilian', 2781), ('crowd', 2782), ('zone', 2783), ('anarchy', 2784), ('cassie', 2785), ('restaurnt', 2786), ('team', 2787), ('19th', 2788), ('décadas', 2789), ('steampunk', 2790), ('ik', 2791), ('hawaiian', 2792), ('rise', 2793), ('kipelov', 2794), ('moroccan', 2795), ('ruby', 2796), ('rocky', 2797), ('dominica', 2798), ('rider', 2799), ('roses', 2800), ('damon', 2801), ('genuine', 2802), ('burn', 2803), ('guys', 2804), ('twerkout', 2805), ('ideas', 2806), ('knight', 2807), ('kosher', 2808), ('adrian', 2809), ('liberia', 2810), ('rosemary', 2811), ('pizzas', 2812), ('nine', 2813), ('break', 2814), ('picnic', 2815), ('dixon', 2816), ('26th', 2817), ('indietronic', 2818), ('ali', 2819), ('stewart', 2820), ('episodes', 2821), ('justin', 2822), ('romantic', 2823), ('malta', 2824), ('historical', 2825), ('girlfriend', 2826), ('hate', 2827), ('gaslight', 2828), ('portrait', 2829), ('wings', 2830), ('abbott', 2831), ('hiphop', 2832), ('economic', 2833), ('association', 2834), ('funny', 2835), ('operación', 2836), ('bikini', 2837), ('thailand', 2838), ('operation', 2839), ('lincoln', 2840), ('montreal', 2841), ('cappella', 2842), ('knows', 2843), ('must', 2844), ('dvd', 2845), ('straight', 2846), ('northeastern', 2847), ('fries', 2848), ('studies', 2849), ('stuffed', 2850), ('nashville', 2851), ('14th', 2852), ('christina', 2853), ('haunted', 2854), ('fields', 2855), ('slaughterhouse', 2856), ('innocent', 2857), ('pleasant', 2858), ('honeymoon', 2859), ('rewind', 2860), ('colombia', 2861), ('rapids', 2862), ('richardson', 2863), ('made', 2864), ('israel', 2865), ('fred', 2866), ('uganda', 2867), ('grandkid', 2868), ('fabri', 2869), ('fibra', 2870), ('starship', 2871), ('polygon', 2872), ('generation', 2873), ('norway', 2874), ('salade', 2875), ('masada', 2876), ('moonlight', 2877), ('uintah', 2878), ('ahbez', 2879), ('romanian', 2880), ('stle', 2881), ('shows', 2882), ('arlene', 2883), ('tear', 2884), ('git', 2885), ('stick', 2886), ('anything', 2887), ('unborn', 2888), ('pretty', 2889), ('paisley', 2890), ('maynard', 2891), ('keenan', 2892), ('chair', 2893), ('technical', 2894), ('fun', 2895), ('iceland', 2896), ('honey', 2897), ('buckland', 2898), ('buzz', 2899), ('guatemala', 2900), ('killarney', 2901), ('na', 2902), ('ballet', 2903), ('sukkot', 2904), ('ines', 2905), ('noël', 2906), ('coti', 2907), ('blvd', 2908), ('conduct', 2909), ('barberville', 2910), ('feather', 2911), ('monica', 2912), ('etta', 2913), ('charming', 2914), ('sad', 2915), ('norma', 2916), ('fantasy', 2917), ('rivers', 2918), ('caretaker', 2919), ('wrong', 2920), ('reasons', 2921), ('espen', 2922), ('lind', 2923), ('edm', 2924), ('treeful', 2925), ('starling', 2926), ('marylou', 2927), ('amelia', 2928), ('plpay', 2929), ('asia', 2930), ('nitollano', 2931), ('brewing', 2932), ('monkeys', 2933), ('jeannie', 2934), ('beardslee', 2935), ('fairview', 2936), ('piazzolla', 2937), ('aurora', 2938), ('monty', 2939), ('secunderabad', 2940), ('savoy', 2941), ('dschiwan', 2942), ('gasparjan', 2943), ('beth', 2944), ('kristine', 2945), ('alive', 2946), ('resurrection', 2947), ('rage', 2948), ('n’t', 2949), ('sacred', 2950), ('nicer', 2951), ('magnifico', 2952), ('michele', 2953), ('oldfield', 2954), ('rustic', 2955), ('noel', 2956), ('souvenirs', 2957), ('eletro', 2958), ('think', 2959), ('cyber', 2960), ('abby', 2961), ('playa', 2962), ('super', 2963), ('bake', 2964), ('se', 2965), ('seamus', 2966), ('heaney', 2967), ('collected', 2968), ('poems', 2969), ('carson', 2970), ('aisha', 2971), ('beauregard', 2972), ('stain', 2973), ('troy', 2974), ('andrews', 2975), ('powerhouses', 2976), ('burgers', 2977), ('shamrock', 2978), ('mine', 2979), ('sha', 2980), ('hallwood', 2981), ('chin', 2982), ('femme', 2983), ('fatale', 2984), ('waves', 2985), ('try', 2986), ('preferably', 2987), ('peyroux', 2988), ('cary', 2989), ('foreign', 2990), ('both', 2991), ('handel', 2992), ('jesus', 2993), ('digging', 2994), ('wheatley', 2995), ('merengue', 2996), ('amore', 2997), ('schenker', 2998), ('lindsay', 2999), ('rockabilly', 3000), ('mania', 3001), (\"fisn'n\", 3002), ('boone', 3003), ('landers', 3004), ('davydov', 3005), ('reyna', 3006), ('napoleon', 3007), ('xiv', 3008), ('sharlene', 3009), ('graduate', 3010), ('pauline', 3011), ('row', 3012), ('alla', 3013), ('ealing', 3014), ('austria', 3015), ('candi', 3016), ('staton', 3017), ('believe', 3018), ('peja', 3019), ('scandinavian', 3020), ('amityville', 3021), ('wells', 3022), ('amir', 3023), ('sappho', 3024), ('special', 3025), ('curtis', 3026), ('thai', 3027), ('written', 3028), ('smashers', 3029), ('namibia', 3030), ('glenda', 3031), ('lois', 3032), ('tamra', 3033), ('farmington', 3034), ('crossroads', 3035), ('meadowood', 3036), ('hook', 3037), ('reflection', 3038), ('register', 3039), ('shell', 3040), ('complex', 3041), ('slim', 3042), ('playlsit', 3043), ('crimson', 3044), ('ammunition', 3045), ('sweeney', 3046), ('chieko', 3047), ('ochi', 3048), ('breaks', 3049), ('barker', 3050), ('directions', 3051), ('female', 3052), ('common', 3053), ('traffic', 3054), ('eternity', 3055), ('fain', 3056), ('leigh', 3057), ('banks', 3058), ('jarvis', 3059), ('cocker', 3060), ('vt', 3061), ('tiger', 3062), ('sia', 3063), ('furler', 3064), ('2010s', 3065), ('doi', 3066), ('johnnie', 3067), ('hermann', 3068), ('baumann', 3069), ('depot', 3070), ('lomax', 3071), ('kent', 3072), ('remembrance', 3073), ('uncommon', 3074), ('grounds', 3075), ('elena', 3076), ('lonely', 3077), ('twenty', 3078), ('elastic', 3079), ('bouvet', 3080), ('metalcore', 3081), ('persian', 3082), ('magical', 3083), ('bb', 3084), ('events', 3085), ('looked', 3086), ('onion', 3087), ('mauritius', 3088), ('mick', 3089), ('robotics', 3090), ('dong', 3091), ('cali', 3092), ('guests', 3093), ('triple', 3094), ('vasquez', 3095), ('ouzeri', 3096), ('baba', 3097), ('au', 3098), ('bouchon', 3099), ('gateau', 3100), ('synthpop', 3101), ('meriton', 3102), ('tallinn', 3103), ('suite', 3104), ('magnificent', 3105), ('cin', 3106), ('lagaylia', 3107), ('frazier', 3108), ('intense', 3109), ('studying', 3110), ('caleigh', 3111), ('afterlife', 3112), ('holtville', 3113), ('kate', 3114), ('cabeza', 3115), ('grape', 3116), ('intensity', 3117), ('nee', 3118), ('kyle', 3119), ('1953', 3120), ('lift', 3121), ('baila', 3122), ('jill', 3123), ('toi', 3124), ('hammett', 3125), ('enough', 3126), ('enjoy', 3127), ('marc', 3128), ('dennis', 3129), ('rhymes', 3130), ('angel', 3131), ('diarios', 3132), ('bicicleta', 3133), ('emil', 3134), ('heidi', 3135), ('therese', 3136), ('clara', 3137), ('antarctica', 3138), ('ric', 3139), ('swan', 3140), ('politics', 3141), ('danni', 3142), ('bassan', 3143), ('glassy', 3144), ('turkey', 3145), ('wikipedia', 3146), ('cd', 3147), ('selection', 3148), ('jami', 3149), ('grant', 3150), ('sisters', 3151), ('fate', 3152), ('symphonic', 3153), ('burundi', 3154), ('larsen', 3155), ('cope', 3156), ('willow', 3157), ('jody', 3158), ('ishq', 3159), ('vinson', 3160), ('england', 3161), ('roads', 3162), ('rd', 3163), ('leo', 3164), ('karin', 3165), ('dreijer', 3166), ('andersson', 3167), ('demonstration', 3168), ('many', 3169), ('viktor', 3170), ('russell', 3171), ('atomic', 3172), ('matthew', 3173), ('hola', 3174), ('prom', 3175), ('karina', 3176), ('japanese', 3177), ('stella', 3178), ('fires', 3179), ('imelda', 3180), ('battles', 3181), ('robots', 3182), ('ami', 3183), ('aliens', 3184), ('banana', 3185), ('picasso', 3186), ('argentinian', 3187), ('crouch', 3188), ('hagerman', 3189), ('madden', 3190), ('nfl', 3191), ('corrina', 3192), ('fighting', 3193), ('donna', 3194), ('strength', 3195), ('pianist', 3196), ('tami', 3197), ('cyprus', 3198), ('dement', 3199), ('based', 3200), ('pot', 3201), ('doughnuts', 3202), ('chapel', 3203), ('78', 3204), ('cistern', 3205), ('samba', 3206), ('boogie', 3207), ('manuelita', 3208), ('pledge', 3209), ('itch', 3210), ('driven', 3211), ('champagne', 3212), ('showers', 3213), ('boomtown', 3214), ('rats', 3215), ('angelita', 3216), ('entire', 3217), ('fern', 3218), ('shaggy', 3219), ('icon', 3220), ('airbnb', 3221), ('corcovado', 3222), ('funtwo', 3223), ('control', 3224), ('monroe', 3225), ('cobain', 3226), ('forth', 3227), ('timbo', 3228), ('tries', 3229), ('leonard', 3230), ('harrison', 3231), ('marsch', 3232), ('papa', 3233), ('gucci', 3234), ('reproductions', 3235), ('digital', 3236), ('infantil', 3237), ('blanca', 3238), ('odd', 3239), ('lynne', 3240), ('freedom', 3241), ('computer', 3242), ('apocalypse', 3243), ('leonville', 3244), ('ghetto', 3245), ('jocque', 3246), ('1984', 3247), ('scene', 3248), ('meze', 3249), ('rogues', 3250), ('saddle', 3251), ('fabulosos', 3252), ('cadillacs', 3253), ('tunnel', 3254), ('andreas', 3255), ('dangers', 3256), ('mounted', 3257), ('tia', 3258), ('madeline', 3259), ('journeyman', 3260), ('fantastic', 3261), ('à', 3262), ('era', 3263), ('igor', 3264), ('joanna', 3265), ('virales', 3266), ('siempre', 3267), ('places', 3268), ('seduction', 3269), ('lebanese', 3270), ('melbourne', 3271), ('birch', 3272), ('savage', 3273), ('church', 3274), ('feed', 3275), ('pelham', 3276), ('curl', 3277), ('papers', 3278), ('37', 3279), ('annie', 3280), ('tesh', 3281), ('crusher', 3282), ('rollerdisco', 3283), ('bastian', 3284), ('baroque', 3285), ('tamagotchi', 3286), ('message', 3287), ('indiespain', 3288), ('human', 3289), ('humour', 3290), ('enter', 3291), ('addicted', 3292), ('dying', 3293), ('write', 3294), ('affair', 3295), ('sims', 3296), ('h', 3297), ('beethoven', 3298), ('testament', 3299), ('hawk', 3300), ('freight', 3301), ('panic', 3302), ('max', 3303), ('sugarfoot', 3304), ('gamble', 3305), ('paranormal', 3306), ('capistrano', 3307), ('beautiful', 3308), ('ironing', 3309), ('minor', 3310), ('outlying', 3311), ('festoni', 3312), ('mclean', 3313), ('princesas', 3314), ('false', 3315), ('highlands', 3316), ('ozzy', 3317), ('playist', 3318), ('memory', 3319), ('brad', 3320), ('kane', 3321), ('pumping', 3322), ('bars', 3323), ('wwe', 3324), ('legends', 3325), ('kill', 3326), ('peaks', 3327), ('goldie', 3328), ('lambertville', 3329), ('haiti', 3330), ('mina', 3331), ('caputo', 3332), ('myself', 3333), ('native', 3334), ('waffles', 3335), ('tarte', 3336), ('ghostbusters', 3337), ('sirusho', 3338), ('elrow', 3339), ('gatlin', 3340), ('mob', 3341), ('punishment', 3342), ('booze', 3343), ('claudine', 3344), ('shelley', 3345), ('troll', 3346), ('witch', 3347), ('wildorado', 3348), ('colette', 3349), ('learning', 3350), ('sabah', 3351), ('’re', 3352), ('over', 3353), ('abrar', 3354), ('haq', 3355), ('nina', 3356), ('essential', 3357), ('carnot', 3358), ('mad', 3359), ('railway', 3360), ('friona', 3361), ('yuna', 3362), ('mu', 3363), ('ko', 3364), ('phetra', 3365), ('administrative', 3366), ('professionals', 3367), ('sonata', 3368), ('cove', 3369), ('goof', 3370), ('walt', 3371), ('palmer', 3372), ('kudai', 3373), ('mel', 3374), ('draisey', 3375), ('springtime', 3376), ('morocco', 3377), ('unholy', 3378), ('count', 3379), ('doyle', 3380), ('bernstein', 3381), ('dutch', 3382), ('heartbreak', 3383), ('medical', 3384), ('bitch', 3385), ('medley', 3386), ('dcode2016', 3387), ('deersville', 3388), ('lavina', 3389), ('tun', 3390), ('forecasted', 3391), ('¡', 3392), ('milagros', 3393), ('zachary', 3394), ('formby', 3395), ('sundown', 3396), ('vampire', 3397), ('hardstyle', 3398), ('german', 3399), ('shades', 3400), ('gratin', 3401), ('bump', 3402), ('lover', 3403), ('benjamin', 3404), ('millay', 3405), ('balance', 3406), ('shot', 3407), ('winifred', 3408), ('koichi', 3409), ('jimmie', 3410), ('comoros', 3411), ('enid', 3412), ('miracle', 3413), ('laurelhurst', 3414), ('unseen', 3415), ('rhett', 3416), ('whitby', 3417), ('hind', 3418), ('mongolian', 3419), ('gardens', 3420), ('eternally', 3421), ('marko', 3422), ('desantis', 3423), ('atticus', 3424), ('violet', 3425), ('forecase', 3426), ('marty', 3427), ('exiled', 3428), ('darker', 3429), ('phoenix', 3430), ('climax', 3431), ('1979', 3432), ('mangeshkar', 3433), ('hayes', 3434), ('within', 3435), ('aunt', 3436), ('gonzales', 3437), ('les', 3438), ('pan', 3439), ('chen', 3440), ('mouth', 3441), ('ireland', 3442), ('science', 3443), ('teen', 3444), ('gospel', 3445), ('frankie', 3446), ('spinnin', 3447), ('folly', 3448), ('ladies', 3449), ('laugh', 3450), ('wolseley', 3451), ('germany', 3452), ('drink', 3453), ('passage', 3454), ('ritmos', 3455), ('closed', 3456), ('jackson', 3457), ('economics', 3458), ('rate', 3459), ('macmaster', 3460), ('das', 3461), ('assault', 3462), ('105th', 3463), ('utsler', 3464), ('bronislau', 3465), ('kaper', 3466), ('belongs', 3467), ('orchard', 3468), ('holidays', 3469), ('tropical', 3470), ('linda', 3471), ('strawberry', 3472), ('mohammad', 3473), ('reza', 3474), ('lindas', 3475), ('mundo', 3476), ('monaco', 3477), ('commons', 3478), ('39', 3479), ('among', 3480), ('scandalous', 3481), ('spades', 3482), ('ariston', 3483), ('manos', 3484), ('asking', 3485), ('horn', 3486), ('personal', 3487), ('jono', 3488), ('dancehall', 3489), ('odessa', 3490), ('yusef', 3491), ('lateef', 3492), ('howard', 3493), ('engine', 3494), ('54', 3495), ('letha', 3496), ('claude', 3497), ('vonstroke', 3498), ('assassin', 3499), ('wheeler', 3500), ('generations', 3501), ('klamath', 3502), ('nips', 3503), ('candy', 3504), ('won', 3505), ('smile', 3506), ('sterling', 3507), ('jacksonville', 3508), ('walls', 3509), ('those', 3510), ('published', 3511), ('taking', 3512), ('social', 3513), ('psychology', 3514), ('alain', 3515), ('caron', 3516), ('donut', 3517), ('cats', 3518), ('comics', 3519), ('arab', 3520), ('emirates', 3521), ('pepperoni', 3522), ('dishes', 3523), ('autry', 3524), ('martyn', 3525), ('avenue', 3526), ('takahito', 3527), ('eguchi', 3528), ('maki', 3529), ('livonia', 3530), ('hardin', 3531), ('acres', 3532), ('follow', 3533), ('bless', 3534), ('gambia', 3535), ('hunting', 3536), ('barthélemy', 3537), ('bangladesh', 3538), ('natasha', 3539), ('kimberley', 3540), ('goa', 3541), ('ler', 3542), ('lalonde', 3543), ('noam', 3544), ('myrtle', 3545), ('tight', 3546), ('genaro', 3547), ('elk', 3548), ('giovanni', 3549), ('battista', 3550), ('guadagnini', 3551), ('leticia', 3552), ('melva', 3553), ('edwards', 3554), ('secondary', 3555), ('loyola', 3556), ('phineas', 3557), ('redux', 3558), ('rebekah', 3559), ('chisholm', 3560), ('motion', 3561), ('covers', 3562), ('ups', 3563), ('harkes', 3564), ('features', 3565), ('griffin', 3566), ('soldier', 3567), ('funked', 3568), ('kisaki', 3569), ('tape', 3570), ('nadine', 3571), ('beginning', 3572), ('cox', 3573), ('whm', 3574), ('retrovisor', 3575), ('geronimo', 3576), ('bt', 3577), ('bert', 3578), ('supernatural', 3579), ('powers', 3580), ('animals', 3581), ('fillmore', 3582), ('deal', 3583), ('ferry', 3584), ('police', 3585), ('charenton', 3586), ('soon', 3587), ('raining', 3588), ('clifton', 3589), ('dinosaur', 3590), ('amorevoli', 3591), ('riding', 3592), ('diamonds', 3593), ('manthan', 3594), ('target', 3595), ('compilation', 3596), ('thy', 3597), ('sinatra', 3598), ('cahn', 3599), ('areas', 3600), ('prophecy', 3601), ('23rd', 3602), ('cupcakes', 3603), ('mauritania', 3604), ('nerding', 3605), ('closer', 3606), ('stupid', 3607), ('fro', 3608), ('salt', 3609), ('pavarotti', 3610), ('toy', 3611), ('same', 3612), ('marche', 3613), ('pioneer', 3614), ('lenny', 3615), ('oasis', 3616), ('frío', 3617), ('beneath', 3618), ('harvest', 3619), ('success', 3620), ('natsu', 3621), ('booked', 3622), ('keren', 3623), ('mcgill', 3624), ('yet', 3625), ('action', 3626), ('lu', 3627), ('bing', 3628), ('alta', 3629), ('novelties', 3630), ('claw', 3631), ('intimate', 3632), ('downtempo', 3633), ('change', 3634), ('mountainair', 3635), ('blini', 3636), ('mouse', 3637), ('yankee', 3638), ('annette', 3639), ('meyer', 3640), ('eleven', 3641), ('fargo', 3642), ('taste', 3643), ('potter', 3644), ('catahoula', 3645), ('cleopatra', 3646), ('details', 3647), ('spyforce', 3648), ('limit', 3649), ('ann', 3650), ('lists', 3651), ('sir', 3652), ('winston', 3653), ('ono', 3654), ('lennon', 3655), ('ribbons', 3656), ('cocktail', 3657), ('tiny', 3658), ('mood', 3659), ('frontiers', 3660), ('ecology', 3661), ('environment', 3662), ('tramp', 3663), ('singers', 3664), ('cosby', 3665), ('bees', 3666), ('shirley', 3667), ('ecola', 3668), ('stonewood', 3669), ('foot', 3670), ('clan', 3671), ('lidell', 3672), ('tina', 3673), ('1956', 3674), ('lupe', 3675), ('jaula', 3676), ('oro', 3677), ('mantler', 3678), ('bullets', 3679), ('warriors', 3680), ('barbecue', 3681), ('britpop', 3682), ('unite', 3683), ('kirsten', 3684), ('anguilla', 3685), ('craving', 3686), ('ethiopia', 3687), ('dancer', 3688), ('samurai', 3689), ('som', 3690), ('manifesto', 3691), ('nevermore', 3692), ('wren', 3693), ('ghana', 3694), ('tu', 3695), ('ebi', 3696), ('kiribati', 3697), ('waits', 3698), ('sophisticated', 3699), ('hammer', 3700), ('ringo', 3701), ('muppet', 3702), ('sleepy', 3703), ('fayette', 3704), ('tide', 3705), ('hiptronix', 3706), ('sushi', 3707), ('some', 3708), ('cubby', 3709), ('swaziland', 3710), ('shinji', 3711), ('miyazaki', 3712), ('jesper', 3713), ('kyd', 3714), ('lakeisha', 3715), ('marguerite', 3716), ('brunswick', 3717), ('paper', 3718), ('frantz', 3719), ('synth', 3720), ('pamela', 3721), ('haigler', 3722), ('sontha', 3723), ('ooru', 3724), ('memoirs', 3725), ('newspaper', 3726), ('manuel', 3727), ('julian', 3728), ('vs', 3729), ('cocos', 3730), ('sirivantha', 3731), ('adele', 3732), ('casey', 3733), ('salad', 3734), ('hole', 3735), ('jo', 3736), ('ruth', 3737), ('lorenzo', 3738), ('destiny', 3739), ('dolce', 3740), ('lolo', 3741), ('wilda', 3742), ('sanders', 3743), ('datil', 3744), ('matter', 3745), ('elma', 3746), ('ruiz', 3747), ('gibraltar', 3748), ('dakus', 3749), ('slovenia', 3750), ('maisonette', 3751), ('philly', 3752), ('patti', 3753), ('lane', 3754), ('españa', 3755), ('races', 3756), ('jeanne', 3757), ('stu', 3758), ('dub', 3759), ('origa', 3760), ('rodriguez', 3761), ('caliente', 3762), ('agent', 3763), ('melba', 3764), ('valverde', 3765), ('sweets', 3766), ('debbie', 3767), ('dougan', 3768), ('stage', 3769), ('then', 3770), ('elise', 3771), ('alma', 3772), ('sandoval', 3773), ('starcross', 3774), ('audra', 3775), ('belles', 3776), ('clements', 3777), ('mario', 3778), ('trisha', 3779), ('ernie', 3780), ('hawkins', 3781), ('vera', 3782), ('cheat', 3783), ('together', 3784), ('mode', 3785), ('moment', 3786), ('triumph', 3787), ('udupi', 3788), ('johansen', 3789), ('lies', 3790), ('clarice', 3791), ('path', 3792), ('webber', 3793), ('spirits', 3794), ('baylor', 3795), ('saw', 3796), ('crawford', 3797), ('elder', 3798), ('arena', 3799), ('suffer', 3800), ('screening', 3801), ('claus', 3802), ('kool', 3803), ('thee', 3804), ('daedelus', 3805), ('austin', 3806), ('furious', 3807), ('eighty', 3808), ('santos', 3809), ('cliffs', 3810), ('jared', 3811), ('hasselhoff', 3812), ('duck', 3813), ('iraq', 3814), ('offers', 3815), ('totowa', 3816), ('jethro', 3817), ('elkie', 3818), ('brooks', 3819), ('fatone', 3820), ('impulso', 3821), ('creativo', 3822), ('dearest', 3823), ('turtle', 3824), ('switzerland', 3825), ('lodge', 3826), ('nightmare', 3827), ('mile', 3828), ('alexandra', 3829), ('joel', 3830), ('hastings', 3831), ('svalbard', 3832), ('mayen', 3833), ('belarus', 3834), ('crush', 3835), ('author', 3836), ('clásica', 3837), ('venetian', 3838), ('torn', 3839), ('vatican', 3840), ('jamie', 3841), ('f', 3842), ('recordings', 3843), ('ayumi', 3844), ('hamasaki', 3845), ('milk', 3846), ('sins', 3847), ('beverly', 3848), ('alba', 3849), ('clone', 3850), ('tchaikovsky', 3851), ('clock', 3852), ('stephanie', 3853), ('biddle', 3854), ('fusil', 3855), ('josephine', 3856), ('press', 3857), ('working', 3858), ('croquembouche', 3859), ('ronnie', 3860), ('dio', 3861), ('numbers', 3862), ('donaldson', 3863), ('kreator', 3864), ('gwynedd', 3865), ('sympathy', 3866), ('hirasawa', 3867), ('ozma', 3868), ('engadget', 3869), ('thelma', 3870), ('aoyama', 3871), ('elizabeth', 3872), ('snake', 3873), ('meatball', 3874), ('cissy', 3875), ('level', 3876), ('jessica', 3877), ('uncle', 3878), ('ronald', 3879), ('isley', 3880), ('canem', 3881), ('demos', 3882), ('bottom', 3883), ('slut', 3884), ('sot', 3885), ('madrugando', 3886), ('willy', 3887), ('fool', 3888), ('monk', 3889), ('yeah', 3890), ('petra', 3891), ('kickboxer', 3892), ('peak', 3893), ('worms', 3894), ('reason', 3895), ('missing', 3896), ('harvey', 3897), ('fraser', 3898), ('ivan', 3899), ('yukon', 3900), ('safety', 3901), ('tobias', 3902), ('armageddon', 3903), ('ledoux', 3904), ('zebra', 3905), ('sold', 3906), ('feast', 3907), ('breakers', 3908), ('acid', 3909), ('truly', 3910), ('slimm', 3911), ('cutta', 3912), ('calhoun', 3913), ('junyang', 3914), ('private', 3915), ('phish', 3916), ('luther', 3917), ('maria', 3918), ('ventura', 3919), ('eve', 3920), ('low', 3921), ('bonaparte', 3922), ('job', 3923), ('shore', 3924), ('pillow', 3925), ('guilty', 3926), ('harveys', 3927), ('paolo', 3928), ('ballachulish', 3929), ('danny', 3930), ('damned', 3931), ('orgánica', 3932), ('hide', 3933), ('noreen', 3934), ('restaurants', 3935), ('caught', 3936), ('letters', 3937), ('porcupine', 3938), ('plague', 3939), ('bonnie', 3940), ('são', 3941), ('tomé', 3942), ('príncipe', 3943), ('cameo', 3944), ('malawi', 3945), ('beating', 3946), ('rebellion', 3947), ('remember', 3948), ('patrol', 3949), ('talking', 3950), ('meditate', 3951), ('dusk', 3952), ('deanna', 3953), ('wade', 3954), ('umbrian', 3955), ('fukuyama', 3956), ('yogurt', 3957), ('tsipouro', 3958), ('conrey', 3959), ('frontier', 3960), ('alok', 3961), ('lights', 3962), ('humor', 3963), ('concepcion', 3964), ('deacon', 3965), ('true', 3966), ('terrace', 3967), ('wolf', 3968), ('rie', 3969), ('valery', 3970), ('horace', 3971), ('orthodox', 3972), ('mound', 3973), ('allentown', 3974), ('seas', 3975), ('owen', 3976), ('turkmenistan', 3977), ('kjetil', 3978), ('vidar', 3979), ('haraldstad', 3980), ('cowley', 3981), ('killers', 3982), ('everything', 3983), ('rebecca', 3984), ('lithuania', 3985), ('upper', 3986), ('cadogan', 3987), ('garrison', 3988), ('steven', 3989), ('wendy', 3990), ('lesley', 3991), ('killing', 3992), ('repeat', 3993), ('proof', 3994), ('opa', 3995), ('rodney', 3996), ('whitaker', 3997), ('hess', 3998), ('mesa', 3999), ('challenge', 4000), ('miranda', 4001), ('collins', 4002), ('amy', 4003), ('balzary', 4004), ('army', 4005), ('timings', 4006), ('faroe', 4007), ('fallen', 4008), ('lexington', 4009), ('ryan', 4010), ('shutdown', 4011), ('valarie', 4012), ('hopes', 4013), ('retrowave', 4014), ('outrun', 4015), ('rope', 4016), ('goss', 4017), ('rolls', 4018), ('otis', 4019), ('lunchtime', 4020), ('bells', 4021), ('faces', 4022), ('moody', 4023), ('alvarez', 4024), ('maker', 4025), ('allardt', 4026), ('empire', 4027), ('restaraunt', 4028), ('marlene', 4029), ('firehouse', 4030), ('jillian', 4031), ('aprite', 4032), ('finestre', 4033), ('aired', 4034), ('vegetarian', 4035), ('showtime', 4036), ('dillard', 4037), ('darlene', 4038), ('eef', 4039), ('barzelay', 4040), ('poetry', 4041), ('hart', 4042), ('skatepark', 4043), ('drag', 4044), ('race', 4045), ('sells', 4046), ('mcguire', 4047), ('beef', 4048), ('loved', 4049), ('irwin', 4050), ('blob', 4051), ('hugh', 4052), ('masekela', 4053), ('bullet', 4054), ('thornton', 4055), ('philosophy', 4056), ('libre', 4057), ('stetson', 4058), ('aux', 4059), ('cord', 4060), ('privileges', 4061), ('inconfundible', 4062), ('mirrors', 4063), ('impressions', 4064), ('leone', 4065), ('lafayette', 4066), ('fins', 4067), ('whole', 4068), ('transformers', 4069), ('peacefulness', 4070), ('bajo', 4071), ('estrellas', 4072), ('mustard', 4073), ('sparro', 4074), ('countess', 4075), ('airi', 4076), ('acapella', 4077), ('bloom', 4078), ('scream', 4079), ('entre', 4080), ('costello', 4081), ('captain', 4082), ('amigos', 4083), ('carbuncle', 4084), ('celtic', 4085), ('putnam', 4086), ('dishwashing', 4087), ('prix', 4088), ('ivory', 4089), ('minami', 4090), ('tapes', 4091), ('yuki', 4092), ('koyanagi', 4093), ('whitebrook', 4094), ('trad', 4095), ('died', 4096), ('radical', 4097), ('frederick', 4098), ('robyn', 4099), ('hitchcock', 4100), ('ira', 4101), ('losco', 4102), ('babylon', 4103), ('1969', 4104), ('sand', 4105), ('wee', 4106), ('safe', 4107), ('wolfenberger', 4108), ('cook', 4109), ('pendleton', 4110), ('bitten', 4111), ('dungeons', 4112), ('dragons', 4113), ('mystara', 4114), ('ribs', 4115), ('operative', 4116), ('kazakhstan', 4117), ('faith', 4118), ('ethiopian', 4119), ('balinese', 4120), ('laying', 4121), ('boat', 4122), ('elsa', 4123), ('chinese', 4124), ('occasional', 4125), ('overload', 4126), ('bulgaria', 4127), ('sweat', 4128), ('feelin', 4129), ('mission', 4130), ('tarzan', 4131), ('apes', 4132), ('recuerdo', 4133), ('schuyler', 4134), ('stubborn', 4135), ('kinda', 4136), ('fellow', 4137), ('amott', 4138), ('jain', 4139), ('oxford', 4140), ('network', 4141), ('unleashed', 4142), ('bf', 4143), ('beijing', 4144), ('huanying', 4145), ('wing', 4146), ('lohan', 4147), ('dorothea', 4148), ('shaolin', 4149), ('temple', 4150), ('echo', 4151), ('religion', 4152), ('classified', 4153), ('tei', 4154), ('geraldine', 4155), ('alison', 4156), ('torrey', 4157), ('pines', 4158), ('release', 4159), ('listening', 4160), ('jungle', 4161), ('heritage', 4162), ('1963', 4163), ('dolly', 4164), ('charleston', 4165), ('strayhorn', 4166), ('edith', 4167), ('bones', 4168), ('quantum', 4169), ('thief', 4170), ('gilbert', 4171), ('coon', 4172), ('satanta', 4173), ('tetsuya', 4174), ('skies', 4175), ('sleeps', 4176), ('fuzzy', 4177), ('covenant', 4178), ('waters', 4179), ('revolution', 4180), ('ham', 4181), ('rest', 4182), ('nearly', 4183), ('anti', 4184), ('hungary', 4185), ('cliff', 4186), ('helena', 4187), ('khedive', 4188), ('pablo', 4189), ('58', 4190), ('pesterminator', 4191), ('exterminator', 4192), ('heavenly', 4193), ('studio', 4194), ('issue', 4195), ('empanada', 4196), ('chandler', 4197), ('jingle', 4198), ('scarlet', 4199), ('entrenar', 4200), ('arctic', 4201), ('campbell', 4202), ('momy', 4203), ('beware', 4204), ('note', 4205), ('keeling', 4206), ('hewitt', 4207), ('devils', 4208), ('todorova', 4209), ('prisoner', 4210), ('silence', 4211), ('screams', 4212), ('poet', 4213), ('seasons', 4214), ('gareth', 4215), ('pickled', 4216), ('cucumber', 4217), ('bach', 4218), ('siesta', 4219), ('carry', 4220), ('pearson', 4221), ('soda', 4222), ('stracciatella', 4223), ('maude', 4224), ('char', 4225), ('roadhouse', 4226), ('stranger', 4227), ('educational', 4228), ('genius', 4229), ('above', 4230), ('armstrong', 4231), ('roman', 4232), ('francesco', 4233), ('cover', 4234), ('spooning', 4235), ('muscle', 4236), ('timour', 4237), ('moutsouraev', 4238), ('tailor', 4239), ('public', 4240), ('uruguay', 4241), ('vertexguy', 4242), ('canta', 4243), ('ducha', 4244), ('fork', 4245), ('deweese', 4246), ('schemer', 4247), ('bonobo', 4248), ('cycle', 4249), ('trottole', 4250), ('brubeck', 4251), ('orgullo', 4252), ('thick', 4253), ('fleetwood', 4254), ('brit', 4255), ('1955', 4256), ('mikami', 4257), ('rockaway', 4258), ('michel', 4259), ('wow', 4260), ('festival', 4261), ('sara', 4262), ('titanic', 4263), ('niece', 4264), ('visit', 4265), ('nas', 4266), ('falmouth', 4267), ('estado', 4268), ('ánimo', 4269), ('isabella', 4270), ('endangered', 4271), ('species', 4272), ('haines', 4273), ('lion', 4274), ('yoshiki', 4275), ('enfield', 4276), ('liubi', 4277), ('shooter', 4278), ('halfway', 4279), ('granite', 4280), ('joshua', 4281), ('shame', 4282), ('islam', 4283), ('kiara', 4284), ('pugu', 4285), ('kebab', 4286), ('jonathan', 4287), ('courtney', 4288), ('hillview', 4289), ('christ', 4290), ('prediction', 4291), ('grandparents', 4292), ('logic', 4293), ('’ll', 4294), ('care', 4295), ('elliot', 4296), ('nuestros', 4297), ('documentary', 4298), ('walsh', 4299), ('singing', 4300), ('gamesradar', 4301), ('tawakoni', 4302), ('5th', 4303), ('vegan', 4304), ('idols', 4305), ('different', 4306), ('53', 4307), ('tracy', 4308), ('gas', 4309), ('fimd', 4310), ('sean', 4311), ('harlem', 4312), ('carmen', 4313), ('16th', 4314), ('liver', 4315), ('onions', 4316), ('henry', 4317), ('edinburgh', 4318), ('tibetan', 4319), ('batman', 4320), ('link', 4321), ('jelena', 4322), ('troopers', 4323), ('bettie', 4324), ('resturant', 4325), ('gang', 4326), ('chrome', 4327), ('springside', 4328), ('meets', 4329), ('horizons', 4330), ('josefina', 4331), ('—', 4332), ('victini', 4333), ('switzer', 4334), ('avispa', 4335), ('potée', 4336), ('mineiro', 4337), ('sociology', 4338), ('impossible', 4339), ('cupcake', 4340), ('porch', 4341), ('cookie', 4342), ('cambodian', 4343), ('shoals', 4344), ('softly', 4345), ('archive', 4346), ('psychologist', 4347), ('broadrick', 4348), ('utatsuki', 4349), ('nazad', 4350), ('academy', 4351), ('nightmares', 4352), ('shallow', 4353), ('hardcastle', 4354), ('sports', 4355), ('heterocycles', 4356), ('electronica', 4357), ('choclair', 4358), ('bso', 4359), ('unknown', 4360), ('rides', 4361), ('bethnal', 4362), ('alfredo', 4363), ('zitarrosa', 4364), ('pagosa', 4365), ('cusine', 4366), ('barrett', 4367), ('maureen', 4368), ('mcgovern', 4369), ('yui', 4370), ('placers', 4371), ('brats', 4372), ('battalions', 4373), ('inflated', 4374), ('scouse', 4375), ('fonseca', 4376), ('petti', 4377), ('forgotten', 4378), ('bowlegs', 4379), ('scenes', 4380), ('det', 4381), ('kimer', 4382), ('julefest', 4383), ('sanger', 4384), ('hulmeville', 4385), ('balko', 4386), ('ehsaan', 4387), ('noorani', 4388), ('nanette', 4389), ('pow', 4390), ('mia', 4391), ('recognition', 4392), ('jets', 4393), ('gon', 4394), ('ufc', 4395), ('connorville', 4396), ('kitchin', 4397), ('kenova', 4398), ('nannie', 4399), ('priscilla', 4400), ('lantern', 4401), ('dombey', 4402), ('guanica', 4403), ('annihilated', 4404), ('empires', 4405), ('paducah', 4406), ('images', 4407), ('biggest', 4408), ('loser', 4409), ('karusellen', 4410), ('nikolajewna', 4411), ('jessipowa', 4412), ('beatles', 4413), ('bedford', 4414), ('lehman', 4415), ('riveting', 4416), ('calistoga', 4417), ('unbecoming', 4418), ('fourche', 4419), ('parkers', 4420), ('tracie', 4421), ('noyack', 4422), ('brenham', 4423), ('lualualei', 4424), ('miriam', 4425), ('ida', 4426), ('stuck', 4427), ('sax', 4428), ('revenge', 4429), ('nerds', 4430), ('frizzell', 4431), ('beni', 4432), ('arashiro', 4433), ('ellen', 4434), ('lentil', 4435), ('creeper', 4436), ('stairs', 4437), ('kloden', 4438), ('drejer', 4439), ('martyr', 4440), ('likely', 4441), ('crisis', 4442), ('vii', 4443), ('ilse', 4444), ('delange', 4445), ('cater', 4446), ('fe', 4447), ('holtwood', 4448), ('korona', 4449), ('galena', 4450), ('satanas', 4451), ('legions', 4452), ('czarna', 4453), ('dziewczyna', 4454), ('kenia', 4455), ('arias', 4456), ('biology', 4457), ('issues', 4458), ('approach', 4459), ('manhasset', 4460), ('vic', 4461), ('ruggiero', 4462), ('clinchco', 4463), ('marci', 4464), ('swordsman', 4465), ('remler', 4466), ('darnestown', 4467), ('masashi', 4468), ('hamauzu', 4469), ('thale', 4470), ('bernie', 4471), ('castaway', 4472), ('reservea', 4473), ('pearblossom', 4474), ('restaurantin', 4475), ('perrytown', 4476), ('candice', 4477), ('nichole', 4478), ('nico', 4479), ('lanes', 4480), ('everett', 4481), ('gateway', 4482), ('arp', 4483), ('lyncourt', 4484), ('limey', 4485), ('tashan', 4486), ('dorrsett', 4487), ('handful', 4488), ('dust', 4489), ('wagram', 4490), ('alisha', 4491), ('florine', 4492), ('ottumwa', 4493), ('waretown', 4494), ('defense', 4495), ('baconton', 4496), ('tanintharyi', 4497), ('hilliard', 4498), ('trussville', 4499), ('aura', 4500), ('budapest', 4501), ('beacon', 4502), ('eurythmics', 4503), ('insoc', 4504), ('steele', 4505), ('odetta', 4506), ('sugarloaf', 4507), ('penthouse', 4508), ('edesville', 4509), ('hog', 4510), ('swain', 4511), ('hasan', 4512), ('saltik', 4513), ('gor', 4514), ('birdland', 4515), ('colt', 4516), ('winchester', 4517), ('linnane', 4518), ('malaysian', 4519), ('distrowatch', 4520), ('perfume', 4521), ('murderer', 4522), ('phantom', 4523), ('timerider', 4524), ('lyle', 4525), ('swann', 4526), ('alejandro', 4527), ('fernández', 4528), ('unicorn', 4529), ('comer', 4530), ('gem', 4531), ('muireann', 4532), ('nic', 4533), ('amhlaoibh', 4534), ('scription', 4535), ('stacey', 4536), ('luisa', 4537), ('emo', 4538), ('ramble', 4539), ('od', 4540), ('mene', 4541), ('odvikavaj', 4542), ('montchanin', 4543), ('journals', 4544), ('krondor', 4545), ('derose', 4546), ('whiteman', 4547), ('capicollo', 4548), ('kit', 4549), ('ilene', 4550), ('mokena', 4551), ('defenestration', 4552), ('ermintrude', 4553), ('inch', 4554), ('matilda', 4555), ('joelia', 4556), ('savitsjeva', 4557), ('proby', 4558), ('cordell', 4559), ('mosson', 4560), ('analyzer', 4561), ('compton', 4562), ('handicap', 4563), ('jenners', 4564), ('dales', 4565), ('jansen', 4566), ('palisades', 4567), ('xl', 4568), ('manthra', 4569), ('mothiram', 4570), ('tembe', 4571), ('phnom', 4572), ('sankos', 4573), ('sonny', 4574), ('stitt', 4575), ('henrie', 4576), ('mutuku', 4577), ('jeffrey', 4578), ('cardin', 4579), ('bombshells', 4580), ('neylandville', 4581), ('chyi', 4582), ('bickler', 4583), ('casting', 4584), ('crowns', 4585), ('stray', 4586), ('cat', 4587), ('jumbo', 4588), ('breathless', 4589), ('faust', 4590), ('jappeloup', 4591), ('lonergan', 4592), ('moores', 4593), ('maquoketa', 4594), ('giodi', 4595), ('piper', 4596), ('lena', 4597), ('horne', 4598), ('reverence', 4599), ('boden', 4600), ('brothers', 4601), ('encyclopedia', 4602), ('integer', 4603), ('sequences', 4604), ('miguel', 4605), ('bosé', 4606), ('thrones', 4607), ('bazan', 4608), ('needing', 4609), ('sencha', 4610), ('intrigue', 4611), ('myers', 4612), ('bouchée', 4613), ('clam', 4614), ('miley', 4615), ('cyrus', 4616), ('faccetta', 4617), ('nera', 4618), ('leroi', 4619), ('origin', 4620), ('milky', 4621), ('selva', 4622), ('jedediah', 4623), ('hoc', 4624), ('scheudle', 4625), ('dells', 4626), ('uses', 4627), ('whistler', 4628), ('mettawa', 4629), ('torch', 4630), ('medieval', 4631), ('ahead', 4632), ('schubert', 4633), ('cotton', 4634), ('cause', 4635), ('effect', 4636), ('moran', 4637), ('dormi', 4638), ('situazione', 4639), ('non', 4640), ('è', 4641), ('buona', 4642), ('nightfall', 4643), ('szahram', 4644), ('nazeri', 4645), ('lode', 4646), ('tamio', 4647), ('okuda', 4648), ('abyss', 4649), ('meduza', 4650), ('nurse', 4651), ('mauro', 4652), ('picotto', 4653), ('reuben', 4654), ('inventions', 4655), ('hampartsoum', 4656), ('limondjian', 4657), ('josie', 4658), ('carissa', 4659), ('sp', 4660), ('balasubrahmanyam', 4661), ('cidade', 4662), ('árvore', 4663), ('resort', 4664), ('notasulga', 4665), ('design', 4666), ('2003–2013', 4667), ('roseburg', 4668), ('searves', 4669), ('kouglof', 4670), ('composer', 4671), ('oliveros', 4672), ('chelsea', 4673), ('hayden', 4674), ('archipelago', 4675), ('mezzes', 4676), ('etna', 4677), ('psychadelic', 4678), ('krizz', 4679), ('kaliko', 4680), ('charlene', 4681), ('frontalot', 4682), ('dancefloor', 4683), ('gasport', 4684), ('stripes', 4685), ('bonita', 4686), ('treasure', 4687), ('receipt', 4688), ('mandino', 4689), ('omnipresent', 4690), ('noveskey', 4691), ('murphy', 4692), ('twinkie', 4693), ('lower', 4694), ('shahrum', 4695), ('kashani', 4696), ('glorious', 4697), ('brumley', 4698), ('whistling', 4699), ('gimble', 4700), ('vicky', 4701), ('leandros', 4702), ('wentworth', 4703), ('mere', 4704), ('lapsed', 4705), ('frayser', 4706), ('rivalry', 4707), ('dachigam', 4708), ('bailey', 4709), ('armistead', 4710), ('burwell', 4711), ('abdel', 4712), ('halim', 4713), ('hafez', 4714), ('yamhill', 4715), ('colic', 4716), ('brokaw', 4717), ('gainesville', 4718), ('vigilantes', 4719), ('pittsburgh', 4720), ('salil', 4721), ('chowdhury', 4722), ('annabella', 4723), ('lwin', 4724), ('ulterior', 4725), ('motive', 4726), ('swat', 4727), ('museum', 4728), ('sheri', 4729), ('danger', 4730), ('neva', 4731), ('parker', 4732), ('overton', 4733), ('pattillo', 4734), ('halibut', 4735), ('abominations', 4736), ('delft', 4737), ('ours', 4738), ('prompton', 4739), ('mew', 4740), ('polite', 4741), ('cecil', 4742), ('womack', 4743), ('kingsley', 4744), ('chee', 4745), ('hun', 4746), ('sebastien', 4747), ('grainger', 4748), ('boreas', 4749), ('eyota', 4750), ('meg', 4751), ('seron', 4752), ('farmer', 4753), ('adelaide', 4754), ('nordland', 4755), ('victoria', 4756), ('whip', 4757), ('question', 4758), ('pho', 4759), ('neuroscience', 4760), ('specialist', 4761), ('testaroli', 4762), ('wittig', 4763), ('suthep', 4764), ('pui', 4765), ('heredity', 4766), ('superior', 4767), ('rod', 4768), ('argent', 4769), ('propuesta', 4770), ('shorty', 4771), ('seduced', 4772), ('groucutt', 4773), ('switching', 4774), ('channels', 4775), ('shootings', 4776), ('cocuy', 4777), ('horatio', 4778), ('paparizou', 4779), ('colfax', 4780), ('wipers', 4781), ('raisins', 4782), ('secs', 4783), ('et', 4784), ('amandes', 4785), ('farmingdale', 4786), ('rhodes', 4787), ('marvin', 4788), ('payne', 4789), ('totsuzen', 4790), ('cannelloni', 4791), ('somewhere', 4792), ('else', 4793), ('untold', 4794), ('dew', 4795), ('rey', 4796), ('ruins', 4797), ('lyrical', 4798), ('nanoha', 4799), ('strikers', 4800), ('julie', 4801), ('driscoll', 4802), ('kibum', 4803), ('129', 4804), ('rosenbaum', 4805), ('olmitz', 4806), ('howards', 4807), ('known', 4808), ('chain', 4809), ('sportsdome', 4810), ('cineexport', 4811), ('luckiest', 4812), ('furusato', 4813), ('ocelot', 4814), ('halsey', 4815), ('joong', 4816), ('pruntytown', 4817), ('oriel', 4818), ('allison', 4819), ('chico', 4820), ('buarque', 4821), ('posey', 4822), ('plaine', 4823), ('amrithavaahini', 4824), ('otsego', 4825), ('brilliant', 4826), ('tragic', 4827), ('cochran', 4828), ('vermicelli', 4829), ('phou', 4830), ('vieng', 4831), ('walnut', 4832), ('demotte', 4833), ('portman', 4834), ('nappanee', 4835), ('weed', 4836), ('gladness', 4837), ('kearneysville', 4838), ('ochopee', 4839), ('yury', 4840), ('chernavsky', 4841), ('crooked', 4842), ('windsor', 4843), ('teri', 4844), ('meri', 4845), ('throats', 4846), ('beckon', 4847), ('thaw', 4848), ('rhum', 4849), ('indifferent', 4850), ('atom', 4851), ('window', 4852), ('manager', 4853), ('pencil', 4854), ('mustache', 4855), ('desserts', 4856), ('ashmore', 4857), ('brandon', 4858), ('midongy', 4859), ('du', 4860), ('sud', 4861), ('morrison', 4862), ('madchild', 4863), ('orion', 4864), ('took', 4865), ('marbles', 4866), ('valentyne', 4867), ('radnor', 4868), ('brandy', 4869), ('scoundrels', 4870), ('moncove', 4871), ('waubay', 4872), ('foie', 4873), ('gras', 4874), ('cab', 4875), ('darwin', 4876), ('sholes', 4877), ('langdon', 4878), ('centenary', 4879), ('berryessa', 4880), ('abbruzzese', 4881), ('verden', 4882), ('follett', 4883), ('crosswind', 4884), ('brusly', 4885), ('espn', 4886), ('soccer', 4887), ('ashland', 4888), ('burnley', 4889), ('maya', 4890), ('somesville', 4891), ('ennarukil', 4892), ('irunthal', 4893), ('ankimo', 4894), ('recent', 4895), ('riabko', 4896), ('tod', 4897), ('wasser', 4898), ('digimon', 4899), ('lakebay', 4900), ('heaton', 4901), ('genola', 4902), ('cameia', 4903), ('sanjeev', 4904), ('abhyankar', 4905), ('kokomo', 4906), ('nour', 4907), ('mhanna', 4908), ('telepathic', 4909), ('experiences', 4910), ('baladas', 4911), ('románticas', 4912), ('findon', 4913), ('heyy', 4914), ('babyy', 4915), ('porcaro', 4916), ('ellington', 4917), ('strauss', 4918), ('layzie', 4919), ('wadsworth', 4920), ('columbus', 4921), ('vidal', 4922), ('bonner', 4923), ('perfection', 4924), ('seabrook', 4925), ('addition', 4926), ('barre', 4927), ('cohn', 4928), ('shara', 4929), ('worden', 4930), ('yma', 4931), ('sumac', 4932), ('iconic', 4933), ('photographer', 4934), ('stock', 4935), ('chipmunk', 4936), ('zeebra', 4937), ('busta', 4938), ('97', 4939), ('cannabis', 4940), ('boonton', 4941), ('carman', 4942), ('esquivando', 4943), ('charcos', 4944), ('guru', 4945), ('gilels', 4946), ('gamaliel', 4947), ('keeneland', 4948), ('grech', 4949), ('sumner', 4950), ('harsh', 4951), ('scantlin', 4952), ('defined', 4953), ('struggle', 4954), ('scotsman', 4955), ('durbin', 4956), ('weir', 4957), ('icewind', 4958), ('kerrick', 4959), ('simple', 4960), ('marx', 4961), ('walla', 4962), ('doggy', 4963), ('tatar', 4964), ('kepler', 4965), ('scientific', 4966), ('workflow', 4967), ('rillettes', 4968), ('sistersville', 4969), ('pinguicula', 4970), ('newsletter', 4971), ('cousin', 4972), ('slovak', 4973), ('niagara', 4974), ('nichiren', 4975), ('mōko', 4976), ('daishūrai', 4977), ('gougoush', 4978), ('sierraville', 4979), ('shavo', 4980), ('odadjian', 4981), ('salaam', 4982), ('wallis', 4983), ('futuna', 4984), ('merced', 4985), ('mummy', 4986), ('cortelyou', 4987), ('arnaud', 4988), ('“', 4989), ('chirping', 4990), ('”', 4991), ('crickets', 4992), ('nudity', 4993), ('punished', 4994), ('boggs', 4995), ('dobie', 4996), ('gillis', 4997), ('agua', 4998), ('sal', 4999), ('olton', 5000), ('morten', 5001), ('harket', 5002), ('tsoi', 5003), ('dorchester', 5004), ('civilization', 5005), ('fernandina', 5006), ('helders', 5007), ('being', 5008), ('garrochales', 5009), ('mating', 5010), ('freed', 5011), ('split', 5012), ('difference', 5013), ('ek', 5014), ('boond', 5015), ('jag', 5016), ('vill', 5017), ('leva', 5018), ('europa', 5019), ('porta', 5020), ('newburyport', 5021), ('vanessa', 5022), ('turnin', 5023), ('9am', 5024), ('lovesong', 5025), ('shirts', 5026), ('hættuleg', 5027), ('hljómsveit', 5028), ('glæpakvendið', 5029), ('iida', 5030), ('workweek', 5031), ('palmetto', 5032), ('kolkheti', 5033), ('diana', 5034), ('vickers', 5035), ('dermatology', 5036), ('compact', 5037), ('proposal', 5038), ('lehrer', 5039), ('lovex', 5040), ('claudia', 5041), ('josefa', 5042), ('branford', 5043), ('crabfish', 5044), ('flamingo', 5045), ('yoshimi', 5046), ('cenizo', 5047), ('maltio', 5048), ('marcella', 5049), ('erma', 5050), ('rivera', 5051), ('steptoe', 5052), ('olpe', 5053), ('boston', 5054), ('assassination', 5055), ('coward', 5056), ('expansion', 5057), ('consume', 5058), ('alexia', 5059), (\"d'iberville\", 5060), ('rumyantsev', 5061), ('berville', 5062), ('poverty', 5063), ('nobility', 5064), ('donkey', 5065), ('saxophone', 5066), ('supremacy', 5067), ('ofelia', 5068), ('heartful', 5069), ('dumping', 5070), ('survival', 5071), ('files', 5072), ('pero', 5073), ('testifying', 5074), ('exploits', 5075), ('punjabi', 5076), ('vilma', 5077), ('plau', 5078), ('chef', 5079), ('xyy', 5080), ('terminal', 5081), ('lips', 5082), ('edgemoor', 5083), ('hamlet', 5084), ('gentleman', 5085), ('ashford', 5086), ('adela', 5087), ('hallam', 5088), ('tenerife', 5089), ('salomon', 5090), ('liberator', 5091), ('marcel', 5092), ('khalife', 5093), ('whatever', 5094), ('turns', 5095), ('zorro', 5096), ('paragraphe', 5097), ('blurred', 5098), ('crusade', 5099), ('savannah', 5100), ('lauderdale', 5101), ('elvis’', 5102), ('verna', 5103), ('slated', 5104), ('ash', 5105), ('wednesday', 5106), ('jukebox', 5107), ('unsettled', 5108), ('mandrake', 5109), ('allegiance', 5110), ('grind', 5111), ('cum', 5112), ('noize', 5113), ('7even', 5114), ('viral', 5115), ('semanal', 5116), ('gaudi', 5117), ('blasko', 5118), ('exploring', 5119), ('reef', 5120), ('debtors', 5121), ('enduser', 5122), ('able', 5123), ('camping', 5124), ('avery', 5125), ('susan', 5126), ('ashlee', 5127), ('coulee', 5128), ('parks', 5129), ('wauregan', 5130), ('dummy', 5131), ('montgomery', 5132), ('tender', 5133), ('leonid', 5134), ('soybelman', 5135), ('moving', 5136), ('tmpgenc', 5137), ('clermont', 5138), ('cherwell', 5139), ('boathouse', 5140), ('generator', 5141), ('rocket', 5142), ('sreekumar', 5143), ('laidback', 5144), ('hefner', 5145), ('unauthorized', 5146), ('screwed', 5147), ('sheehan', 5148), ('canaich', 5149), ('hilt', 5150), ('baseball', 5151), ('souls', 5152), ('badonviller', 5153), ('furano', 5154), ('ashibetsu', 5155), ('shangri', 5156), ('werner', 5157), ('emre', 5158), ('aydin', 5159), ('widows', 5160), ('cienega', 5161), ('hubbell', 5162), ('kentaro', 5163), ('iene', 5164), ('miene', 5165), ('mutte', 5166), ('engaged', 5167), ('unidentified', 5168), ('toni', 5169), ('cottura', 5170), ('limited', 5171), ('gaddar', 5172), ('traitor', 5173), ('lodi', 5174), ('willimantic', 5175), ('having', 5176), ('pops', 5177), ('racing', 5178), ('beam', 5179), ('atari', 5180), ('dorsey', 5181), ('lachman', 5182), ('knockabout', 5183), ('monie', 5184), ('politicsnation', 5185), ('sharpton', 5186), ('marva', 5187), ('language', 5188), ('linguistic', 5189), ('tarja', 5190), ('turunen', 5191), ('roseville', 5192), ('louisa', 5193), ('corrine', 5194), ('beloved', 5195), ('chickens', 5196), ('berkley', 5197), ('gf', 5198), ('belhaven', 5199), ('compiled', 5200), ('fragments', 5201), ('spyro', 5202), ('masayoshi', 5203), ('lifetime', 5204), ('karlsson', 5205), ('lothian', 5206), ('payette', 5207), ('ethel', 5208), ('melly', 5209), ('licensed', 5210), ('mikazuki', 5211), ('banner', 5212), ('hoffman', 5213), ('monro', 5214), ('dissociatives', 5215), ('calpella', 5216), ('estela', 5217), ('tsongas', 5218), ('chowder', 5219), ('dances', 5220), ('sheriff', 5221), ('tombstone', 5222), ('whaere', 5223), ('bible', 5224), ('avant', 5225), ('l’ombre', 5226), ('bercy', 5227), ('soko', 5228), ('gleed', 5229), ('lots', 5230), ('keyboard', 5231), ('trenton', 5232), ('metabolights', 5233), ('unconscious', 5234), ('collaborators', 5235), ('nikolayev', 5236), ('fatty', 5237), ('haskell', 5238), ('glenarden', 5239), ('epleys', 5240), ('neil', 5241), ('sunnybrook', 5242), ('ritchie', 5243), ('valens', 5244), ('revolutions', 5245), ('converging', 5246), ('conspiracies', 5247), ('vezione', 5248), ('verro', 5249), ('development', 5250), ('perspectives', 5251), ('yearbook', 5252), ('eliza', 5253), ('carthy', 5254), ('franj', 5255), ('heartland', 5256), ('phinizy', 5257), ('swamp', 5258), ('coffin', 5259), ('cashel', 5260), ('nat', 5261), ('stuckey', 5262), ('huns', 5263), ('hex', 5264), ('hector', 5265), ('lora', 5266), ('salvation', 5267), ('maximum', 5268), ('parry', 5269), ('moffett', 5270), ('diego', 5271), ('manual', 5272), ('vasilis', 5273), ('tsitsanis', 5274), ('abo', 5275), ('friendship', 5276), ('herring', 5277), ('choice', 5278), ('meast', 5279), ('burleigh', 5280), ('extraordinary', 5281), ('mediodía', 5282), ('acústico', 5283), ('butcher', 5284), ('salami', 5285), ('paycheck', 5286), ('ronski', 5287), ('looney', 5288), ('dena', 5289), ('premiere', 5290), ('immortals', 5291), ('64', 5292), ('minna', 5293), ('doe', 5294), ('hut', 5295), ('winger', 5296), ('aaron', 5297), ('chantal', 5298), ('kreviazuk', 5299), ('nardwuar', 5300), ('serviette', 5301), ('vernon', 5302), ('tube', 5303), ('ballard', 5304), ('delhi', 5305), ('lotus', 5306), ('slane', 5307), ('haifa', 5308), ('wehbe', 5309), ('ding', 5310), ('energic', 5311), ('zombieland', 5312), ('amal', 5313), ('hijazi', 5314), ('peninsula', 5315), ('amirbai', 5316), ('karnataki', 5317), ('bleeding', 5318), ('scenic', 5319), ('primus', 5320), ('shelter', 5321), ('wauseon', 5322), ('corey', 5323), ('freund', 5324), ('kaya', 5325), ('manorama', 5326), ('feet', 5327), ('orpheus', 5328), ('celestial', 5329), ('admiralty', 5330), ('muffuletta', 5331), ('bim', 5332), ('ear', 5333), ('anatone', 5334), ('ryuichi', 5335), ('kawamura', 5336), ('anders', 5337), ('fairwood', 5338), ('needle', 5339), ('pedro', 5340), ('navaja', 5341), ('shooting', 5342), ('silvio', 5343), ('sabo', 5344), ('homer', 5345), ('kear', 5346), ('myra', 5347), ('tenbrooks', 5348), ('dimension', 5349), ('luxury', 5350), ('liner', 5351), ('hinckley', 5352), ('dress', 5353), ('calipuy', 5354), ('monson', 5355), ('hotline', 5356), ('milladore', 5357), ('bitty', 5358), ('parempi', 5359), ('mies', 5360), ('fabrice', 5361), ('morvan', 5362), ('ely', 5363), ('burnside', 5364), ('hindert', 5365), ('nassau', 5366), ('ultima', 5367), ('prophet', 5368), ('cia', 5369), ('factbook', 5370), ('elliotts', 5371), ('bashful', 5372), ('oswald', 5373), ('gad', 5374), ('elbaz', 5375), ('fripp', 5376), ('greek', 5377), ('bynum', 5378), ('shagrath', 5379), ('sioux', 5380), ('andouillettes', 5381), ('wrestlemania', 5382), ('castillo', 5383), ('prefer', 5384), ('asiate', 5385), ('sturgeon', 5386), ('slinger', 5387), ('kennedy', 5388), ('markus', 5389), ('grosskopf', 5390), ('selma', 5391), ('mcsherrystown', 5392), ('somis', 5393), ('operetta', 5394), ('ojo', 5395), ('amarillo', 5396), ('somme', 5397), ('voice', 5398), ('meeting', 5399), ('athol', 5400), ('bolsa', 5401), ('chica', 5402), ('acchiappafantasmi', 5403), ('dyskografia', 5404), ('seeds', 5405), ('betances', 5406), ('ce', 5407), ('cher', 5408), ('intrus', 5409), ('points', 5410), ('clutching', 5411), ('juju', 5412), ('smit', 5413), ('helianthushof', 5414), ('hurffville', 5415), ('garphyttan', 5416), ('juniper', 5417), ('bûche', 5418), ('suburbia', 5419), ('airport', 5420), ('kelsey', 5421), ('bystrzyca', 5422), ('borys', 5423), ('ljatoschynskyj', 5424), ('according', 5425), ('ganges', 5426), ('hellboy', 5427), ('trilogie', 5428), ('kuo', 5429), ('secretary', 5430), ('mogis', 5431), ('groesbeck', 5432), ('hazel', 5433), ('elsewhere', 5434), ('breathtaking', 5435), ('creatures', 5436), ('dicey', 5437), ('appalachian', 5438), ('doctors', 5439), ('aria', 5440), ('gravity', 5441), ('had', 5442), ('hair', 5443), ('wear', 5444), ('brows', 5445), ('siouxsie', 5446), ('banshees', 5447), ('faustino', 5448), ('oramas', 5449), ('weapon', 5450), ('jarzombek', 5451), ('maltby', 5452), ('hagen', 5453), ('xquery', 5454), ('api', 5455), ('java', 5456), ('ljubam', 5457), ('lafe', 5458), ('while', 5459), ('sippie', 5460), ('wallace', 5461), ('jpop', 5462), ('satan', 5463), ('bridle', 5464), ('dalles', 5465), ('kathleen', 5466), ('brianna', 5467), ('eu', 5468), ('pego', 5469), ('maestro', 5470), ('grim', 5471), ('skunk', 5472), ('laserlight', 5473), ('wannadies', 5474), ('burrows', 5475), ('words', 5476), ('bald', 5477), ('kaskade', 5478), ('cuckoo', 5479), ('clocks', 5480), ('joyal', 5481), ('advise', 5482), ('pigs', 5483), ('mizuki', 5484), ('fighter', 5485), ('cradle', 5486), ('robbers', 5487), ('recorder', 5488), ('randsell', 5489), ('shoo', 5490), ('harassed', 5491), ('zephyrhills', 5492), ('palmyra', 5493), ('lineage', 5494), ('proceed', 5495), ('duson', 5496), ('dwarf', 5497), ('cosmos', 5498), ('testing', 5499), ('anywhere', 5500), ('boiling', 5501), ('dyke', 5502), ('hooker', 5503), ('1914–1918', 5504), ('axelrod', 5505), ('glades', 5506), ('raney', 5507), ('tobymac', 5508), ('tomy', 5509), ('conker', 5510), ('reloaded', 5511), ('oswego', 5512), ('macaroni', 5513), ('calakmul', 5514), ('donovan', 5515), ('ginestrata', 5516), ('bud', 5517), ('prefect', 5518), ('spaulding', 5519), ('vanlue', 5520), ('sankha', 5521), ('chatterjee', 5522), ('strandburg', 5523), ('meers', 5524), ('bizzy', 5525), ('goodnight', 5526), ('sergeant', 5527), ('fabes', 5528), ('valy', 5529), ('otho', 5530), ('terminator', 5531), ('akb48', 5532), ('dry', 5533), ('prong', 5534), ('alasdair', 5535), ('roberts', 5536), ('sturgis', 5537), ('amnicon', 5538), ('antelope', 5539), ('spots', 5540), ('brochure', 5541), ('soil', 5542), ('westcountry', 5543), ('drums', 5544), ('trifecta', 5545), ('julee', 5546), ('cruise', 5547), ('brotherhood', 5548), ('ock', 5549), ('joo', 5550), ('labonte', 5551), ('henniker', 5552), ('aaliyah', 5553), ('nightingale', 5554), ('hutchings', 5555), ('caverns', 5556), ('alger', 5557), ('placed', 5558), ('palacio', 5559), ('cemil', 5560), ('bey', 5561), ('photoscape', 5562), ('movietimes', 5563), ('doolittle', 5564), ('havana', 5565), ('multiversity', 5566), ('stereophonics', 5567), ('omega', 5568), ('suryavanshi', 5569), ('orford', 5570), ('japan', 5571), ('rimsky', 5572), ('korsakoffee', 5573), ('proudly', 5574), ('marches', 5575), ('shawna', 5576), ('lizzie', 5577), ('starr', 5578), ('performance', 5579), ('ninaview', 5580), ('aretha', 5581), ('strike', 5582), ('merrill', 5583), ('eddy', 5584), ('duchin', 5585), ('retreat', 5586), ('crafty', 5587), ('gasconade', 5588), ('intersections', 5589), ('flint', 5590), ('seagraves', 5591), ('elinor', 5592), ('turner', 5593), ('nita', 5594), ('satisfaction', 5595), ('petersville', 5596), ('mercenary', 5597), ('siberian', 5598), ('khatru', 5599), ('chained', 5600), ('sewickley', 5601), ('format', 5602), ('shawnna', 5603), ('darvill', 5604), ('edsel', 5605), ('dope', 5606), ('ferrer', 5607), ('martine', 5608), ('mccutcheon', 5609), ('jazzmasters', 5610), ('connick', 5611), ('timing', 5612), ('noble', 5613), ('totality', 5614), ('grandview', 5615), ('riddlesburg', 5616), ('range', 5617), ('klute', 5618), ('elgin', 5619), ('schoolhouse', 5620), ('domoto', 5621), ('vortex', 5622), ('frankfort', 5623), ('douthat', 5624), ('hollow', 5625), ('lavern', 5626), ('owlet', 5627), ('sompio', 5628), ('lenexa', 5629), ('taktloss', 5630), ('porphyry', 5631), ('stat', 5632), ('wontons', 5633), ('bamboccioni', 5634), ('ringold', 5635), ('winbush', 5636), ('cozy', 5637), ('persson', 5638), ('outside', 5639), ('syndicate', 5640), ('millicent', 5641), ('stelvio', 5642), ('fowler', 5643), ('eulogy', 5644), ('fujimoto', 5645), ('yae', 5646), ('katiejane', 5647), ('garside', 5648), ('craig', 5649), ('bayside', 5650), ('tribal', 5651), ('mahalakshmi', 5652), ('agreable', 5653), ('ferret', 5654), ('aiken', 5655), ('bonny', 5656), ('175', 5657), ('golconda', 5658), ('stamps', 5659), ('gn', 5660), ('twentysomething', 5661), ('puro', 5662), ('jewell', 5663), ('cemetery', 5664), ('wyandotte', 5665), ('northway', 5666), ('geminism', 5667), ('dough', 5668), ('letty', 5669), ('secour', 5670), ('carlisle', 5671), ('dared', 5672), ('mcisaac', 5673), ('rosario', 5674), ('ring', 5675), ('creamed', 5676), ('eggs', 5677), ('territory', 5678), ('dianne', 5679), ('ragged', 5680), ('curtain', 5681), ('theology', 5682), ('wrightstown', 5683), ('oakes', 5684), ('mixes', 5685), ('roach', 5686), ('gathering', 5687), ('leasburg', 5688), ('nickelsville', 5689), ('sher', 5690), ('lago', 5691), ('vista', 5692), ('nik', 5693), ('kershaw', 5694), ('thornbury', 5695), ('tera', 5696), ('realm', 5697), ('arborea', 5698), ('lifelong', 5699), ('ambitions', 5700), ('tehama', 5701), ('inheritors', 5702), ('cage', 5703), ('junkies', 5704), ('antisleep', 5705), ('meadow', 5706), ('vale', 5707), ('knew', 5708), ('yesudas', 5709), ('shi', 5710), ('xin', 5711), ('hui', 5712), ('deenanath', 5713), ('irvington', 5714), ('oleg', 5715), ('anofriyev', 5716), ('flipper', 5717), ('paloma', 5718), ('negra', 5719), ('model', 5720), ('craftsman', 5721), ('jem', 5722), ('godfrey', 5723), ('zwanzig', 5724), ('zwölf', 5725), ('perfecto', 5726), ('castro', 5727), ('maryanne', 5728), ('per', 5729), ('yngve', 5730), ('ohlin', 5731), ('booker', 5732), ('inez', 5733), ('watauga', 5734), ('raquel', 5735), ('hainesville', 5736), ('wakefield', 5737), ('brownfield', 5738), ('nameless', 5739), ('pauvres', 5740), ('riches', 5741), ('mei', 5742), ('angeline', 5743), ('dutchess', 5744), ('vegetables', 5745), ('pharrell', 5746), ('wolcott', 5747), ('crocker', 5748), ('axis', 5749), ('cancelled', 5750), ('breath', 5751), ('257', 5752), ('cannon', 5753), ('hellacopters', 5754), ('delanson', 5755), ('mcclinton', 5756), ('ibm', 5757), ('temporary', 5758), ('fix', 5759), ('inlet', 5760), ('laura', 5761), ('keltech', 5762), ('quiet', 5763), ('insult', 5764), ('injury', 5765), ('narayana', 5766), ('tirtha', 5767), ('hal', 5768), ('patino', 5769), ('ambiente', 5770), ('rnb', 5771), ('winner', 5772), ('takuro', 5773), ('casino', 5774), ('afghan', 5775), ('tron', 5776), ('reconfigured', 5777), ('courting', 5778), ('squall', 5779), ('teleform', 5780), ('paté', 5781), ('exclusive', 5782), ('colored', 5783), ('mclaughlin', 5784), ('frightened', 5785), ('fennesz', 5786), ('wrote', 5787), ('pershing', 5788), ('shopsins', 5789), ('balkan', 5790), ('rhapsodies', 5791), ('measures', 5792), ('lander', 5793), ('ojuelegba', 5794), ('playig', 5795), ('doors', 5796), ('anstruther', 5797), ('realization', 5798), ('certification', 5799), ('darude', 5800), ('snapfinger', 5801), ('ende', 5802), ('precinct', 5803), ('graf', 5804), ('tomohisa', 5805), ('yamashita', 5806), ('padangnese', 5807), ('preaching', 5808), ('perverted', 5809), ('kenedy', 5810), ('histoire', 5811), ('papoose', 5812), ('von', 5813), ('cosels', 5814), ('obsession', 5815), ('tsūzetsu', 5816), ('anweshaa', 5817), ('nankin', 5818), ('fr', 5819), ('guide', 5820), ('timbers', 5821), ('farallon', 5822), ('shadjarian', 5823), ('blaise', 5824), ('restarunt', 5825), ('federal', 5826), ('annunciation', 5827), ('statue', 5828), ('bunker', 5829), ('spätzle', 5830), ('kewanee', 5831), ('getaway', 5832), ('snider', 5833), ('138th', 5834), ('pekin', 5835), ('candoli', 5836), ('rixford', 5837), ('yacoubian', 5838), ('lime', 5839), ('345', 5840), ('nichols', 5841), ('tania', 5842), ('vinci', 5843), ('hadjidakis', 5844), ('riceboro', 5845), ('flies', 5846), ('tschetter', 5847), ('ascension', 5848), ('jboss', 5849), ('enterprise', 5850), ('soa', 5851), ('platform', 5852), ('paly', 5853), ('marianne', 5854), ('faithfull', 5855), ('cohen', 5856), ('brazuca', 5857), ('hext', 5858), ('ulen', 5859), ('chameleon', 5860), ('doda', 5861), ('sandy', 5862), ('nokko', 5863), ('midland', 5864), ('hattiesburg', 5865), ('dochū', 5866), ('kōtsu', 5867), ('mondovi', 5868), ('conflict', 5869), ('pôchouse', 5870), ('rocksprings', 5871), ('oaklawn', 5872), ('bra', 5873), ('vibrationer', 5874), ('connor', 5875), ('levy', 5876), ('1980', 5877), ('kahn', 5878), ('mexican', 5879), ('woodcliff', 5880), ('encino', 5881), ('meatcake', 5882), ('riddim', 5883), ('humanity', 5884), ('wuthering', 5885), ('cropper', 5886), ('edwin', 5887), ('mccain', 5888), ('tabor', 5889), ('sonntag', 5890), ('creed', 5891), ('cham', 5892), ('cheryl', 5893), ('cara', 5894), ('dios', 5895), ('virginian', 5896), ('easel', 5897), ('applied', 5898), ('linguistics', 5899), ('mothers', 5900), ('zena', 5901), ('passover', 5902), ('sudarmoricaine', 5903), ('afi', 5904), ('adeyto', 5905), ('web', 5906), ('marsh', 5907), ('bugs', 5908), ('lacy', 5909), ('regional', 5910), ('drifting', 5911), ('minnie', 5912), ('riperton', 5913), ('malin', 5914), ('neurotoxicology', 5915), ('madge', 5916), ('divan', 5917), ('twinkler', 5918), ('erika', 5919), ('fran', 5920), ('klaus', 5921), ('badelt', 5922), ('branded', 5923), ('leningrad', 5924), ('cowboys', 5925), ('fairouz', 5926), ('hickerson', 5927), ('crossings', 5928), ('847', 5929), ('uli', 5930), ('derickson', 5931), ('liquor', 5932), ('yossif', 5933), ('kobzon', 5934), ('winning', 5935), ('ruxpin', 5936), ('require', 5937), ('ludowici', 5938), ('personality', 5939), ('sleepytime', 5940), ('gougère', 5941), ('laneville', 5942), ('barchetta', 5943), ('lemon', 5944), ('rat', 5945), ('pack', 5946), ('uetoaya', 5947), ('prodigal', 5948), ('arcadian', 5949), ('tennyson', 5950), ('ethridge', 5951), ('niney', 5952), ('observer', 5953), ('capital', 5954), ('sittor', 5955), ('beverley', 5956), ('sparks', 5957), ('premiering', 5958), ('roseland', 5959), ('2120', 5960), ('jawad', 5961), ('jermaine', 5962), ('fagan', 5963), ('sarban', 5964), ('onaga', 5965), ('shw', 5966), ('husbands', 5967), ('sugarville', 5968), ('madman', 5969), ('incredible', 5970), ('hulk', 5971), ('nellieburg', 5972), ('ringside', 5973), ('guard', 5974), ('carnik', 5975), ('81', 5976), ('nightcall', 5977), ('grizzled', 5978), ('squirrel', 5979), ('editor', 5980), ('publisher', 5981), ('arkport', 5982), ('ufo', 5983), ('senshi', 5984), ('dai', 5985), ('apolon', 5986), ('lillian', 5987), ('rila', 5988), ('waipio', 5989), ('manuela', 5990), ('yvonne', 5991), ('richter', 5992), ('camel', 5993), ('noko', 5994), ('culture', 5995), ('sit', 5996), ('pinckney', 5997), ('ginsburg', 5998), ('ristigouche', 5999), ('botna', 6000), ('vietnam', 6001), ('uncut', 6002), ('intel', 6003), ('array', 6004), ('blocks', 6005), ('aion', 6006), ('mckinley', 6007), ('tailspin', 6008), ('travis', 6009), ('workin’', 6010), ('quintet', 6011), ('fidel', 6012), ('nadal', 6013), ('legion', 6014), ('garcia', 6015), ('carmichaels', 6016), ('gift', 6017), ('mattawan', 6018), ('conan', 6019), ('dimensional', 6020), ('sniper', 6021), ('tied', 6022), ('beggar', 6023), ('quick', 6024), ('pocono', 6025), ('deer', 6026), ('mcgee', 6027), ('bret', 6028), ('mckenzie', 6029), ('viderunt', 6030), ('omnes', 6031), ('wakelin', 6032), ('lis', 6033), ('pikelny', 6034), ('schooltool', 6035), ('westbam', 6036), ('alumb', 6037), ('allergic', 6038), ('brightman', 6039), ('milwaukee', 6040), ('somiedo', 6041), ('geddes', 6042), ('twila', 6043), ('wallsburg', 6044), ('pam', 6045), ('longwave', 6046), ('bradenton', 6047), ('happiest', 6048), ('emmanuel', 6049), ('shanghai', 6050), ('diaz', 6051), ('tequesta', 6052), ('sonya', 6053), ('kristina', 6054), ('teresa', 6055), ('ciribiribin', 6056), ('sandeep', 6057), ('khare', 6058), ('lockwood', 6059), ('deaf', 6060), ('crow', 6061), ('boca', 6062), ('raton', 6063), ('toucher', 6064), ('rich', 6065), ('javine', 6066), ('hylton', 6067), ('nisswa', 6068), ('priest', 6069), ('slave', 6070), ('stump', 6071), ('maritza', 6072), ('discografia', 6073), ('reckless', 6074), ('teide', 6075), ('fabio', 6076), ('disturbance', 6077), ('gardot', 6078), ('pizzette', 6079), ('duxbury', 6080), ('ply', 6081), ('nt', 6082), ('dels', 6083), ('ocells', 6084), ('vini', 6085), ('conrad', 6086), ('finiti', 6087), ('rete', 6088), ('tremont', 6089), ('sherrie', 6090), ('songimvelo', 6091), ('apostolos', 6092), ('nikolaidis', 6093), ('bradner', 6094), ('continue', 6095), ('crossett', 6096), ('becoming', 6097), ('royston', 6098), ('conshohocken', 6099), ('skylar', 6100), ('diggins', 6101), ('kenny', 6102), ('axis2', 6103), ('sugiyama', 6104), ('elvira', 6105), ('wore', 6106), ('tal', 6107), ('chhapar', 6108), ('fais', 6109), ('backs', 6110), ('dedicated', 6111), ('spartan', 6112), ('disasters', 6113), ('changed', 6114), ('dive', 6115), ('bomber', 6116), ('refugio', 6117), ('farristown', 6118), ('apples', 6119), ('teh', 6120), ('estrés', 6121), ('nepal', 6122), ('panisses', 6123), ('naytahwaush', 6124), ('raheem', 6125), ('devaughn', 6126), ('structured', 6127), ('fax', 6128), ('gormenghast', 6129), ('maro', 6130), ('dubach', 6131), ('foley', 6132), ('instincts', 6133), ('layne', 6134), ('staley', 6135), ('meherrin', 6136), ('mezes', 6137), ('marching', 6138), ('fickle', 6139), ('donnelly', 6140), ('valenciano', 6141), ('lyons', 6142), ('boom', 6143), ('bust', 6144), ('haruka', 6145), ('shimotsuki', 6146), ('nypd', 6147), ('department', 6148), ('leonor', 6149), ('imogene', 6150), ('sanchez', 6151), ('raffaele', 6152), ('riefoli', 6153), ('prabha', 6154), ('atre', 6155), ('someday', 6156), ('fiona', 6157), ('hound', 6158), ('ion', 6159), ('gobles', 6160), ('akira', 6161), ('generación', 6162), ('rbd', 6163), ('vivo', 6164), ('wylliesburg', 6165), ('reminderville', 6166), ('mornings', 6167), ('doomsday', 6168), ('forge', 6169), ('nimble', 6170), ('bombastic', 6171), ('carpenterville', 6172), ('chan', 6173), ('whee', 6174), ('petree', 6175), ('scars', 6176), ('pollock', 6177), ('rileys', 6178), ('syrup', 6179), ('freestyle', 6180), ('pauls', 6181), ('hexum', 6182), ('kleptones', 6183), ('33', 6184), ('wake', 6185), ('murder', 6186), ('mana', 6187), ('clontarf', 6188), ('tsubasa', 6189), ('imai', 6190), ('infrared', 6191), ('wanted', 6192), ('erykah', 6193), ('badu', 6194), ('halfbreed', 6195), ('borrowed', 6196), ('steady', 6197), ('judgment', 6198), ('horseshoe', 6199), ('tallgrass', 6200), ('augusta', 6201), ('shrunk', 6202), ('practice', 6203), ('camden', 6204), ('kanon', 6205), ('wakeshima', 6206), ('lest', 6207), ('forget', 6208), ('zapata', 6209), ('vans', 6210), ('southtown', 6211), ('stethoscope', 6212), ('montverde', 6213), ('select', 6214), ('iwers', 6215), ('policemen', 6216), ('loretta', 6217), ('oldham', 6218), ('blodgett', 6219), ('fogata', 6220), ('rutherfordton', 6221), ('atrocity', 6222), ('exhibition', 6223), ('sell', 6224), ('vl', 6225), ('farruko', 6226), ('presenta', 6227), ('menores', 6228), ('calder', 6229), ('broadcast', 6230), ('1938', 6231), ('custar', 6232), ('clem', 6233), ('dimitri', 6234), ('fampas', 6235), ('georgiev', 6236), ('kalica', 6237), ('castles', 6238), ('cargnello', 6239), ('moustapha', 6240), ('amar', 6241), ('sinclair', 6242), ('denial', 6243), ('bulat', 6244), ('schalwowitsch', 6245), ('okudschawa', 6246), ('donnie', 6247), ('gorilla', 6248), ('candlelight', 6249), ('gilluly', 6250), ('hoyt', 6251), ('nicole', 6252), ('mitchell', 6253), ('todesfalle', 6254), ('prescription', 6255), ('boating', 6256), ('epte', 6257), ('did', 6258), ('crofton', 6259), ('touchdown', 6260), ('grigorjewna', 6261), ('semenowitsch', 6262), ('chippewa', 6263), ('bienville', 6264), ('leblanc', 6265), ('bishop', 6266), ('hereford', 6267), ('mayer', 6268), ('kd', 6269), ('lang', 6270), ('cinderella', 6271), ('grainer', 6272), ('florewood', 6273), ('christine', 6274), ('tad', 6275), ('kinchla', 6276), ('assumption', 6277), ('sail', 6278), ('willi', 6279), ('yameen', 6280), ('storeys', 6281), ('wrestling', 6282), ('russel', 6283), ('walder', 6284), ('lunchbox', 6285), ('peggy', 6286), ('sue', 6287), ('neighbor', 6288), ('mini', 6289), ('berryz', 6290), ('diwali', 6291), ('luray', 6292), ('majesty', 6293), ('sandstone', 6294), ('coersion', 6295), ('whitechapel', 6296), ('woodward', 6297), ('parazaider', 6298), ('rajasthani', 6299), ('pride', 6300), ('perez', 6301), ('prado', 6302), ('gipsy', 6303), ('wildland', 6304), ('hey', 6305), ('ye', 6306), ('waking', 6307), ('anheuser', 6308), ('doherty', 6309), ('moss', 6310), ('yellowstone', 6311), ('dobinson', 6312), ('bernard', 6313), ('susana', 6314), ('wandering', 6315), ('thekra', 6316), ('phoebus', 6317), ('clubbing', 6318), ('lavalette', 6319), ('farragut', 6320), ('vega', 6321), ('helix', 6322), ('bigger', 6323), ('rating', 6324), ('ewen', 6325), ('brittney', 6326), ('pickens', 6327), ('arnauld', 6328), ('fernwood', 6329), ('fuca', 6330), ('ruffin', 6331), ('towel', 6332), ('crugers', 6333), ('marlton', 6334), ('circle', 6335), ('each', 6336), ('elf', 6337), ('ngola', 6338), ('ohear', 6339), ('epstein', 6340), ('champion', 6341), ('308', 6342), ('pediatric', 6343), ('oncology', 6344), ('nursing', 6345), (\"'re\", 6346), ('greenport', 6347), ('loudon', 6348), ('103rd', 6349), ('doodle', 6350), ('meltdown', 6351), ('destruction', 6352), ('renouveau', 6353), ('fleischmanns', 6354), ('pembina', 6355), ('gorge', 6356), ('stillest', 6357), ('artani', 6358), ('jenny', 6359), ('flaxton', 6360), ('ruwanga', 6361), ('samath', 6362), ('nam', 6363), ('kading', 6364), ('kipp', 6365), ('orgy', 6366), ('leather', 6367), ('powell', 6368), ('absolutely', 6369), ('marie', 6370), ('nightwork', 6371), ('philosopher', 6372), ('59th', 6373), ('grammy', 6374), ('jamesedition', 6375), ('asian', 6376), ('bradford', 6377), ('moa', 6378), ('anbessa', 6379), ('counter', 6380), ('umizaru', 6381), ('izuna', 6382), ('unemployed', 6383), ('ninja', 6384), ('diamondville', 6385), ('christopher', 6386), ('alibi', 6387), ('orienta', 6388), ('xsuie', 6389), ('cafagna', 6390), ('tesoro', 6391), ('mustoe', 6392), ('trauma', 6393), ('aviation', 6394), ('warpaint', 6395), ('folksy', 6396), ('abuja', 6397), ('hora', 6398), ('din', 6399), ('maso', 6400), ('cheaper', 6401), ('dozen', 6402), ('reviews', 6403), ('genetics', 6404), ('rotem', 6405), ('goethe', 6406), ('lolita', 6407), ('omoide', 6408), ('okkusenman', 6409), ('salvage', 6410), ('mice', 6411), ('lucky', 6412), ('sinful', 6413), ('ah', 6414), ('xandee', 6415), ('vegard', 6416), ('sverre', 6417), ('tveitan', 6418), ('ceca', 6419), ('aviatrice', 6420), ('em', 6421), ('solutions', 6422), ('conflicts', 6423), ('birta', 6424), ('kitade', 6425), ('psychedelia', 6426), ('fencing', 6427), ('puthri', 6428), ('teenage', 6429), ('mutant', 6430), ('turtles', 6431), ('screamplay', 6432), ('townsell', 6433), ('cousins', 6434), ('hier', 6435), ('encore', 6436), ('greydon', 6437), ('courts', 6438), ('reva', 6439), ('bernadine', 6440), ('construction', 6441), ('committee', 6442), ('chowchilla', 6443), ('bearsville', 6444), ('księga', 6445), ('urodzaju', 6446), ('abigail', 6447), ('shenandoah', 6448), ('harmar', 6449), ('backyard', 6450), ('sehlabathebe', 6451), ('etc', 6452), ('goldimouse', 6453), ('roaring', 6454), ('tivington', 6455), ('nott', 6456), ('kentmore', 6457), ('simon', 6458), ('webbe', 6459), ('cordon', 6460), ('bleu', 6461), ('bronco', 6462), ('ellenton', 6463), ('reklaw', 6464), ('coup', 6465), ('tightrope', 6466), ('tanimura', 6467), ('brigitte', 6468), ('katelyn', 6469), ('krzysztof', 6470), ('penderecki', 6471), ('fenton', 6472), ('tomtegubben', 6473), ('hade', 6474), ('snuva', 6475), ('roches', 6476), ('knierim', 6477), ('tonga', 6478), ('krista', 6479), ('bevilacqua', 6480), ('dalcour', 6481), ('lance', 6482), ('alternativo', 6483), ('entertaining', 6484), ('bg', 6485), ('knocc', 6486), ('korra', 6487), ('rascals', 6488), ('willits', 6489), ('democratic', 6490), ('khlong', 6491), ('phraya', 6492), ('rss', 6493), ('tracking', 6494), ('hybla', 6495), ('solromar', 6496), ('unit', 6497), ('sebesky', 6498), ('sequoyah', 6499), ('thenaruvi', 6500), ('richfield', 6501), ('hamedi', 6502), ('ghostly', 6503), ('swim', 6504), ('yangtze', 6505), ('manack', 6506), ('hocking', 6507), ('pitch', 6508), ('brigade', 6509), ('mickdeth', 6510), ('rmx', 6511), ('ayu', 6512), ('judy', 6513), ('baldur', 6514), ('throne', 6515), ('bhaal', 6516), ('kremmling', 6517), ('raise', 6518), ('ignacio', 6519), ('figueredo', 6520), ('weathervane', 6521), ('sheena', 6522), ('bettles', 6523), ('lagoon', 6524), ('kurstin', 6525), ('pougatcheva', 6526), ('tarass', 6527), ('boulba', 6528), ('kes', 6529), ('wartime', 6530), ('pillars', 6531), ('wisdom', 6532), ('noxubee', 6533), ('tolmatschowa', 6534), ('schwestern', 6535), ('guyana', 6536), ('fell', 6537), ('martha', 6538), ('tioga', 6539), ('returned', 6540), ('anniston', 6541), ('marin', 6542), ('mahatma', 6543), ('gandhi', 6544), ('plkaying', 6545), ('rambler', 6546), ('elstak', 6547), ('wynonna', 6548), ('universum', 6549), ('dorrian', 6550), ('swarna', 6551), ('trishna', 6552), ('playinh', 6553), ('brucetown', 6554), ('dangerous', 6555), ('luxor', 6556), ('miguelito', 6557), ('charting', 6558), ('westfield', 6559), ('create', 6560), ('creeggan', 6561), ('collabs', 6562), ('mahwah', 6563), ('caveman', 6564), ('fit', 6565), ('jimenez', 6566), ('dwele', 6567), ('eurovision', 6568), ('danville', 6569), ('bahar', 6570), ('kizil', 6571), ('doll', 6572), ('fisher', 6573), ('haystack', 6574), ('kurious', 6575), ('jorge', 6576), ('lighter', 6577), ('jintana', 6578), ('racine', 6579), ('aki', 6580), ('nawaz', 6581), ('linger', 6582), ('awhile', 6583), ('domino', 6584), ('luca', 6585), ('turilli', 6586), ('aire', 6587), ('patagonia', 6588), ('scholarmate', 6589), ('kaakai', 6590), ('labyrinthe', 6591), ('goldy', 6592), ('mcjohn', 6593), ('deidre', 6594), ('rosa', 6595), ('susanne', 6596), ('pricedale', 6597), ('heroquest', 6598), ('sorasil', 6599), ('homem', 6600), ('christo', 6601), ('sample', 6602), ('aqua', 6603), ('taco', 6604), ('uniontown', 6605), ('modesto', 6606), ('ella', 6607), ('pussyfoot', 6608), ('bachata', 6609), ('unbelievable', 6610), ('steward', 6611), ('bilingualism', 6612), ('mulawin', 6613), ('traverse', 6614), ('bottomland', 6615), ('wilko', 6616), ('reestaurant', 6617), ('yoakum', 6618), ('strabane', 6619), ('searsport', 6620), ('mopreme', 6621), ('shakur', 6622), ('genocide', 6623), ('lucinda', 6624), ('gil', 6625), ('parris', 6626), ('cup', 6627), ('minotaur', 6628), ('inca', 6629), ('discord', 6630), ('takilma', 6631), ('spooky', 6632), ('treasures', 6633), ('runkaus', 6634), ('toto', 6635), ('quadrophenia', 6636), ('bodyguard', 6637), ('awakened', 6638), ('beamer', 6639), ('quest', 6640), ('iranon', 6641), ('180', 6642), ('paint', 6643), ('masterpiece', 6644), ('lace', 6645), ('whiskey', 6646), ('jetta', 6647), ('sofia', 6648), ('arista', 6649), ('tower', 6650), ('beyblade', 6651), ('fierce', 6652), ('maurice', 6653), ('inman', 6654), ('kabhi', 6655), ('baadal', 6656), ('barse', 6657), ('qr', 6658), ('bare', 6659), ('tenacious', 6660), ('pick', 6661), ('arcola', 6662), ('joni', 6663), ('floyd', 6664), ('wins', 6665), ('unnikrishnante', 6666), ('adyathe', 6667), ('woods', 6668), ('glace', 6669), ('atmosphere', 6670), ('jil', 6671), ('nancy', 6672), ('offa', 6673), ('doseone', 6674), ('puzzles', 6675), ('skyfall', 6676), ('groundhog', 6677), ('experienced', 6678), ('embrace', 6679), ('budokan', 6680), ('tanana', 6681), ('em4jay', 6682), ('actress', 6683), ('wickens', 6684), ('sheikh', 6685), ('chilli', 6686), ('walsenburg', 6687), ('ringlestone', 6688), ('important', 6689), ('galway', 6690), ('vaughan', 6691), ('ducas', 6692), ('okay', 6693), ('luzon', 6694), ('rainwater', 6695), ('lp', 6696), ('gwen', 6697), ('balloon', 6698), ('spalding', 6699), ('proud', 6700), ('inferno', 6701), ('twink', 6702), ('hoonah', 6703), ('luiza', 6704), ('possi', 6705), ('unalaska', 6706), ('watchman', 6707), ('vadivel', 6708), ('pansette', 6709), ('skaneateles', 6710), ('jasmine', 6711), ('leta', 6712), ('wits', 6713), ('ayr', 6714), ('jarbidge', 6715), ('gibbs', 6716), ('ide', 6717), ('wiseman', 6718), ('wholehearted', 6719), ('hubbardston', 6720), ('vlada', 6721), ('divljan', 6722), ('cantautor', 6723), ('suites', 6724), ('osgood', 6725), ('vineyard', 6726), ('haven', 6727), ('candace', 6728), ('pidcoke', 6729), ('innovations', 6730), ('kokia', 6731), ('sawai', 6732), ('gandharva', 6733), ('joeri', 6734), ('basjmet', 6735), ('bundrick', 6736), ('used', 6737), ('dara', 6738), ('liar', 6739), ('salinas', 6740), ('ahmed', 6741), ('malik', 6742), ('beatmaster', 6743), ('desmond', 6744), ('dekker', 6745), ('mole', 6746), ('roxy', 6747), ('clint', 6748), ('mansell', 6749), ('sorry', 6750), ('mochida', 6751), ('gracin', 6752), ('ravensdale', 6753), ('sai', 6754), ('thong', 6755), ('rak', 6756), ('biszewilo', 6757), ('laverne', 6758), ('madera', 6759), ('brockway', 6760), ('thug', 6761), ('lordz', 6762), ('trilogy', 6763), ('stormzy', 6764), ('blag', 6765), ('dahlia', 6766), ('aspro', 6767), ('mavro', 6768), ('szymczyk', 6769), ('sawtooth', 6770), ('henrieville', 6771), ('parra', 6772), ('nostalgic', 6773), ('scofield', 6774), ('tracyton', 6775), ('nyoil', 6776), ('ballantrae', 6777), ('conehatta', 6778), ('afdlin', 6779), ('shauki', 6780), ('ally', 6781), ('kerr', 6782), ('trade', 6783), ('wather', 6784), ('coleville', 6785), ('hamburger', 6786), ('ancient', 6787), ('commit', 6788), ('marriage', 6789), ('lpaying', 6790), ('vigus', 6791), ('moneta', 6792), ('nations', 6793), ('cliffwood', 6794), ('selmer', 6795), ('tatjana', 6796), ('iwanowna', 6797), ('bulanowa', 6798), ('steamboat', 6799), ('shaina', 6800), ('magdayao', 6801), ('vazquez', 6802), ('oakdale', 6803), ('alloway', 6804), ('cho', 6805), ('kyu', 6806), ('demon', 6807), ('fernando', 6808), ('belgian', 6809), ('busco', 6810), ('pueblo', 6811), ('sligo', 6812), ('muncie', 6813), ('irvine', 6814), ('irvin', 6815), ('mayfield', 6816), ('kokhanok', 6817), ('nevado', 6818), ('cruces', 6819), ('pl', 6820), ('sandman', 6821), ('whispering', 6822), ('willows', 6823), ('88th', 6824), ('boyd', 6825), ('epworth', 6826), ('mariah', 6827), ('elusive', 6828), ('chanteuse', 6829), ('aj', 6830), ('carothers', 6831), ('johnstown', 6832), ('flood', 6833), ('tetrazzini', 6834), ('deathly', 6835), ('hallows', 6836), ('tiffany', 6837), ('lamb', 6838), ('eleele', 6839), ('troops', 6840), ('sonora', 6841), ('sabin', 6842), ('rai', 6843), ('scotland', 6844), ('presskopf', 6845), ('wagner', 6846), ('prints', 6847), ('swedish', 6848), ('butler', 6849), ('kindness', 6850), ('seeger', 6851), ('007', 6852), ('lied', 6853), ('kalkaska', 6854), ('dresbach', 6855), ('decaturville', 6856), ('scrolls', 6857), ('worthington', 6858), ('racionais', 6859), ('mae', 6860), ('nozomi', 6861), ('tsuji', 6862), ('shivers', 6863), ('bioruby', 6864), ('melcher', 6865), ('manson', 6866), ('shops', 6867), ('allenton', 6868), ('cusinie', 6869), ('cheerful', 6870), ('karol', 6871), ('pope', 6872), ('escondida', 6873), ('kikas', 6874), ('undatakerz', 6875), ('mccrea', 6876), ('towne', 6877), ('hokendauqua', 6878), ('gouden', 6879), ('roos', 6880), ('zenith', 6881), ('litchfield', 6882), ('hridaynath', 6883), ('mashable', 6884), ('natasja', 6885), ('alderwood', 6886), ('manning', 6887), ('jovino', 6888), ('neto', 6889), ('northvale', 6890), ('naseer', 6891), ('shamma', 6892), ('breeze', 6893), ('phera', 6894), ('jonas', 6895), ('marble', 6896), ('petrified', 6897), ('carrousel', 6898), ('manitou', 6899), ('bears', 6900), ('interesting', 6901), ('webley', 6902), ('romain', 6903), ('fereydoun', 6904), ('farrokhzad', 6905), ('vladimir', 6906), ('vysotski', 6907), ('duty', 6908), ('141', 6909), ('intruders', 6910), ('hippocratic', 6911), ('oath', 6912), ('farewell', 6913), ('fragile', 6914), ('mumbai', 6915), ('attacks', 6916), ('woodmere', 6917), ('friedman', 6918), ('kenneth', 6919), ('rakuen', 6920), ('tsuihou', 6921), ('expelled', 6922), ('friesland', 6923), ('allenwood', 6924), ('eifel', 6925), ('notebook', 6926), ('trigorin', 6927), ('student', 6928), ('spotat', 6929), ('critic', 6930), ('bernardsville', 6931), ('currituck', 6932), ('windber', 6933), ('365', 6934), ('bothwell', 6935), ('providence', 6936), ('hackett', 6937), ('coordinates', 6938), ('christy', 6939), ('louise', 6940), ('coyote', 6941), ('pad', 6942), ('yummy', 6943), ('bingham', 6944), ('tanque', 6945), ('fats', 6946), ('waller', 6947), ('winnebago', 6948), ('macneil', 6949), ('glacier', 6950), ('lansford', 6951), ('prejudice', 6952), ('janie', 6953), ('sanford', 6954), ('herald', 6955), ('blush', 6956), ('merle', 6957), ('haggard', 6958), ('30th', 6959), ('aree', 6960), ('poneto', 6961), ('battlestations', 6962), ('sissieretta', 6963), ('agnolotti', 6964), ('carina', 6965), ('drop', 6966), ('joi', 6967), ('chua', 6968), ('memories', 6969), ('vibe', 6970), ('jiafeng', 6971), ('sign', 6972), ('anchor', 6973), ('moye', 6974), ('coxs', 6975), ('bellwood', 6976), ('armik', 6977), ('divided', 6978), ('welch', 6979), ('cj', 6980), ('snare', 6981), ('brookneal', 6982), ('surprise', 6983), ('sonja', 6984), ('branch', 6985), ('section', 6986), ('furniture', 6987), ('moulin', 6988), ('tooth', 6989), ('gulfport', 6990), ('2007–2008', 6991), ('andrés', 6992), ('calamaro', 6993), ('benedict', 6994), ('paddy', 6995), ('reilly', 6996), ('later', 6997), ('wayside', 6998), ('fathers', 6999), ('tammi', 7000), ('fools', 7001), ('lego', 7002), ('roxbox', 7003), ('conway', 7004), ('twitty', 7005), ('ven', 7006), ('barometer', 7007), ('jenkins', 7008), ('sholle', 7009), ('contra', 7010), ('waxhaw', 7011), ('ishmon', 7012), ('bracey', 7013), ('cherie', 7014), ('jang', 7015), ('nara', 7016), ('vichyssoise', 7017), ('completely', 7018), ('wyomissing', 7019), ('krystal', 7020), ('johto', 7021), ('journeys', 7022), ('stretch', 7023), ('slender', 7024), ('thread', 7025), ('todos', 7026), ('adieu', 7027), ('arsenault', 7028), ('cairngorms', 7029), ('hollows', 7030), ('fiction', 7031), ('noche', 7032), ('chicas', 7033), ('nigga', 7034), ('kellerton', 7035), ('fey', 7036), ('valle', 7037), ('jarama', 7038), ('civil', 7039), ('tails', 7040), ('zamboanga', 7041), ('lochearn', 7042), ('sealed', 7043), ('yonder', 7044), ('orleans', 7045), ('veneto', 7046), ('antietam', 7047), ('solitude', 7048), ('prime', 7049), ('nurture', 7050), ('onward', 7051), ('sabrina', 7052), ('salerno', 7053), ('soviet', 7054), ('tankmen', 7055), ('gaither', 7056), ('jona', 7057), ('bechtolt', 7058), ('maia', 7059), ('brookdale', 7060), ('nike', 7061), ('tempo', 7062), ('hamel', 7063), ('vanishing', 7064), ('madawaska', 7065), ('plalist', 7066), ('visjoner', 7067), ('ramakadha', 7068), ('libby', 7069), ('accounting', 7070), ('29', 7071), ('erica', 7072), ('atlantis', 7073), ('terre', 7074), ('engloutie', 7075), ('manilow', 7076), ('counting', 7077), ('rosaries', 7078), ('adding', 7079), ('smokefree', 7080), ('rockquest', 7081), ('faultline', 7082), ('jannie', 7083), ('boma', 7084), ('tuna', 7085), ('teterville', 7086), ('everlast', 7087), ('frewen', 7088), ('ettrick', 7089), ('drama', 7090), ('wintersong', 7091), ('greensburg', 7092), ('fascility', 7093), ('mancos', 7094), ('soulblighter', 7095), ('kirtley', 7096), ('culver', 7097), ('mercedes', 7098), ('cimarron', 7099), ('selinsgrove', 7100), ('gilmour', 7101), ('stano', 7102), ('angle', 7103), ('sixpence', 7104), ('housemaid', 7105), ('headed', 7106), ('brittany', 7107), ('outback', 7108), ('harutyunyan', 7109), ('xanadu', 7110), ('mauboy', 7111), ('pe', 7112), ('trains', 7113), ('planes', 7114), ('portsmouth', 7115), ('editions', 7116), ('pocket', 7117), ('kryptonite', 7118), ('wally', 7119), ('syreeta', 7120), ('yamma', 7121), ('pump', 7122), ('conducting', 7123), ('grave', 7124), ('crazysexycool', 7125), ('taken', 7126), ('dongola', 7127), ('envoy', 7128), ('lucifer', 7129), ('kitty', 7130), ('careless', 7131), ('kackley', 7132), ('reservtion', 7133), ('delfino', 7134), ('caetano', 7135), ('veloso', 7136), ('lankan', 7137), ('tues', 7138), ('tarkan', 7139), ('shuffle', 7140), ('syndrome', 7141), ('tyranny', 7142), ('ecru', 7143), ('blackman', 7144), ('parksdale', 7145), ('khwaja', 7146), ('ghulam', 7147), ('farid', 7148), ('bomberman', 7149), ('shmini', 7150), ('atzeret', 7151), ('lari', 7152), ('kin', 7153), ('healthy', 7154), ('macclenny', 7155), ('sentimental', 7156), ('bloke', 7157), ('mango', 7158), ('dante', 7159), ('augustine', 7160), ('bock', 7161), ('orbison', 7162), ('hungarian', 7163), ('cuts', 7164), ('ways', 7165), ('mj', 7166), ('jeeves', 7167), ('wooster', 7168), ('nonsense', 7169), ('rolf', 7170), ('neshanic', 7171), ('butch', 7172), ('trucks', 7173), ('brady', 7174), ('flanagan', 7175), ('elizaveta', 7176), ('khripounova', 7177), ('woodston', 7178), ('clerk', 7179), ('mansion', 7180), ('principle', 7181), ('jarnowick', 7182), ('redbreast', 7183), ('lorain', 7184), ('hughie', 7185), ('vidyadhar', 7186), ('vyas', 7187), ('donald', 7188), ('rubinstein', 7189), ('tribeca', 7190), ('jacklyn', 7191), ('hardesty', 7192), ('stream', 7193), ('clawson', 7194), ('hoggard', 7195), ('dres', 7196), ('tells', 7197), ('divergent', 7198), ('knife', 7199), ('throwing', 7200), ('act', 7201), ('valor', 7202), ('accidentally', 7203), ('sneaky', 7204), ('135th', 7205), ('islanders', 7206), ('concerts', 7207), ('maakii', 7208), ('cale', 7209), ('waffle', 7210), ('yumi', 7211), ('matsuzawa', 7212), ('dalbello', 7213), ('cma', 7214), ('nominees', 7215), ('matinee', 7216), ('idol', 7217), ('bushkill', 7218), ('jamal', 7219), ('faced', 7220), ('spatial', 7221), ('query', 7222), ('server', 7223), ('weird', 7224), ('descendants', 7225), ('corpus', 7226), ('sveta', 7227), ('ljubav', 7228), ('coteau', 7229), ('contemporary', 7230), ('teyana', 7231), ('choose', 7232), ('scrapple', 7233), ('harriett', 7234), ('deanne', 7235), ('ralls', 7236), ('faithless', 7237), ('hanna', 7238), ('sjedokowa', 7239), ('tianjin', 7240), ('plya', 7241), ('kancherla', 7242), ('gopanna', 7243), ('altai', 7244), ('tavan', 7245), ('bogd', 7246), ('mamie', 7247), ('fisk', 7248), ('69th', 7249), ('ritchey', 7250), ('fade', 7251), ('dumplings', 7252), ('episodi', 7253), ('hutchinson', 7254), ('dishyum', 7255), ('roselle', 7256), ('cristo', 7257), ('citizen', 7258), ('silly', 7259), ('sadface', 7260), ('bender', 7261), ('topinabee', 7262), ('moor', 7263), ('albino', 7264), ('blacksheep', 7265), ('fondo', 7266), ('buio', 7267), ('pangaea', 7268), ('latina', 7269), ('koi', 7270), ('senkyo', 7271), ('ship', 7272), ('lollipop', 7273), ('rockwell', 7274), ('meeres', 7275), ('insel', 7276), ('bastimentos', 7277), ('hebbronville', 7278), ('humphrey', 7279), ('vacation', 7280), ('petrov', 7281), ('vasechkin', 7282), ('moribund', 7283), ('burgermeister', 7284), ('anjo', 7285), ('geese', 7286), ('chemical', 7287), ('engineers', 7288), ('lbc', 7289), ('argentino', 7290), ('breaux', 7291), ('eylem', 7292), ('osmanthus', 7293), ('mariem', 7294), ('hassan', 7295), ('leyoad', 7296), ('inversion', 7297), ('slash', 7298), ('sardonic', 7299), ('wrath', 7300), ('yung', 7301), ('joc', 7302), ('hironobu', 7303), ('kageyama', 7304), ('cocco', 7305), ('4813', 7306), ('kentuckians', 7307), ('topock', 7308), ('lilly', 7309), ('underneath', 7310), ('bertha', 7311), ('clean', 7312), ('sober', 7313), ('rhythmic', 7314), ('seeley', 7315), ('brook', 7316), ('mars', 7317), ('2112', 7318), ('pleasures', 7319), ('chrisman', 7320), ('choclo', 7321), ('terri', 7322), ('noblesville', 7323), ('gregoletto', 7324), ('effie', 7325), ('rocko', 7326), ('hord', 7327), ('invitation', 7328), ('bit', 7329), ('mambo', 7330), ('garfunkel', 7331), ('oakey', 7332), ('hackney', 7333), ('jeanette', 7334), ('angelus', 7335), ('banquet', 7336), ('elisabeth', 7337), ('deviled', 7338), ('harel', 7339), ('skaat', 7340), ('madlib', 7341), ('invazion', 7342), ('prog', 7343), ('monsters', 7344), ('bal', 7345), ('ganesh', 7346), ('maxwell', 7347), ('quebeck', 7348), ('outsiders', 7349), ('portage', 7350), ('merjanov', 7351), ('bang', 7352), ('forgetting', 7353), ('strings', 7354), ('jump', 7355), ('leah', 7356), ('kauffman', 7357), ('kanopolis', 7358), ('childs', 7359), ('bruno', 7360), ('hicks', 7361), ('doc', 7362), ('bronze', 7363), ('banking', 7364), ('violence', 7365), ('inner', 7366), ('roudyk', 7367), ('aira', 7368), ('yuhki', 7369), ('wynter', 7370), ('sonu', 7371), ('niigaam', 7372), ('crossgenesis', 7373), ('frybread', 7374), ('arletta', 7375), ('tyresta', 7376), ('attell', 7377), ('geschwisterliebe', 7378), ('rom', 7379), ('rodna', 7380), ('salads', 7381), ('howling', 7382), ('werewolf', 7383), ('exorcising', 7384), ('saratoga', 7385), ('scottish', 7386), ('sahuarita', 7387), ('carácter', 7388), ('stops', 7389), ('altyn', 7390), ('emel', 7391), ('shining', 7392), ('tsukiko', 7393), ('amano', 7394), ('denali', 7395), ('boogaloo', 7396), ('chara', 7397), ('1634', 7398), ('ram', 7399), ('whittaker', 7400), ('gradyville', 7401), ('mayya', 7402), ('seal', 7403), ('burst', 7404), ('nur', 7405), ('mit', 7406), ('dir', 7407), ('naughty', 7408), ('lauryn', 7409), ('fancy', 7410), ('senior', 7411), ('rosebud', 7412), ('checkmate', 7413), ('kago', 7414), ('policeman', 7415), ('cityzen', 7416), ('allah', 7417), ('mainer', 7418), ('stratan', 7419), ('masterworks', 7420), ('teenagers', 7421), ('diplo', 7422), ('masaharu', 7423), ('frozen', 7424), ('chattahoochee', 7425), ('iheartradio', 7426), ('jessie', 7427), ('belinda', 7428), ('minestra', 7429), ('elberta', 7430), ('cottondale', 7431), ('sloane', 7432), ('sivamani', 7433), ('bocelli', 7434), ('soak', 7435), ('blackpool', 7436), ('lamentation', 7437), ('cloris', 7438), ('wolves', 7439), ('feature', 7440), ('lighthouse', 7441), ('everytime', 7442), ('hossein', 7443), ('alizadeh', 7444), ('nightmute', 7445), ('spectral', 7446), ('bethany', 7447), ('saori', 7448), ('atsumi', 7449), ('noah', 7450), ('wuv', 7451), ('bernardo', 7452), ('arcims', 7453), ('workplace', 7454), ('sherry', 7455), ('nunam', 7456), ('iqua', 7457), ('joad', 7458), ('prayer', 7459), ('malcom', 7460), ('raphael', 7461), ('rabello', 7462), ('elbridge', 7463), ('bryant', 7464), ('gladiators', 7465), ('labor', 7466), ('notes', 7467), ('choucroute', 7468), ('daewon', 7469), ('oreo', 7470), ('trevor', 7471), ('mcnevan', 7472), ('tomosaka', 7473), ('dock', 7474), ('alexandrovich', 7475), ('pimp', 7476), ('holladay', 7477), ('ridgley', 7478), ('epiphany', 7479), ('pineridge', 7480), ('keke', 7481), ('wyatt', 7482), ('haley', 7483), ('scarnato', 7484), ('asleep', 7485), ('kernersville', 7486), ('ansonia', 7487), ('karthaus', 7488), ('lakeview', 7489), ('cebu', 7490), ('hangtown', 7491), ('jagual', 7492), ('octagon', 7493), ('christchurch', 7494), ('wynton', 7495), ('mascoutah', 7496), ('avantgarde', 7497), ('getzville', 7498), ('hendley', 7499), ('woburn', 7500), ('orson', 7501), ('trunes', 7502), ('sergeants', 7503), ('taggart', 7504), ('dawood', 7505), ('sarkhosh', 7506), ('wedlock', 7507), ('eliel', 7508), ('topton', 7509), ('littrell', 7510), ('requests', 7511), ('vikku', 7512), ('vinayakram', 7513), ('manassas', 7514), ('teriazume', 7515), ('sardis', 7516), ('albarn', 7517), ('pelland', 7518), ('moby', 7519), ('sungmin', 7520), ('woo', 7521), ('maritime', 7522), ('unarchigal', 7523), ('wastedagain', 7524), ('sólo', 7525), ('dos', 7526), ('cartwright', 7527), ('carencro', 7528), ('foros', 7529), ('timis', 7530), ('ston', 7531), ('greco', 7532), ('cosnarati', 7533), ('emergency', 7534), ('damien', 7535), ('narew', 7536), ('visual', 7537), ('audio', 7538), ('sensory', 7539), ('yuchun', 7540), ('dovre', 7541), ('turk', 7542), ('monifah', 7543), ('victim', 7544), ('hawkshaw', 7545), ('reineke', 7546), ('vaughn', 7547), ('president', 7548), ('aragon', 7549), ('ballroom', 7550), ('potje', 7551), ('vet', 7552), ('hamish', 7553), ('maccunn', 7554), ('stern', 7555), ('gavin', 7556), ('koppell', 7557), ('pressure', 7558), ('cracks', 7559), ('expect', 7560), ('paella', 7561), ('moosic', 7562), ('addo', 7563), ('elefanten', 7564), ('ennis', 7565), ('coastal', 7566), ('aventuras', 7567), ('feels', 7568), ('strolghino', 7569), ('rosanna', 7570), ('ejercicio', 7571), ('lock', 7572), ('repent', 7573), ('replenish', 7574), ('somwhere', 7575), ('clafoutis', 7576), ('lukasz', 7577), ('gottwald', 7578), ('contre', 7579), ('arsène', 7580), ('lupin', 7581), ('germantown', 7582), ('niko', 7583), ('sailor', 7584), ('supers', 7585), ('inthanon', 7586), ('lambeth', 7587), ('solo', 7588), ('leann', 7589), ('rimes', 7590), ('janne', 7591), ('puurtinen', 7592), ('licia', 7593), ('nora', 7594), ('toward', 7595), ('standard', 7596), ('shopping', 7597), ('spree', 7598), ('prey', 7599), ('cuyabeno', 7600), ('bluffs', 7601), ('mrs', 7602), ('munia', 7603), ('lambert', 7604), ('emerald', 7605), ('caledonian', 7606), ('keachi', 7607), ('fettucine', 7608), ('cracked', 7609), ('effortless', 7610), ('regurgitation', 7611), ('chatmoss', 7612), ('chet', 7613), ('lam', 7614), ('microsoft', 7615), ('scanner', 7616), ('gina', 7617), ('schock', 7618), ('cholame', 7619), ('carnegie', 7620), ('rambow', 7621), ('earls', 7622), ('lucille', 7623), ('anston', 7624), ('gurabo', 7625), ('velma', 7626), ('kamrar', 7627), ('karnataka', 7628), ('becharof', 7629), ('dancepop', 7630), ('dorothy', 7631), ('witches', 7632), ('oz', 7633), ('innocence', 7634), ('via', 7635), ('dolorosa', 7636), ('ludlow', 7637), ('kowanek', 7638), ('period', 7639), ('bonn', 7640), ('powder', 7641), ('puff', 7642), ('grohl', 7643), ('offerman', 7644), ('kasey', 7645), ('chambers', 7646), ('wikluh', 7647), ('kamen', 7648), ('ooo', 7649), ('shogun', 7650), ('core', 7651), ('medals', 7652), ('streaming', 7653), ('jardine', 7654), ('greenville', 7655), ('caroline', 7656), ('pond', 7657), ('moondog', 7658), ('chupacabra', 7659), ('catchphrase', 7660), ('grow', 7661), ('chloe', 7662), ('lattanzi', 7663), ('rei', 7664), ('momo', 7665), ('malese', 7666), ('jow', 7667), ('irreconcilable', 7668), ('differences', 7669), ('jailbird', 7670), ('socrates', 7671), ('tourist', 7672), ('tin', 7673), ('ashes', 7674), ('pocahontas', 7675), ('farnham', 7676), ('katharine', 7677), ('technicolor', 7678), ('elmore', 7679), ('engelchen', 7680), ('vegucated', 7681), ('ichibyōgoto', 7682), ('shout', 7683), ('coats', 7684), ('judge', 7685), ('jules', 7686), ('mohsen', 7687), ('chavoshi', 7688), ('barbra', 7689), ('streisand', 7690), ('cone', 7691), ('lily', 7692), ('maidens', 7693), ('kk', 7694), ('rudolph', 7695), ('towers', 7696), ('lao', 7697), ('deloris', 7698), ('ester', 7699), ('lahore', 7700), ('maldeamores', 7701), ('czechia', 7702), ('maze', 7703), ('scriptures', 7704), ('lofgreen', 7705), ('earline', 7706), ('gahō', 7707), ('nathaniel', 7708), ('shilkret', 7709), ('reager', 7710), ('percy', 7711), ('alkabli', 7712), ('windhorst', 7713), ('verjamem', 7714), ('racketeers', 7715), ('nokia', 7716), ('louella', 7717), ('eclectic', 7718), ('govere', 7719), ('mcphee', 7720), ('terrie', 7721), ('hypoluxo', 7722), ('parnell', 7723), ('varnado', 7724), ('county', 7725), ('hardest', 7726), ('agnew', 7727), ('fri', 7728), ('jess', 7729), ('singular', 7730), ('number', 7731), ('arsho', 7732), ('noew', 7733), ('dundee', 7734), ('pink', 7735), ('trapp', 7736), ('jay', 7737), ('lidia', 7738), ('latasha', 7739), ('rakim', 7740), ('exell', 7741), ('undressed', 7742), ('linn', 7743), ('berggren', 7744), ('heads', 7745), ('ringin’', 7746), ('tarpon', 7747), ('offroad', 7748), ('cita', 7749), ('grainola', 7750), ('kingfisher', 7751), ('caper', 7752), ('penuelas', 7753), ('magdalena', 7754), ('swindlers', 7755), ('vyechnyy', 7756), ('strannik', 7757), ('beltsville', 7758), ('robinette', 7759), ('skeptic', 7760), ('teuflische', 7761), ('haus', 7762), ('maisry', 7763), ('durant', 7764), ('fra', 7765), ('mols', 7766), ('skagen', 7767), ('grecian', 7768), ('iw', 7769), ('atch', 7770), ('balls', 7771), ('vampate', 7772), ('fuoco', 7773), ('eunice', 7774), ('elisa', 7775), ('shambaugh', 7776), ('hayvoronsky', 7777), ('burnout', 7778), ('pilson', 7779), ('metalblood', 7780), ('projections', 7781), ('maybe', 7782), ('preminchi', 7783), ('choodu', 7784), ('orchestrion', 7785), ('ones', 7786), ('vybz', 7787), ('kartel', 7788), ('gibassier', 7789), ('stunt', 7790), ('ricardo', 7791), ('villalobos', 7792), ('seattle', 7793), ('almost', 7794), ('johan', 7795), ('larsson', 7796), ('travelers', 7797), ('hull', 7798), ('join', 7799), ('dots', 7800), ('sides', 7801), ('rarities', 7802), ('munawar', 7803), ('phrazes', 7804), ('glam', 7805), ('maartin', 7806), ('allcock', 7807), ('spade', 7808), ('dee', 7809), ('scorching', 7810), ('cohesive', 7811), ('closet', 7812), ('ringgold', 7813), ('monique', 7814), ('pulsions', 7815), ('als', 7816), ('het', 7817), ('liefde', 7818), ('gaat', 7819), ('ibiza', 7820), ('flowers', 7821), ('deron', 7822), ('fridays', 7823), ('re', 7824), ('hamatora', 7825), ('contact', 7826), ('fortus', 7827), ('watcher', 7828), ('phenomenological', 7829), ('mcroberts', 7830), ('attractive', 7831), ('sundanese', 7832), ('routine', 7833), ('morrow', 7834), ('possible', 7835), ('robot', 7836), ('tartine', 7837), ('cedar', 7838), ('ives', 7839), ('field', 7840), ('sifow', 7841), ('zec', 7842), ('mitchinamecus', 7843), ('putting', 7844), ('turbulence', 7845), ('streetdanz', 7846), ('buckley', 7847), ('xuefei', 7848), ('yang', 7849), ('arkinda', 7850), ('ludden', 7851), ('looks', 7852), ('rushton', 7853), ('moreve', 7854), ('shingleton', 7855), ('smoke', 7856), ('naches', 7857), ('voce', 7858), ('bennett', 7859), ('28th', 7860), ('parthenon', 7861), ('moris', 7862), ('tepper', 7863), ('kinder', 7864), ('photographic', 7865), ('slept', 7866), ('update', 7867), ('truffade', 7868), ('119', 7869), ('reverse', 7870), ('junun', 7871), ('kaniel', 7872), ('edie', 7873), ('brickell', 7874), ('grandmother', 7875), ('inspector', 7876), ('brew', 7877), ('nba', 7878), ('rashad', 7879), ('robbe', 7880), ('satisfied', 7881), ('dallesport', 7882), ('beechman', 7883), ('pelahatchie', 7884), ('daigo', 7885), ('fulton', 7886), ('frl', 7887), ('menke', 7888), ('anson', 7889), ('hu', 7890), ('gobler', 7891), ('boyertown', 7892), ('lenzburg', 7893), ('confederate', 7894), ('rileyville', 7895), ('sanibel', 7896), ('lines', 7897), ('rudolf', 7898), ('smiles', 7899), ('ramy', 7900), ('ayach', 7901), ('solveig', 7902), ('located', 7903), ('whiteside', 7904), ('karoly', 7905), (\"d'lo\", 7906), ('suns', 7907), ('iparty', 7908), ('victorious', 7909), ('baeckeoffe', 7910), ('hallie', 7911), ('whisper', 7912), ('visible', 7913), ('andes', 7914), ('saurials', 7915), ('kidd', 7916), ('berigan', 7917), ('frampton', 7918), ('gunn', 7919), ('battlement', 7920), ('mapa', 7921), ('shavuot', 7922), ('noroi', 7923), ('curse', 7924), ('allen', 7925), ('roscoff', 7926), ('lene', 7927), ('lovich', 7928), ('willa', 7929), ('blyde', 7930), ('tyner', 7931), ('betsy', 7932), ('molecular', 7933), ('gastronomy', 7934), ('survive', 7935), ('wiggs', 7936), ('tatico', 7937), ('henriquez', 7938), ('bleeps', 7939), ('bloops', 7940), ('owings', 7941), ('soem', 7942), ('beavis', 7943), ('butt', 7944), ('stroll', 7945), ('pork', 7946), ('verenikina', 7947), ('sashimi', 7948), ('concerns', 7949), ('keene', 7950), ('ziwa', 7951), ('rhino', 7952), ('fernley', 7953), ('slippery', 7954), ('gober', 7955), ('joplin', 7956), ('alps', 7957), ('koma', 7958), ('mizell', 7959), ('vinnie', 7960), ('roslin', 7961), ('asha', 7962), ('bhosle', 7963), ('hematite', 7964), ('eminence', 7965), ('yuauea', 7966), ('72nd', 7967), ('maksim', 7968), ('mcguinness', 7969), ('savior', 7970), ('leads', 7971), ('rhapsody', 7972), ('nighthawk', 7973), ('solution', 7974), ('military', 7975), ('americans', 7976), ('butter', 7977), ('drawa', 7978), ('regis', 7979), ('nielsen', 7980), ('lousy', 7981), ('walpole', 7982), ('inning', 7983), ('isthmus', 7984), ('weathr', 7985), ('akin', 7986), ('hydration', 7987), ('cristina', 7988), ('minutos', 7989), ('meditations', 7990), ('playstation官方杂志', 7991), ('sutphin', 7992), ('sucks', 7993), ('psycho', 7994), ('exiles', 7995), ('cammack', 7996), ('shooby', 7997), ('tearing', 7998), ('charts', 7999), ('graphics', 8000), ('animation', 8001), ('suus', 8002), ('chief', 8003), ('cluster', 8004), ('computing', 8005), ('gillespie', 8006), ('subroc', 8007), ('chingy', 8008), ('flag', 8009), ('recite', 8010), ('bathgate', 8011), ('lapponia', 8012), ('soupe', 8013), ('mystical', 8014), ('owens', 8015), ('jacqueline', 8016), ('uncas', 8017), ('southwest', 8018), ('twice', 8019), ('tiplersville', 8020), ('playslist', 8021), ('cabbage', 8022), ('keiji', 8023), ('haino', 8024), ('neidich', 8025), ('loco', 8026), ('ecstatic', 8027), ('waar', 8028), ('zon', 8029), ('henlopen', 8030), ('53rd', 8031), ('bayou', 8032), ('janet', 8033), ('paschal', 8034), ('avalon', 8035), ('pease', 8036), ('porridge', 8037), ('vicious', 8038), ('toxicology', 8039), ('environmental', 8040), ('shanghaï', 8041), ('wait', 8042), ('draper', 8043), ('bslade', 8044), ('purdy', 8045), ('spaghetti', 8046), ('warehouse', 8047), ('catalina', 8048), ('delores', 8049), ('brandie', 8050), ('winnfield', 8051), ('dame', 8052), ('leena', 8053), ('peisa', 8054), ('loyalty', 8055), ('ajoy', 8056), ('chakrabarty', 8057), ('xenomania', 8058), ('tables', 8059), ('jackal', 8060), ('renee', 8061), ('jewel', 8062), ('buddy', 8063), ('tate', 8064), ('glarus', 8065), ('jtr', 8066), ('kelloe', 8067), ('winfield', 8068), ('titiyo', 8069), ('chaw', 8070), ('concord', 8071), ('built', 8072), ('mucho', 8073), ('pattie', 8074), ('laarni', 8075), ('lozada', 8076), ('lopeno', 8077), ('thunderbolt', 8078), ('boyce', 8079), ('webb', 8080), ('188', 8081), ('gristak', 8082), ('chestnut', 8083), ('mare', 8084), ('comunas', 8085), ('spine', 8086), ('surfs', 8087), ('craft', 8088), ('border', 8089), ('less', 8090), ('candles', 8091), ('kendricks', 8092), ('keystone', 8093), ('kops', 8094), ('vibrations', 8095), ('marion', 8096), ('raven', 8097), ('rookantha', 8098), ('gunathilake', 8099), ('blocher', 8100), ('murvin', 8101), ('westhampton', 8102), ('maharashtrian', 8103), ('necromancer', 8104), ('crawlspace', 8105), ('briarwood', 8106), ('kom', 8107), ('maalaea', 8108), ('eastville', 8109), ('rayvon', 8110), ('dictionary', 8111), ('slang', 8112), ('unconventional', 8113), ('baruch', 8114), ('chait', 8115), ('random', 8116), ('beda', 8117), ('germania', 8118), ('flake', 8119), ('twisted', 8120), ('burgh', 8121), ('melancholia', 8122), ('nao', 8123), ('kawakita', 8124), ('accesss', 8125), ('naguabo', 8126), ('roars', 8127), ('macgregor', 8128), ('krieg', 8129), ('chinatown', 8130), ('townes', 8131), ('zandt', 8132), ('bottles', 8133), ('sichuan', 8134), ('velvet', 8135), ('piece', 8136), ('colors', 8137), ('bloodstained', 8138), ('albums', 8139), ('toaster', 8140), ('rescue', 8141), ('mccartney', 8142), ('cretu', 8143), ('joann', 8144), ('grits', 8145), ('alton', 8146), ('milton', 8147), ('freewater', 8148), ('raleigh', 8149), ('nellie', 8150), ('mckay', 8151), ('kulpsville', 8152), ('mir', 8153), ('blanco', 8154), ('vegas', 8155), ('spiderman', 8156), ('itsu', 8157), ('pt', 8158), ('tsingy', 8159), ('bemaraha', 8160), ('finsbury', 8161), ('fanatic', 8162), ('spotted', 8163), ('pig', 8164), ('inquiry', 8165), ('opus', 8166), ('mcpherson', 8167), ('mcnally', 8168), ('stays', 8169), ('ismol', 8170), ('incite', 8171), ('eastlake', 8172), ('repose', 8173), ('dre', 8174), ('nib', 8175), ('fay', 8176), ('gentle', 8177), ('skycity', 8178), ('salado', 8179), ('samuel', 8180), ('tyne', 8181), ('nusic', 8182), ('krypto', 8183), ('superdog', 8184), ('jalal', 8185), ('zolfonun', 8186), ('diplomat', 8187), ('regulate', 8188), ('iouri', 8189), ('bachmet', 8190), ('method', 8191), ('burr', 8192), ('woodruff', 8193), ('jose', 8194), ('pasillas', 8195), ('hash', 8196), ('skaggs', 8197), ('entfesselt', 8198), ('006', 8199), ('sydney', 8200), ('deposit', 8201), ('britain', 8202), ('shari', 8203), ('indiahoma', 8204), ('siavash', 8205), ('ghomayshi', 8206), ('experience', 8207), ('bien', 8208), ('acompañado', 8209), ('60s', 8210), ('anymore', 8211), ('servidor', 8212), ('matching', 8213), ('dewey', 8214), ('gurdas', 8215), ('maan', 8216), ('heber', 8217), ('silvester', 8218), ('wrigley', 8219), ('cynthia', 8220), ('sandra', 8221), ('vanlose', 8222), ('stairway', 8223), ('janove', 8224), ('ottesen', 8225), ('cień', 8226), ('caseya', 8227), ('romagna', 8228), ('brazen', 8229), ('hecker', 8230), ('chilled', 8231), ('finest', 8232), ('aflame', 8233), ('taberville', 8234), ('koontz', 8235), ('irving', 8236), ('tooh', 8237), ('bazilian', 8238), ('conquest', 8239), ('servec', 8240), ('quiche', 8241), ('bonaventure', 8242), ('turbonegro', 8243), ('republican', 8244), ('mea', 8245), ('culpa', 8246), ('rahim', 8247), ('shah', 8248), ('kaltag', 8249), ('convicted', 8250), ('tactics', 8251), ('marlboro', 8252), ('cummings', 8253), ('serpents', 8254), ('evocation', 8255), ('arcane', 8256), ('dominion', 8257), ('filipp', 8258), ('bedrossowitsch', 8259), ('kirkorow', 8260), ('bearmouth', 8261), ('trout', 8262), ('framing', 8263), ('early', 8264), ('ages', 8265), ('plan', 8266), ('roni', 8267), ('duani', 8268), ('toxic', 8269), ('avenger', 8270), ('serenata', 8271), ('mandy', 8272), ('wayning', 8273), ('rabbit', 8274), ('blighty', 8275), ('kettle', 8276), ('maimi', 8277), ('yajima', 8278), ('indicate', 8279), ('jovanotti', 8280), ('itv', 8281), ('unreleased', 8282), ('breezy', 8283), ('nosdam', 8284), ('mahalaxmi', 8285), ('shakti', 8286), ('believer', 8287), ('stanislaus', 8288), ('fare', 8289), ('celebrating', 8290), ('grateful', 8291), ('potato', 8292), ('salina', 8293), ('cou', 8294), ('natchaug', 8295), ('umatilla', 8296), ('hemanta', 8297), ('kumar', 8298), ('mukhopadhyay', 8299), ('contigo', 8300), ('distancia', 8301), ('saba', 8302), ('foundling', 8303), ('grae', 8304), ('invasion', 8305), ('exile', 8306), ('demolition', 8307), ('embryo', 8308), ('lessie', 8309), ('widow', 8310), ('nona', 8311), ('albini', 8312), ('learn', 8313), ('draw', 8314), ('feminist', 8315), ('primitive', 8316), ('maggot', 8317), ('albano', 8318), ('carrisi', 8319), ('blau', 8320), ('roel', 8321), ('velzen', 8322), ('date', 8323), ('lamentable', 8324), ('omaha', 8325), ('bigelow', 8326), ('impenetrable', 8327), ('loisaida', 8328), ('argumentative', 8329), ('jacksons', 8330), ('hears', 8331), ('etin', 8332), ('entrevistas', 8333), ('lateness', 8334), ('kitlope', 8335), ('conservancy', 8336), ('glukoza', 8337), ('moto', 8338), ('airto', 8339), ('moreira', 8340), ('lords', 8341), ('parton', 8342), ('36', 8343), ('leeds', 8344), ('wellman', 8345), ('braud', 8346), ('relaesd', 8347), ('nubians', 8348), ('plutonia', 8349), ('vivian', 8350), ('stanshall', 8351), ('clifford', 8352), ('plylist', 8353), ('darling', 8354), ('smelt', 8355), ('eviatar', 8356), ('banai', 8357), ('ranger', 8358), ('walerij', 8359), ('leontjew', 8360), ('profil', 8361), ('amina', 8362), ('mcmurray', 8363), ('marjorie', 8364), ('martina', 8365), ('mansfield', 8366), ('companion', 8367), ('khalil', 8368), ('ties', 8369), ('bind', 8370), ('porter', 8371), ('htoo', 8372), ('ein', 8373), ('alas', 8374), ('raíces', 8375), ('pybus', 8376), ('patetown', 8377), ('graduates', 8378), ('malibu', 8379), ('teo', 8380), ('macero', 8381), ('wolfe', 8382), ('josiah', 8383), ('leming', 8384), ('minestrone', 8385), ('activists', 8386), ('cahoots', 8387), ('chicane', 8388), ('gackt', 8389), ('camui', 8390), ('cawker', 8391), ('navy', 8392), ('stookey', 8393), ('komuro', 8394), ('blink', 8395), ('preston', 8396), ('botanical', 8397), ('crucial', 8398), ('bet', 8399), ('taskcracker', 8400), ('outlook', 8401), ('rosetta', 8402), ('tharpe', 8403), ('calico', 8404), ('feinstein', 8405), ('banc', 8406), ('d’arguin', 8407), ('frisbee', 8408), ('hippie', 8409), ('preacher', 8410), ('harms', 8411), ('kenmore', 8412), ('strays', 8413), ('iranian', 8414), ('systems', 8415), ('canteen', 8416), ('claudja', 8417), ('abhijeet', 8418), ('bhattacharya', 8419), ('2gether', 8420), ('puget', 8421), ('califon', 8422), ('loup', 8423), ('verdery', 8424), ('baraga', 8425), ('sensations', 8426), ('1945', 8427), ('rachel', 8428), ('strasburg', 8429), ('300', 8430), ('palco', 8431), ('patrica', 8432), ('calientes', 8433), ('descanso', 8434), ('infinito', 8435), ('robotix', 8436), ('mande', 8437), ('shelby', 8438), ('baotianman', 8439), ('cheatham', 8440), ('downward', 8441), ('tingley', 8442), ('grisham', 8443), ('jetmore', 8444), ('stomp', 8445), ('holler', 8446), ('kiley', 8447), ('deaths', 8448), ('sheryfa', 8449), ('luna', 8450), ('darnell', 8451), ('relentless', 8452), ('lure', 8453), ('mask', 8454), ('muddy', 8455), ('turnt', 8456), ('luambe', 8457), ('apshawa', 8458), ('oregonia', 8459), ('heinz', 8460), ('strobl', 8461), ('professional', 8462), ('braga', 8463), ('revolución', 8464), ('indestructible', 8465), ('independence', 8466), ('cazenovia', 8467), ('oates', 8468), ('jes', 8469), ('brieden', 8470), ('juliff', 8471), ('bucatini', 8472), ('lindsey', 8473), ('cardinale', 8474), ('cinder', 8475), ('trotamundos', 8476), ('linzi', 8477), ('stoppard', 8478), ('daisy', 8479), ('voisin', 8480), ('spinna', 8481), ('tailwind', 8482), ('salmon', 8483), ('mclagan', 8484), ('semitism', 8485), ('resurgence', 8486), ('lecanto', 8487), ('pappu', 8488), ('venugopala', 8489), ('rao', 8490), ('expendables', 8491), ('inwood', 8492), ('207th', 8493), ('cretan', 8494), ('rocketeer', 8495), ('apollo', 8496), ('osierfield', 8497), ('gazer', 8498), ('needham', 8499), ('macy', 8500), ('gt', 8501), ('older', 8502), ('using', 8503), ('seductive', 8504), ('tongue', 8505), ('masks', 8506), ('tallahassee', 8507), ('marks', 8508), ('saki', 8509), ('nakajima', 8510), ('iren', 8511), ('michaelsen', 8512), ('giancarlo', 8513), ('erra', 8514), ('doughnut', 8515), ('rencor', 8516), ('blossom', 8517), ('cure', 8518), ('mailman', 8519), ('caddo', 8520), ('halls', 8521), ('reidland', 8522), ('lowden', 8523), ('wickersham', 8524), ('sparrow', 8525), ('mortem', 8526), ('divorce', 8527), ('carlson', 8528), ('vissi', 8529), ('winchell', 8530), ('spooks', 8531), ('supercop', 8532), ('eucalyptus', 8533), ('penermon', 8534), ('armen', 8535), ('movsessian', 8536), ('skepta', 8537), ('moravian', 8538), ('timer', 8539), ('augustus', 8540), ('nicholasville', 8541), ('coleslaw', 8542), ('dahmer', 8543), ('bowers', 8544), ('troubles', 8545), ('collector', 8546), ('crossover', 8547), ('rockholds', 8548), ('playground', 8549), ('tatamy', 8550), ('hadar', 8551), ('teaching', 8552), ('extremely', 8553), ('frankenstein', 8554), ('queens', 8555), ('susumu', 8556), ('hariprasad', 8557), ('chaurasia', 8558), ('della', 8559), ('shadowchaser', 8560), ('vanquished', 8561), ('pirate', 8562), ('uproar', 8563), ('brass', 8564), ('rail', 8565), ('gideon', 8566), ('mack', 8567), ('pay', 8568), ('edward', 8569), ('ryerson', 8570), ('division', 8571), ('bbc', 8572), ('biography', 8573), ('volver', 8574), ('grabsteinland', 8575), ('gillan', 8576), ('shiina', 8577), ('barbary', 8578), ('billboard', 8579), ('zos', 8580), ('kia', 8581), ('cultus', 8582), ('connee', 8583), ('boswell', 8584), ('tortelloni', 8585), ('censored', 8586), ('eva', 8587), ('labyrinth', 8588), ('ending', 8589), ('kaye', 8590), ('sacrifice', 8591), ('pointe', 8592), ('gd', 8593), ('ortiz', 8594), ('cabinet', 8595), ('floors', 8596), ('z', 8597), ('texola', 8598), ('tuolumne', 8599), ('dodge', 8600), ('kamil', 8601), ('rustam', 8602), ('brookland', 8603), ('salute', 8604), ('manufacturing', 8605), ('consent', 8606), ('chas', 8607), ('antigua', 8608), ('barbuda', 8609), ('mf', 8610), ('doom', 8611), ('salemburg', 8612), ('went', 8613), ('carterville', 8614), ('ohguro', 8615), ('begonias', 8616), ('stalinism', 8617), ('bohemia', 8618), ('kegs', 8619), ('katherine', 8620), ('freiberg', 8621), ('ryohei', 8622), ('yamamoto', 8623), ('fangs', 8624), ('longet', 8625), ('isham', 8626), ('trust', 8627), ('worship', 8628), ('moen', 8629), ('halid', 8630), ('newton', 8631), ('prefereably', 8632), ('bebob', 8633), ('trick', 8634), ('treats', 8635), ('kj', 8636), ('garner', 8637), ('astley', 8638), ('jquery', 8639), ('mobile', 8640), ('tire', 8641), ('bachelors', 8642), ('outta', 8643), ('turf', 8644), ('fondue', 8645), ('croatan', 8646), ('olive', 8647), ('ryō', 8648), ('singstar', 8649), ('harlow', 8650), ('wilcox', 8651), ('bangers', 8652), ('alpha', 8653), ('blondy', 8654), ('ever', 8655), ('victor', 8656), ('kunonga', 8657), ('hawking', 8658), ('samira', 8659), ('said', 8660), ('gilmer', 8661), ('den', 8662), ('verdure', 8663), ('cobbler', 8664), ('peppers', 8665), ('woodsfield', 8666), ('pesotum', 8667), ('wilderville', 8668), ('tisdale', 8669), ('histoires', 8670), ('paroles', 8671), ('laid', 8672), ('loyalhanna', 8673), ('rodgers', 8674), ('hammerstein', 8675), ('elica', 8676), ('phalcon', 8677), ('zenda', 8678), ('hamorton', 8679), ('stracke', 8680), ('cottageville', 8681), ('cumberland', 8682), ('maiden', 8683), ('danced', 8684), ('siler', 8685), ('patiala', 8686), ('broonzy', 8687), ('parent', 8688), ('dukes', 8689), ('incense', 8690), ('osage', 8691), ('yakima', 8692), ('hardinsburg', 8693), ('lieutenant', 8694), ('inishmore', 8695), ('michiru', 8696), ('yamane', 8697), ('alles', 8698), ('heeft', 8699), ('ritme', 8700), ('liu', 8701), ('tianhua', 8702), ('advocate', 8703), ('storia', 8704), ('natale', 8705), ('foghat', 8706), ('lafitte', 8707), ('packed', 8708), ('rafters', 8709), ('bonga', 8710), ('kendall', 8711), ('skid', 8712), ('flossmoor', 8713), ('chettathi', 8714), ('fu', 8715), ('lenin', 8716), ('comeback', 8717), ('voluntad', 8718), ('cielo', 8719), ('wax', 8720), ('subliminal', 8721), ('marta', 8722), ('infernal', 8723), ('devices', 8724), ('bilal', 8725), ('valerij', 8726), ('bonnet', 8727), ('moldy', 8728), ('carpathian', 8729), ('hurry', 8730), ('manatee', 8731), ('trancers', 8732), ('grisdale', 8733), ('into', 8734), ('pane', 8735), ('behzad', 8736), ('mirkhani', 8737), ('twentynine', 8738), ('palms', 8739), ('trina', 8740), ('latoya', 8741), ('fahl', 8742), ('sailing', 8743), ('fears', 8744), ('cajah', 8745), ('extended', 8746), ('felix', 8747), ('kubin', 8748), ('bellechester', 8749), ('callahan', 8750), ('es', 8751), ('tuya', 8752), ('oficial', 8753), ('spasmolytic', 8754), ('milian', 8755), ('masterful', 8756), ('q', 8757), ('patriot', 8758), ('thorns', 8759), ('arch', 8760), ('neutral', 8761), ('louse', 8762), ('fir', 8763), ('hitchita', 8764), ('teacher', 8765), ('ambush', 8766), ('culdesac', 8767), ('emmy', 8768), ('rossum', 8769), ('mg', 8770), ('visionary', 8771), ('shouted', 8772), ('aubrey', 8773), ('advances', 8774), ('farnworth', 8775), ('jkt48', 8776), ('emmons', 8777), ('rosalie', 8778), ('evelyn', 8779), ('amon', 8780), ('amarth', 8781), ('perdu', 8782), ('moose', 8783), ('sitek', 8784), ('lorraine', 8785), ('lampa', 8786), ('tall', 8787), ('apolobamba', 8788), ('integrated', 8789), ('meek', 8790), ('silvia', 8791), ('cathedral', 8792), ('piperton', 8793), ('wuill', 8794), ('dickson', 8795), ('lille', 8796), ('anthology', 8797), ('kaira', 8798), ('kwong', 8799), ('pearce', 8800), ('jiles', 8801), ('perry', 8802), ('squire', 8803), ('unbeatable', 8804), ('harold', 8805), ('ebony', 8806), ('pinecliffe', 8807), ('brothel', 8808), ('tuesday', 8809), ('rendezvous', 8810), ('irv', 8811), ('gotti', 8812), ('murderers', 8813), ('merrily', 8814), ('rum', 8815), ('falco', 8816), ('carl', 8817), ('shack', 8818), ('101', 8819), ('lima', 8820), ('performed', 8821), ('kruspe', 8822), ('annunzio', 8823), ('mantovani', 8824), ('alchemist', 8825), ('kerry', 8826), ('none', 8827), ('shōnen', 8828), ('toppa', 8829), ('bashin', 8830), ('twist', 8831), ('antonella', 8832), ('barba', 8833), ('bath', 8834), ('stefon', 8835), ('killer', 8836), ('instinkt', 8837), ('hatfield', 8838), ('nanana', 8839), ('massimo', 8840), ('altomare', 8841), ('adriana', 8842), ('hallowell', 8843), ('smolan', 8844), ('upon', 8845), ('wenn', 8846), ('lucy', 8847), ('springt', 8848), ('leisure', 8849), ('knoll', 8850), ('rafet', 8851), ('pictures', 8852), ('sanilac', 8853), ('petroglyphs', 8854), ('erik', 8855), ('alfred', 8856), ('ircle', 8857), ('nest', 8858), ('reynolds', 8859), ('stoneage', 8860), ('romeos', 8861), ('moved', 8862), ('riverfront', 8863), ('reach', 8864), ('warp', 8865), ('keita', 8866), ('tachibana', 8867), ('ra', 8868), ('croissant', 8869), ('chamillionaire', 8870), ('lina', 8871), ('toms', 8872), ('geriatric', 8873), ('psychiatry', 8874), ('neurology', 8875), ('tyrant', 8876), ('morrisonville', 8877), ('bunky', 8878), ('leong', 8879), ('kenji', 8880), ('lila', 8881), ('reyes', 8882), ('stevan', 8883), ('faddy', 8884), ('currents', 8885), ('333', 8886), ('caplinger', 8887), ('uelmen', 8888), ('lamp', 8889), ('79', 8890), ('whiskers', 8891), ('favourite', 8892), ('nursery', 8893), ('rapid', 8894), ('galsoft', 8895), ('linux', 8896), ('complots', 8897), ('nude', 8898), ('hale', 8899), ('electrochemical', 8900), ('pilar', 8901), ('dido', 8902), ('suicide', 8903), ('kelley', 8904), ('suzette', 8905), ('comertown', 8906), ('vallecito', 8907), ('telemark', 8908), ('deadly', 8909), ('benkelman', 8910), ('cypress', 8911), ('mighty', 8912), ('poplar', 8913), ('anila', 8914), ('mirza', 8915), ('halley', 8916), ('wesley', 8917), ('daltrey', 8918), ('winwood', 8919), ('umbrellas', 8920), ('cherbourg', 8921), ('chichi', 8922), ('philippines', 8923), ('matters', 8924), ('boo', 8925), ('pooh', 8926), ('alyson', 8927), ('hornersville', 8928), ('touches', 8929), ('collision', 8930), ('wabuska', 8931), ('faget', 8932), ('paulette', 8933), ('zion', 8934), ('golan', 8935), ('zahn', 8936), ('adassa', 8937), ('gifta', 8938), ('sig', 8939), ('jeans', 8940), ('harveysburg', 8941), ('gestures', 8942), ('devious', 8943), ('kailash', 8944), ('kher', 8945), ('gould', 8946), ('gearhart', 8947), ('wagener', 8948), ('gyrls', 8949), ('holla', 8950), ('rombola', 8951), ('folklore', 8952), ('musiri', 8953), ('subramania', 8954), ('emida', 8955), ('twins', 8956), ('alerce', 8957), ('andino', 8958), ('glen', 8959), ('gregg', 8960), ('bissonette', 8961), ('marcia', 8962), ('carolus', 8963), ('snares', 8964), ('genesis', 8965), ('axum', 8966), ('tira', 8967), ('’m', 8968), ('tripp', 8969), ('eisen', 8970), ('thousands', 8971), ('pies', 8972), ('plandome', 8973), ('breckenridge', 8974), ('chong', 8975), ('spread', 8976), ('shinya', 8977), ('yamada', 8978), ('chuckys', 8979), ('mutlu', 8980), ('gone', 8981), ('jour', 8982), ('dans', 8983), ('notre', 8984), ('vie', 8985), ('carny', 8986), ('perfecting', 8987), ('loneliness', 8988), ('burhøns', 8989), ('priorities', 8990), ('hotchpotch', 8991), ('edwyn', 8992), ('thesis', 8993), ('deeth', 8994), ('luquillo', 8995), ('mccready', 8996), ('gustar', 8997), ('maunabo', 8998), ('cerebellum', 8999), ('sometimes', 9000), ('passing', 9001), ('akers', 9002), ('katz', 9003), ('bashkirsky', 9004), ('fairchild', 9005), ('maldito', 9006), ('bidoup', 9007), ('núi', 9008), ('bà', 9009), ('games', 9010), ('wizards', 9011), ('squared', 9012), ('bhutto', 9013), ('mausoleum', 9014), ('highland', 9015), ('informix', 9016), ('wingz', 9017), ('maylay', 9018), ('pmd', 9019), ('talkow', 9020), ('becky', 9021), ('move', 9022), ('any', 9023), ('honeysuckle', 9024), ('wallington', 9025), ('freak', 9026), ('print', 9027), ('sonic', 9028), ('solange', 9029), ('riverview', 9030), ('grantsburg', 9031), ('lucerne', 9032), ('nugget', 9033), ('session', 9034), ('shasha', 9035), ('kelso', 9036), ('marcial', 9037), ('thirayum', 9038), ('theeravum', 9039), ('tieghem', 9040), ('schultz', 9041), ('urmston', 9042), ('clash', 9043), ('codes', 9044), ('lemonade', 9045), ('mellor', 9046), ('youngest', 9047), ('profession', 9048), ('constructs', 9049), ('juliana', 9050), ('jency', 9051), ('castolon', 9052), ('principii', 9053), ('evangelikum', 9054), ('finestone', 9055), ('deus', 9056), ('deceptor', 9057), ('prurient', 9058), ('districts', 9059), ('pecan', 9060), ('plain', 9061), ('faculty', 9062), ('goan', 9063), ('hagar', 9064), ('chicamocha', 9065), ('georges', 9066), ('greenback', 9067), ('wakarusa', 9068), ('gloryhole', 9069), ('mani', 9070), ('introducing', 9071), ('rahman', 9072), ('mourner', 9073), ('happen', 9074), ('hurstville', 9075), ('carpathians', 9076), ('albertson', 9077), ('surfer', 9078), ('chronicle', 9079), ('mamaroneck', 9080), ('moron', 9081), ('isles', 9082), ('murone', 9083), ('kōgen', 9084), ('ruskin', 9085), ('tessa', 9086), ('rupee', 9087), ('bed', 9088), ('chorus', 9089), ('highest', 9090), ('couple', 9091), ('restless', 9092), ('natives', 9093), ('small', 9094), ('bonneville', 9095), ('hogs', 9096), ('bluesy', 9097), ('adeline', 9098), ('mondovisione', 9099), ('116th', 9100), ('somi', 9101), ('francisville', 9102), ('serenada', 9103), ('strogoff', 9104), ('theodore', 9105), ('apothecary', 9106), ('rx', 9107), ('twelve', 9108), ('lydia', 9109), ('mixtape', 9110), ('strongest', 9111), ('instinct', 9112), ('mccoll', 9113), ('gisela', 9114), ('neffs', 9115), ('tristan', 9116), ('betrayal', 9117), ('beside', 9118), ('soheila', 9119), ('zaland', 9120), ('poncha', 9121), ('wilde', 9122), ('brought', 9123), ('critical', 9124), ('canarsie', 9125), ('parkway', 9126), ('bennington', 9127), ('pataskala', 9128), ('crepe', 9129), ('happiness', 9130), ('laguna', 9131), ('farmerville', 9132), ('much', 9133), ('woodchuck', 9134), ('chuck', 9135), ('achilles', 9136), ('tortoise', 9137), ('amii', 9138), ('ballylickey', 9139), ('chatyrkul', 9140), ('nimal', 9141), ('mendis', 9142), ('trapaholics', 9143), ('edison', 9144), ('rebirth', 9145), ('forza', 9146), ('cedarburg', 9147), ('richards', 9148), ('lowest', 9149), ('reprise', 9150), ('falcon', 9151), ('schenectady', 9152), ('wanderer', 9153), ('ambition', 9154), ('matlacha', 9155), ('readstown', 9156), ('sidnaw', 9157), ('needmore', 9158), ('africana', 9159), ('pepe', 9160), ('aguilar', 9161), ('shed', 9162), ('vicki', 9163), ('bagels', 9164), ('infernus', 9165), ('marsha', 9166), ('kunnon', 9167), ('syy', 9168), ('niceville', 9169), ('freckled', 9170), ('cevin', 9171), ('bag', 9172), ('matrimony', 9173), ('cyclone', 9174), ('elizeth', 9175), ('cardoso', 9176), ('hickman', 9177), ('hanksville', 9178), ('accident', 9179), ('analysis', 9180), ('prevention', 9181), ('guenther', 9182), ('waddy', 9183), ('raposo', 9184), ('upcoming', 9185), ('harwell', 9186), ('dhafer', 9187), ('youssef', 9188), ('investigating', 9189), ('mommy', 9190), ('panda', 9191), ('hodges', 9192), ('dora', 9193), ('callicoon', 9194), ('rescuing', 9195), ('squires', 9196), ('bhupinder', 9197), ('singh', 9198), ('projectors', 9199), ('waverly', 9200), ('khujo', 9201), ('gill', 9202), ('cochrane', 9203), ('loveless', 9204), ('fadl', 9205), ('shaker', 9206), ('davies', 9207), ('kylie', 9208), ('minogue', 9209), ('sasu', 9210), ('ripatti', 9211), ('sonntagskind', 9212), ('dolls', 9213), ('skip', 9214), ('decisions', 9215), ('rule', 9216), ('northcote', 9217), ('goodland', 9218), ('lemonheads', 9219), ('monahan', 9220), ('tschaikovsky', 9221), ('stripped', 9222), ('nishi', 9223), ('sonogi', 9224), ('hantō', 9225), ('grocery', 9226), ('myin', 9227), ('thit', 9228), ('crucifixion', 9229), ('mcintosh', 9230), ('unnaturals', 9231), ('suit', 9232), ('stanford', 9233), ('lottery', 9234), ('portland', 9235), ('hesston', 9236), ('bhoot', 9237), ('insensitive', 9238), ('snaith', 9239), ('chalkyitsik', 9240), ('exmore', 9241), ('antonito', 9242), ('dayne', 9243), ('baez', 9244), ('roommate', 9245), ('pier', 9246), ('portal', 9247), ('daimidaler', 9248), ('penguin', 9249), ('delisle', 9250), ('exodus', 9251), ('keisha', 9252), ('tolerance', 9253), ('mascotte', 9254), ('osyka', 9255), ('dreamstone', 9256), ('wonder', 9257), ('lotfi', 9258), ('karobar', 9259), ('hou', 9260), ('jou', 9261), ('temnikova', 9262), ('patmos', 9263), ('rosie', 9264), ('tatin', 9265), ('brooke', 9266), ('yarra', 9267), ('elsmore', 9268), ('farah', 9269), ('asyikin', 9270), ('binti', 9271), ('zulkifli', 9272), ('ridel', 9273), ('margie', 9274), ('limerick', 9275), ('jerky', 9276), ('opening', 9277), ('beardyman', 9278), ('ilo', 9279), ('stefanie', 9280), ('jennings', 9281), ('duchess', 9282), ('langeais', 9283), ('piqua', 9284), ('steppe', 9285), ('lands', 9286), ('buh', 9287), ('wooly', 9288), ('craters', 9289), ('sac', 9290), ('monika', 9291), ('cunningham', 9292), ('holstein', 9293), ('sat', 9294), ('nhat', 9295), ('bombay', 9296), ('seaman', 9297), ('outer', 9298), ('radin', 9299), ('cooler', 9300), ('climate', 9301), ('badmeaningood', 9302), ('volume4', 9303), ('jaime', 9304), ('burkettsville', 9305), ('rhoda', 9306), ('roxanne', 9307), ('countryman', 9308), ('deve', 9309), ('morire', 9310), ('cuisines', 9311), ('rupam', 9312), ('aguila', 9313), ('keyes', 9314), ('summit', 9315), ('fascism', 9316), ('ransom', 9317), ('libros', 9318), ('warhead', 9319), ('corsten', 9320), ('si', 9321), ('hubiera', 9322), ('conocido', 9323), ('haidar', 9324), ('salim', 9325), ('shoots', 9326), ('manhunt', 9327), ('dodgers', 9328), ('ladyhawke', 9329), ('soapsuds', 9330), ('sapheads', 9331), ('exuma', 9332), ('polka', 9333), ('players', 9334), ('dina', 9335), ('alexis', 9336), ('roc', 9337), ('executioner', 9338), ('prosser', 9339), ('akhtar', 9340), ('sadmani', 9341), ('heston', 9342), ('blumenthal', 9343), ('melon', 9344), ('guts', 9345), ('murph', 9346), ('dungeonmaster', 9347), ('hester', 9348), ('camille', 9349), ('hearted', 9350), ('carne', 9351), ('pizzaiola', 9352), ('slemp', 9353), ('medford', 9354), ('essie', 9355), ('tonya', 9356), ('dazey', 9357), ('stereo', 9358), ('boudreaux', 9359), ('stadium', 9360), ('spencer', 9361), ('necessary', 9362), ('mint', 9363), ('attitude', 9364), ('palmview', 9365), ('chandranath', 9366), ('wicked', 9367), ('colin', 9368), ('blunstone', 9369), ('furnace', 9370), ('pallett', 9371), ('scarred', 9372), ('demi', 9373), ('semi', 9374), ('montevallo', 9375), ('cuan', 9376), ('dubh', 9377), ('drilseach', 9378), ('tullytown', 9379), ('villa', 9380), ('wiktor', 9381), ('coj', 9382), ('flex', 9383), ('niobrara', 9384), ('cuney', 9385), ('badass', 9386), ('marshal', 9387), ('lonesome', 9388), ('granbury', 9389), ('brush', 9390), ('drugs', 9391), ('lanta', 9392), ('saxis', 9393), ('harbour', 9394), ('tremonti', 9395), ('unwind', 9396), ('kurdishmedia', 9397), ('blaydon', 9398), ('priority', 9399), ('fruit', 9400), ('lick', 9401), ('branton', 9402), ('share', 9403), ('wonka', 9404), ('factory', 9405), ('geddy', 9406), ('playlst', 9407), ('camdeboo', 9408), ('match', 9409), ('heartache', 9410), ('teahouse', 9411), ('yanni', 9412), ('pinson', 9413), ('chér', 9414), ('appleyard', 9415), ('leaps', 9416), ('wang', 9417), ('lun', 9418), ('pause', 9419), ('marit', 9420), ('bergman', 9421), ('criminal', 9422), ('criminology', 9423), ('acquacotta', 9424), ('whosoever', 9425), ('offend', 9426), ('framed', 9427), ('hopeful', 9428), ('enrique', 9429), ('iglesias', 9430), ('vintage', 9431), ('74', 9432), ('acta', 9433), ('mathematicae', 9434), ('applicatae', 9435), ('sinica', 9436), ('evolution', 9437), ('ramone', 9438), ('during', 9439), ('molise', 9440), ('palacios', 9441), ('quispe', 9442), ('bowman', 9443), ('cisco', 9444), ('adler', 9445), ('firewall', 9446), ('pro', 9447), ('cassidy', 9448), ('ihsahn', 9449), ('oshin', 9450), ('petit', 9451), ('manan', 9452), ('yeager', 9453), ('armenian', 9454), ('juanes', 9455), ('ambler', 9456), ('elitsa', 9457), ('rica', 9458), ('waltersville', 9459), ('tanya', 9460), ('stephens', 9461), ('dickey', 9462), ('betts', 9463), ('bertine', 9464), ('zetlitz', 9465), ('semenovich', 9466), ('hooven', 9467), ('arons', 9468), ('thieving', 9469), ('magpie', 9470), ('hendthighelbedi', 9471), ('martinez', 9472), ('tinker', 9473), ('eugene', 9474), ('mahoney', 9475), ('cotati', 9476), ('tofy', 9477), ('basaseachic', 9478), ('thames', 9479), ('diabolico', 9480), ('barbiere', 9481), ('fleet', 9482), ('bastards', 9483), ('oclock', 9484), ('cass', 9485), ('homestead', 9486), ('meadows', 9487), ('deasy', 9488), ('bowie', 9489), ('beeb', 9490), ('moya', 9491), ('brennan', 9492), ('novena', 9493), ('nocturn', 9494), ('feud', 9495), ('lamar', 9496), ('liza', 9497), ('oumarova', 9498), ('shaun', 9499), ('sheep', 9500), ('campanella', 9501), ('smog', 9502), ('terrorists', 9503), ('sentenced', 9504), ('dansevise', 9505), ('roar', 9506), ('leaf', 9507), ('simplescreenrecorder', 9508), ('unravel', 9509), ('jackals', 9510), ('handover', 9511), ('ticks', 9512), ('bullfeathers', 9513), ('leland', 9514), ('sklar', 9515), ('hagigat', 9516), ('rzayeva', 9517), ('nhl', 9518), ('scratch', 9519), ('argusville', 9520), ('interview', 9521), ('persecution', 9522), ('jews', 9523), ('1933', 9524), ('suitcase', 9525), ('hundred', 9526), ('daring', 9527), ('dobermans', 9528), ('trees', 9529), ('rena', 9530), ('elida', 9531), ('165', 9532), ('nairobi', 9533), ('1971', 9534), ('bonham', 9535), ('pheba', 9536), ('amour', 9537), ('shesher', 9538), ('kobita', 9539), ('revisited', 9540), ('wildreservaat', 9541), ('ithala', 9542), ('trivial', 9543), ('wilma', 9544), ('gowanus', 9545), ('yacht', 9546), ('stronda', 9547), ('tortano', 9548), ('carly', 9549), ('knocked', 9550), ('loaded', 9551), ('maher', 9552), ('ate', 9553), ('thicket', 9554), ('wolin', 9555), ('southside', 9556), ('1000', 9557), ('gwenno', 9558), ('pipette', 9559), ('irene', 9560), ('rosella', 9561), ('signe', 9562), ('amsterdam', 9563), ('bagnell', 9564), ('coalton', 9565), ('sci', 9566), ('crimes', 9567), ('maschi', 9568), ('altri', 9569), ('lepond', 9570), ('submerged', 9571), ('therapy', 9572), ('handle', 9573), ('pioneers', 9574), ('whitewater', 9575), ('booty', 9576), ('hohenfriedberger', 9577), ('antero', 9578), ('manninen', 9579), ('raz', 9580), ('supernaut', 9581), ('nun', 9582), ('licorice', 9583), ('mckechnie', 9584), ('kotoko', 9585), ('glue', 9586), ('ana', 9587), ('pax', 9588), ('hatzidakis', 9589), ('janell', 9590), ('glade', 9591), ('moo', 9592), ('plot', 9593), ('keytesville', 9594), ('rouhollah', 9595), ('khaleghi', 9596), ('tires', 9597), ('osborne', 9598), ('dreamt', 9599), ('automator', 9600), ('thayer', 9601), ('waconia', 9602), ('burney', 9603), ('tranquility', 9604), ('timberville', 9605), ('exira', 9606), ('oysters', 9607), ('rockefeller', 9608), ('gladys', 9609), ('arif', 9610), ('becker', 9611), ('baden', 9612), ('vikki', 9613), ('thorn', 9614), ('socca', 9615), ('zamiast', 9616), ('burzy', 9617), ('spenard', 9618), ('kacapi', 9619), ('suling', 9620), ('kinbrae', 9621), ('elba', 9622), ('corina', 9623), ('misterioso', 9624), ('tillicum', 9625), ('pixley', 9626), ('horton', 9627), ('ooze', 9628), ('jarreau', 9629), ('inform', 9630), ('abdication', 9631), ('musgrave', 9632), ('barnard', 9633), ('ora', 9634), ('stares', 9635), ('whispers', 9636), ('boyett', 9637), ('freshwater', 9638), ('clowns', 9639), ('boaz', 9640), ('mauda', 9641), ('cova', 9642), ('frisco', 9643), ('yseult', 9644), ('kaitlin', 9645), ('lono', 9646), ('fill', 9647), ('manzarek', 9648), ('coolio', 9649), ('phase', 9650), ('jara', 9651), ('incident', 9652), ('rocksteady', 9653), ('maliau', 9654), ('basin', 9655), ('vandalia', 9656), ('viaje', 9657), ('copperpot', 9658), ('mer', 9659), ('twitches', 9660), ('yorkston', 9661), ('plying', 9662), ('teeth', 9663), ('minto', 9664), ('laurel', 9665), ('aitken', 9666), ('dresden', 9667), ('choate', 9668), ('higher', 9669), ('renaldo', 9670), ('lapuz', 9671), ('akinyele', 9672), ('smear', 9673), ('redding', 9674), ('nicholaus', 9675), ('arson', 9676), ('hickory', 9677), ('lomas', 9678), ('klose', 9679), ('kaaawa', 9680), ('forrecast', 9681), ('sugarolly', 9682), ('toby', 9683), ('nemiciamici', 9684), ('elephants', 9685), ('schools', 9686), ('chick', 9687), ('corea', 9688), ('iroquois', 9689), ('cartel', 9690), ('maison', 9691), ('parthenais', 9692), ('perrault', 9693), ('mocking', 9694), ('ledbury', 9695), ('cinnaminson', 9696), ('spectres', 9697), ('rollins', 9698), ('haugland', 9699), ('wxhexeditor', 9700), ('playmaker', 9701), ('elizabethville', 9702), ('morse', 9703), ('jiro', 9704), ('failed', 9705), ('meditative', 9706), ('pelican', 9707), ('banker', 9708), ('lafaro', 9709), ('lie', 9710), ('soup', 9711), ('migration', 9712), ('bondage', 9713), ('theo', 9714), ('keating', 9715), ('hwang', 9716), ('wynnedale', 9717), ('forêt', 9718), ('nationale', 9719), ('davy', 9720), ('crockett', 9721), ('repeating', 9722), ('unbound', 9723), ('eather', 9724), ('jungo', 9725), ('impractical', 9726), ('jokers', 9727), ('uk', 9728), ('kingsman', 9729), ('sauna', 9730), ('knoblock', 9731), ('ivy', 9732), ('jasmund', 9733), ('gnocchi', 9734), ('owenyo', 9735), ('remedial', 9736), ('telogia', 9737), ('yuvan', 9738), ('shankar', 9739), ('raja', 9740), ('rui', 9741), ('silva', 9742), ('brotherly', 9743), ('seaside', 9744), ('inniswold', 9745), ('musketeers', 9746), ('grigory', 9747), ('leps', 9748), ('shadowplay', 9749), ('cracking', 9750), ('contraptions', 9751), ('sergei', 9752), ('anatoljewitsch', 9753), ('kurjochin', 9754), ('emanuel', 9755), ('kiriakou', 9756), ('redby', 9757), ('hooksett', 9758), ('157', 9759), ('riverside', 9760), ('milas', 9761), ('poli', 9762), ('stansbury', 9763), ('perseo', 9764), ('foucault', 9765), ('stoddard', 9766), ('sudol', 9767), ('masaki', 9768), ('aiba', 9769), ('roseau', 9770), ('plankinton', 9771), ('powersville', 9772), ('guyra', 9773), ('hopeless', 9774), ('mari', 9775), ('canción', 9776), ('día', 9777), ('millions', 9778), ('hineston', 9779), ('kanwar', 9780), ('tartinery', 9781), ('herkimer', 9782), ('bessie', 9783), ('antonia', 9784), ('ruslana', 9785), ('lyschytschko', 9786), ('thompsontown', 9787), ('karen', 9788), ('kelli', 9789), ('selmont', 9790), ('salmonella', 9791), ('rubalcaba', 9792), ('tempunauts', 9793), ('industry', 9794), ('basement', 9795), ('oj', 9796), ('jabuka', 9797), ('zelena', 9798), ('thyme', 9799), ('kiahsville', 9800), ('doris', 9801), ('tulsa', 9802), ('heartbeat', 9803), ('yesipova', 9804), ('malcolm', 9805), ('raytown', 9806), ('lihula', 9807), ('metamora', 9808), ('gypsy', 9809), ('suu', 9810), ('dressmaker', 9811), ('garry', 9812), ('shider', 9813), ('medicine', 9814), ('mcrae', 9815), ('ed', 9816), ('clothes', 9817), ('favoretta', 9818), ('seychelles', 9819), ('solomon', 9820), ('maclean', 9821), ('po', 9822), ('tofu', 9823), ('tomb', 9824), ('redacted', 9825), ('shiralee', 9826), ('harper', 9827), ('madwoman', 9828), ('unwelcome', 9829), ('izquierdo', 9830), ('gets', 9831), ('noor', 9832), ('jehan', 9833), ('rite', 9834), ('successful', 9835), ('dealmaking', 9836), ('sita', 9837), ('mtv', 9838), ('uncensored', 9839), ('thap', 9840), ('lan', 9841), ('newtown', 9842), ('gears', 9843), ('grilled', 9844), ('meat', 9845), ('yarbrough', 9846), ('alien', 9847), ('continues', 9848), ('fingers', 9849), ('liang', 9850), ('wern', 9851), ('fook', 9852), ('beech', 9853), ('heresy', 9854), ('choir', 9855), ('thornville', 9856), ('stumble', 9857), ('apathy', 9858), ('ifind', 9859), ('forty', 9860), ('homme', 9861), ('remote', 9862), ('cormorant', 9863), ('bio', 9864), ('wyndorf', 9865), ('beedeville', 9866), ('input', 9867), ('hahnville', 9868), ('helens', 9869), ('dauset', 9870), ('thrills', 9871), ('orlovista', 9872), ('borland', 9873), ('zueras', 9874), ('lush', 9875), ('creola', 9876), ('statistical', 9877), ('coach', 9878), ('fromthe', 9879), ('nobuo', 9880), ('uematsu', 9881), ('conception', 9882), ('brand', 9883), ('piety', 9884), ('slice', 9885), ('batio', 9886), ('frog', 9887), ('birdsong', 9888), ('idledale', 9889), ('shada', 9890), ('hassoun', 9891), ('command', 9892), ('glazier', 9893), ('georgina', 9894), ('blythewood', 9895), ('hardcover', 9896), ('intangibles', 9897), ('leadership', 9898), ('engadine', 9899), ('chamberlain', 9900), ('raices', 9901), ('antenas', 9902), ('llp', 9903), ('onnaam', 9904), ('muhurtham', 9905), ('williamsport', 9906), ('eastport', 9907), ('herbie', 9908), ('tameka', 9909), ('nimule', 9910), ('biscay', 9911), ('quicksand', 9912), ('valentine', 9913), ('sohl', 9914), ('disorderly', 9915), ('since', 9916), ('garrard', 9917), ('tortuga', 9918), ('meaning', 9919), ('freddie', 9920), ('freeloader', 9921), ('wetumpka', 9922), ('scales', 9923), ('concrete', 9924), ('campanian', 9925), ('duett', 9926), ('congress', 9927), ('tisha', 9928), ('belknap', 9929), ('peles', 9930), ('plaid', 9931), ('retina', 9932), ('131', 9933), ('atanassow', 9934), ('alberton', 9935), ('thor', 9936), ('toilet', 9937), ('affairs', 9938), ('bel', 9939), ('garrett', 9940), ('godslayer', 9941), ('janamanchi', 9942), ('seshadri', 9943), ('sarma', 9944), ('nil', 9945), ('burak', 9946), ('goshenville', 9947), ('grew', 9948), ('wafah', 9949), ('dufour', 9950), ('endless', 9951), ('marcie', 9952), ('clink', 9953), ('snack', 9954), ('pla', 9955), ('isabelle', 9956), ('polymer', 9957), ('sunil', 9958), ('santha', 9959), ('shubuta', 9960), ('fierabracci', 9961), ('pilot', 9962), ('arjen', 9963), ('lucassen', 9964), ('swagger', 9965), ('messed', 9966), ('seminary', 9967), ('forks', 9968), ('yokoyama', 9969), ('archer', 9970), ('cavalero', 9971), ('eckstine', 9972), ('kano', 9973), ('bandits', 9974), ('restautant', 9975), ('breaking', 9976), ('olivet', 9977), ('highs', 9978), ('mid', 9979), ('snowball', 9980), ('gurram', 9981), ('kraken', 9982), ('tentacles', 9983), ('trentwood', 9984), ('kaffir', 9985), ('steff', 9986), ('spy', 9987), ('reshiram', 9988), ('zekrom', 9989), ('hahntown', 9990), ('vache', 9991), ('cascading', 9992), ('waterfall', 9993), ('neutrons', 9994), ('seun', 9995), ('kuti', 9996), ('crook', 9997), ('nanny', 9998), ('beatmania', 9999), ('iidx', 10000), ('nokio', 10001), ('tity', 10002), ('westlake', 10003), ('mineola', 10004), ('stehekin', 10005), ('germfask', 10006), ('duane', 10007), ('allman', 10008), ('felices', 10009), ('dome', 10010), ('lictor', 10011), ('mai', 10012), ('selim', 10013), ('hitchland', 10014), ('phoebe', 10015), ('ode', 10016), ('bleach', 10017), ('mckenna', 10018), ('shakira', 10019), ('nikki', 10020), ('standing', 10021), ('luke', 10022), ('miyavi', 10023), ('megon', 10024), ('mcdonough', 10025), ('slackers', 10026), ('otselic', 10027), ('rattus', 10028), ('roundhouse', 10029), ('tropézienne', 10030), ('motivation', 10031), ('skillman', 10032), ('agate', 10033), ('wash', 10034), ('alissa', 10035), ('musto', 10036), ('katina', 10037), ('ethics', 10038), ('rejoicing', 10039), ('millinocket', 10040), ('laughs', 10041), ('hofer', 10042), ('dico', 10043), ('simply', 10044), ('tata', 10045), ('cabi', 10046), ('cougar', 10047), ('copper', 10048), ('layhigh', 10049), ('ucolo', 10050), ('mohammed', 10051), ('abdu', 10052), ('lipstick', 10053), ('vogue', 10054), ('specialises', 10055), ('protein', 10056), ('firepower', 10057), ('ruud', 10058), ('jolie', 10059), ('ths', 10060), ('cleo', 10061), ('bâton', 10062), ('lampi', 10063), ('esperanza', 10064), ('shermann', 10065), ('nicoleta', 10066), ('nicola', 10067), ('crepes', 10068), ('silvers', 10069), ('abderrahmane', 10070), ('abdelli', 10071), ('soundscape', 10072), ('weissberg', 10073), ('machinery', 10074), ('spector', 10075), ('unreachable', 10076), ('alte', 10077), ('kameraden', 10078), ('wenham', 10079), ('cities', 10080), ('methuen', 10081), ('palying', 10082), ('maxime', 10083), ('georgetown', 10084), ('keller', 10085), ('barnum', 10086), ('imposter', 10087), ('stallion', 10088), ('rockies', 10089), ('blogbridge', 10090), ('kakko', 10091), ('batuecas', 10092), ('vogues', 10093), ('alot', 10094), ('somewhee', 10095), ('hollenberg', 10096), ('runs', 10097), ('drawn', 10098), ('questions', 10099), ('answers', 10100), ('reaching', 10101), ('flats', 10102), ('almighty', 10103), ('johnsons', 10104), ('ninety', 10105), ('showtunes', 10106), ('crossfit', 10107), ('tha', 10108), ('funkee', 10109), ('homosapien', 10110), ('warlock', 10111), ('geir', 10112), ('jenssen', 10113), ('easton', 10114), ('debby', 10115), ('everson', 10116), ('conchiglie', 10117), ('varenyky', 10118), ('zaleski', 10119), ('scratchy', 10120), ('filthy', 10121), ('lucre', 10122), ('tortured', 10123), ('alfonzo', 10124), ('larrain', 10125), ('lay', 10126), ('dates', 10127), ('rear', 10128), ('accion', 10129), ('putesky', 10130), ('jemez', 10131), ('rochelle', 10132), ('lauren', 10133), ('chae', 10134), ('yeon', 10135), ('swift', 10136), ('fertile', 10137), ('westernport', 10138), ('roland', 10139), ('alphonso', 10140), ('michigantown', 10141), ('bibb', 10142), ('citrus', 10143), ('encounters', 10144), ('nooks', 10145), ('mclaurin', 10146), ('aerial', 10147), ('ammonia', 10148), ('volga', 10149), ('graniteville', 10150), ('dolores', 10151), ('spent', 10152), ('grows', 10153), ('povel', 10154), ('ramel', 10155), ('christie', 10156), ('fullerville', 10157), ('couch', 10158), ('haugan', 10159), ('melodious', 10160), ('vodka', 10161), ('kunal', 10162), ('ganjawala', 10163), ('cooke', 10164), ('cindy', 10165), ('mentioned', 10166), ('minidoka', 10167), ('bradbury', 10168), ('radhae', 10169), ('unakku', 10170), ('kobam', 10171), ('aagathadi', 10172), ('mindy', 10173), ('liégeois', 10174), ('yukiko', 10175), ('iwai', 10176), ('eerste', 10177), ('keer', 10178), ('caiafa', 10179), ('brasil', 10180), ('prospect', 10181), ('blaine', 10182), ('isobel', 10183), ('wendell', 10184), ('alejandra', 10185), ('redington', 10186), ('jebel', 10187), ('bachman', 10188), ('spirituals', 10189), ('active', 10190), ('steinway', 10191), ('anacreon', 10192), ('forward', 10193), ('childersburg', 10194), ('masquerade', 10195), ('chompa', 10196), ('toung', 10197), ('ware', 10198), ('bonnaroo', 10199), ('brando', 10200), ('ottoville', 10201), ('econfina', 10202), ('punta', 10203), ('gorda', 10204), ('rhames', 10205), ('spaceball', 10206), ('ya', 10207), ('aspinwall', 10208), ('prentice', 10209), ('midfield', 10210), ('tuomas', 10211), ('holopainen', 10212), ('brookwood', 10213), ('khao', 10214), ('phanom', 10215), ('bencha', 10216), ('keine', 10217), ('grenzen', 10218), ('roeland', 10219), ('cohocton', 10220), ('lewisville', 10221), ('salò', 10222), ('pasqual', 10223), ('bumble', 10224), ('bee', 10225), ('morton', 10226), ('downey', 10227), ('pinto', 10228), ('congeniality', 10229), ('curry', 10230), ('caribou', 10231), ('comprehensive', 10232), ('croix', 10233), ('jacksboro', 10234), ('sealy', 10235), ('glimpses', 10236), ('murray', 10237), ('scorpion', 10238), ('pulaski', 10239), ('hallucinations', 10240), ('despair', 10241), ('worldly', 10242), ('goods', 10243), ('arnett', 10244), ('romulus', 10245), ('sabines', 10246), ('winterheart', 10247), ('guild', 10248), ('alexandria', 10249), ('bautista', 10250), ('ghader', 10251), ('abdollahzadeh', 10252), ('refrain', 10253), ('antebellum', 10254), ('drowning', 10255), ('sight', 10256), ('tapper', 10257), ('zukie', 10258), ('jolley', 10259), ('ncaa', 10260), ('2k3', 10261), ('collectors', 10262), ('armour', 10263), ('coventry', 10264), ('olution', 10265), ('aboriginal', 10266), ('folio', 10267), ('villotta', 10268), ('statham', 10269), ('utamaro', 10270), ('beaman', 10271), ('mcentee', 10272), ('sonsee', 10273), ('expresión', 10274), ('kellnersville', 10275), ('toys', 10276), ('hardy', 10277), ('como', 10278), ('tatuaje', 10279), ('convoy', 10280), ('busters', 10281), ('wreck', 10282), ('gravy', 10283), ('hollidaysburg', 10284), ('911', 10285), ('jonathon', 10286), ('wheel', 10287), ('taneyamagahara', 10288), ('dies', 10289), ('whitney', 10290), ('liberalism', 10291), ('limits', 10292), ('apbl98', 10293), ('alden', 10294), ('penner', 10295), ('mabel', 10296), ('dramatic', 10297), ('career', 10298), ('careful', 10299), ('lionheart', 10300), ('boris', 10301), ('grebenchtchikov', 10302), ('mothstorm', 10303), ('ejigayehu', 10304), ('shibabaw', 10305), ('dooneen', 10306), ('dekalb', 10307), ('cyclists', 10308), ('aransas', 10309), ('grandmaster', 10310), ('tasher', 10311), ('desh', 10312), ('tbe', 10313), ('federico', 10314), ('albert', 10315), ('holi', 10316), ('splendido', 10317), ('princeton', 10318), ('eggo', 10319), ('trace', 10320), ('adkins', 10321), ('happened', 10322), ('circleville', 10323), ('barclays', 10324), ('ctr', 10325), ('ajinoam', 10326), ('nini', 10327), ('ayaka', 10328), ('blobby', 10329), ('chemdex', 10330), ('soultaker', 10331), ('provinciale', 10332), ('bengali', 10333), ('rugrats', 10334), ('rosanne', 10335), ('nothin', 10336), ('tam', 10337), ('orange', 10338), ('lumpkin', 10339), ('denniz', 10340), ('mist', 10341), ('woodport', 10342), ('brokeback', 10343), ('soonchild', 10344), ('rods', 10345), ('maximilian', 10346), ('mutzke', 10347), ('tubby', 10348), ('n9ne', 10349), ('loogootee', 10350), ('kalino', 10351), ('mome', 10352), ('coronado', 10353), ('imogen', 10354), ('heap', 10355), ('der', 10356), ('und', 10357), ('kalypso', 10358), ('aus', 10359), ('wien', 10360), ('vonda', 10361), ('tenderfoot', 10362), ('rosenberg', 10363), ('tholireyi', 10364), ('gadichindi', 10365), ('diners', 10366), ('purim', 10367), ('ramos', 10368), ('janice', 10369), ('drumline', 10370), ('amenia', 10371), ('honest', 10372), ('213', 10373), ('actors', 10374), ('slanguages', 10375), ('labour', 10376), ('heroic', 10377), ('failures', 10378), ('louder', 10379), ('bombs', 10380), ('immortal', 10381), ('fifa', 10382), ('schollin', 10383), ('chab', 10384), ('gayle', 10385), ('discontinuity', 10386), ('deeyah', 10387), ('mum', 10388), ('eim', 10389), ('suitable', 10390), ('oneonta', 10391), ('nitti', 10392), ('mafia', 10393), ('putrefactive', 10394), ('infestation', 10395), ('mozambique', 10396), ('braginsky', 10397), ('brixton', 10398), ('cargray', 10399), ('masonville', 10400), ('dormir', 10401), ('consequences', 10402), ('streets', 10403), ('liked', 10404), ('whitehouse', 10405), ('beckley', 10406), ('scarface', 10407), ('glennie', 10408), ('dynamite', 10409), ('playcanvas', 10410), ('godmusic', 10411), ('robb', 10412), ('jueves', 10413), ('antaño', 10414), ('takahashi', 10415), ('carmel', 10416), ('labworth', 10417), ('phinally', 10418), ('phamous', 10419), ('peking', 10420), ('lea', 10421), ('shamus', 10422), ('trek', 10423), ('starfleet', 10424), ('simulator', 10425), ('socialism', 10426), ('terje', 10427), ('bakken', 10428), ('bobbie', 10429), ('lookout', 10430), ('felicity', 10431), ('purples', 10432), ('gabber', 10433), ('grandson', 10434), ('ironbound', 10435), ('nightbirds', 10436), ('nantucket', 10437), ('order', 10438), ('papeton', 10439), ('mastermind', 10440), ('mirage', 10441), ('kaanapali', 10442), ('searchlights', 10443), ('ask', 10444), ('tonopah', 10445), ('ocilla', 10446), ('wight', 10447), ('indocumentado', 10448), ('brackets', 10449), ('acworth', 10450), ('inverness', 10451), ('archie', 10452), ('daphne', 10453), ('trac', 10454), ('hercules', 10455), ('xena', 10456), ('olympus', 10457), ('emptiness', 10458), ('halifax', 10459), ('disaster', 10460), ('resevation', 10461), ('sale', 10462), ('profiteers', 10463), ('nauseam', 10464), ('falomir', 10465), ('wheesung', 10466), ('gabrial', 10467), ('mcnair', 10468), ('antony', 10469), ('verdi', 10470), ('verona', 10471), ('canfield', 10472), ('tanti', 10473), ('auguri', 10474), ('kay', 10475), ('slay', 10476), ('quasimoto', 10477), ('platnum', 10478), ('tarts', 10479), ('transcending', 10480), ('foreast', 10481), ('julia', 10482), ('fordham', 10483), ('dickinsonian', 10484), ('kearney', 10485), ('whittier', 10486), ('indigenous', 10487), ('doctrine', 10488), ('messengers', 10489), ('chaparral', 10490), ('sammet', 10491), ('enkitta', 10492), ('mothathe', 10493), ('norman', 10494), ('elements', 10495), ('remixed', 10496), ('thorogood', 10497), ('molino', 10498), ('cornelia', 10499), ('insert', 10500), ('clooney', 10501), ('ogawa', 10502), ('rosco', 10503), ('pavo', 10504), ('dustin', 10505), ('gave', 10506), ('chandra', 10507), ('noelle', 10508), ('seward', 10509), ('shabbona', 10510), ('seek', 10511), ('destroy', 10512), ('beroun', 10513), ('mila', 10514), ('justified', 10515), ('snowman', 10516), ('kuk', 10517), ('harrell', 10518), ('rockport', 10519), ('olives', 10520), ('nosh', 10521), ('donuts', 10522), ('kowalewicz', 10523), ('highwayman', 10524), ('pet', 10525), ('cairo', 10526), ('zoo', 10527), ('scampi', 10528), ('whitewood', 10529), ('ila', 10530), ('manera', 10531), ('recopilatorio', 10532), ('stood', 10533), ('yeoh', 10534), ('estelle', 10535), ('merz', 10536), ('série', 10537), ('filmes', 10538), ('hobbit', 10539), ('alex', 10540), ('otaola', 10541), ('elderton', 10542), ('wildwood', 10543), ('udhreko', 10544), ('choli', 10545), ('chowdiah', 10546), ('nattbuss', 10547), ('807', 10548), ('entry', 10549), ('sapin', 10550), ('lela', 10551), ('almyra', 10552), ('deuce', 10553), ('mitcham', 10554), ('waterscapes', 10555), ('kris', 10556), ('chetan', 10557), ('ramlu', 10558), ('terrible', 10559), ('rainelle', 10560), ('flic', 10561), ('bum', 10562), ('bead', 10563), ('apparatus', 10564), ('oldies', 10565), ('leoti', 10566), ('pipe', 10567), ('compound', 10568), ('fracture', 10569), ('economy', 10570), ('schlitt', 10571), ('mallett', 10572), ('floating', 10573), ('lacassine', 10574), ('utopian', 10575), ('sulle', 10576), ('sathya', 10577), ('stobo', 10578), ('godlike', 10579), ('patricia', 10580), ('mowrystown', 10581), ('creamery', 10582), ('rome', 10583), ('fifty', 10584), ('plkay', 10585), ('aioli', 10586), ('lilacs', 10587), ('santana', 10588), ('performs', 10589), ('tsidii', 10590), ('loka', 10591), ('hans', 10592), ('nilsson', 10593), ('bellamy', 10594), ('contributed', 10595), ('berowra', 10596)])"
            ]
          },
          "metadata": {
            "tags": []
          },
          "execution_count": 149
        }
      ]
    },
    {
      "cell_type": "markdown",
      "metadata": {
        "id": "zNoLgmvKOiL1",
        "colab_type": "text"
      },
      "source": [
        "# Define the Models"
      ]
    },
    {
      "cell_type": "markdown",
      "metadata": {
        "id": "OQRIVZHHVl1t",
        "colab_type": "text"
      },
      "source": [
        "## Define the LSTM"
      ]
    },
    {
      "cell_type": "code",
      "metadata": {
        "id": "bs3WtuR7OmX7",
        "colab_type": "code",
        "outputId": "d725262a-e8a9-4174-a607-8acad75b4b7a",
        "colab": {
          "base_uri": "https://localhost:8080/",
          "height": 276
        }
      },
      "source": [
        "embedding_size = 8\n",
        "n_classes = 3\n",
        "epochs = 10\n",
        "\n",
        "import tensorflow as tf\n",
        "from tensorflow.keras import layers\n",
        "\n",
        "lstm_model = tf.keras.Sequential()\n",
        "lstm_model.add(layers.Embedding(num_words, embedding_size, input_shape=(max_len,)))\n",
        "lstm_model.add(layers.LSTM(128, return_sequences=False))\n",
        "lstm_model.add(layers.Dropout(.5))\n",
        "lstm_model.add(layers.Dense(len(intents_to_ix.keys()), activation='softmax'))\n",
        "lstm_model.compile('adam', 'sparse_categorical_crossentropy', metrics=['accuracy'])\n",
        "lstm_model.summary()"
      ],
      "execution_count": 0,
      "outputs": [
        {
          "output_type": "stream",
          "text": [
            "_________________________________________________________________\n",
            "Layer (type)                 Output Shape              Param #   \n",
            "=================================================================\n",
            "embedding_5 (Embedding)      (None, 20, 8)             8000      \n",
            "_________________________________________________________________\n",
            "lstm_5 (LSTM)                (None, 128)               70144     \n",
            "_________________________________________________________________\n",
            "dropout_5 (Dropout)          (None, 128)               0         \n",
            "_________________________________________________________________\n",
            "dense_5 (Dense)              (None, 9)                 1161      \n",
            "=================================================================\n",
            "Total params: 79,305\n",
            "Trainable params: 79,305\n",
            "Non-trainable params: 0\n",
            "_________________________________________________________________\n"
          ],
          "name": "stdout"
        }
      ]
    },
    {
      "cell_type": "markdown",
      "metadata": {
        "id": "8RVCJ8M0VryT",
        "colab_type": "text"
      },
      "source": [
        "## Define the CNN"
      ]
    },
    {
      "cell_type": "code",
      "metadata": {
        "id": "t4-B-E25Vuxz",
        "colab_type": "code",
        "outputId": "1ede3159-0c71-46d6-d30f-288621432e0e",
        "colab": {
          "base_uri": "https://localhost:8080/",
          "height": 415
        }
      },
      "source": [
        "cnn_model = tf.keras.Sequential()\n",
        "cnn_model.add(layers.Embedding(num_words, \n",
        "                                embedding_size, \n",
        "                                input_shape=(max_len,)))\n",
        "cnn_model.add(layers.Conv1D(filters=64, \n",
        "                            kernel_size=3, \n",
        "                            activation='relu'))\n",
        "cnn_model.add(layers.Conv1D(filters=64, \n",
        "                            kernel_size=3, \n",
        "                            activation='relu'))\n",
        "cnn_model.add(layers.Dropout(0.5))\n",
        "cnn_model.add(layers.MaxPooling1D(pool_size=2))\n",
        "cnn_model.add(layers.Flatten())\n",
        "cnn_model.add(layers.Dense(100, activation='relu'))\n",
        "cnn_model.add(layers.Dense(len(intents_to_ix.keys()), activation='softmax'))\n",
        "cnn_model.compile('adam', 'sparse_categorical_crossentropy', metrics=['accuracy'])\n",
        "cnn_model.summary()"
      ],
      "execution_count": 0,
      "outputs": [
        {
          "output_type": "stream",
          "text": [
            "_________________________________________________________________\n",
            "Layer (type)                 Output Shape              Param #   \n",
            "=================================================================\n",
            "embedding_24 (Embedding)     (None, 20, 384)           384000    \n",
            "_________________________________________________________________\n",
            "conv1d_22 (Conv1D)           (None, 18, 64)            73792     \n",
            "_________________________________________________________________\n",
            "conv1d_23 (Conv1D)           (None, 16, 64)            12352     \n",
            "_________________________________________________________________\n",
            "dropout_17 (Dropout)         (None, 16, 64)            0         \n",
            "_________________________________________________________________\n",
            "max_pooling1d_9 (MaxPooling1 (None, 8, 64)             0         \n",
            "_________________________________________________________________\n",
            "flatten_8 (Flatten)          (None, 512)               0         \n",
            "_________________________________________________________________\n",
            "dense_23 (Dense)             (None, 100)               51300     \n",
            "_________________________________________________________________\n",
            "dense_24 (Dense)             (None, 9)                 909       \n",
            "=================================================================\n",
            "Total params: 522,353\n",
            "Trainable params: 522,353\n",
            "Non-trainable params: 0\n",
            "_________________________________________________________________\n"
          ],
          "name": "stdout"
        }
      ]
    },
    {
      "cell_type": "markdown",
      "metadata": {
        "id": "UpjkmB1Hna1l",
        "colab_type": "text"
      },
      "source": [
        "## Define a LSTM with pre-trained embeddings"
      ]
    },
    {
      "cell_type": "code",
      "metadata": {
        "id": "Ehm0ERCwnebL",
        "colab_type": "code",
        "outputId": "5dd75579-94dc-4085-8f27-c83ad8f8f71b",
        "colab": {
          "base_uri": "https://localhost:8080/",
          "height": 276
        }
      },
      "source": [
        "embedding_size = emb_matrix.shape[1]\n",
        "\n",
        "lstm_pretrained_embeddings = tf.keras.Sequential()\n",
        "lstm_pretrained_embeddings.add(layers.Embedding(num_words, \n",
        "                                            embedding_size, \n",
        "                                            weights=[emb_matrix],\n",
        "                                            input_shape=(max_len,),\n",
        "                                            trainable=False))\n",
        "lstm_pretrained_embeddings.add(layers.LSTM(128, return_sequences=False))\n",
        "lstm_pretrained_embeddings.add(layers.Dropout(.5))\n",
        "lstm_pretrained_embeddings.add(layers.Dense(len(intents_to_ix.keys()), \n",
        "                                            activation='softmax'))\n",
        "lstm_pretrained_embeddings.compile('adam', \n",
        "                                   'sparse_categorical_crossentropy', \n",
        "                                   metrics=['accuracy'])\n",
        "lstm_pretrained_embeddings.summary()"
      ],
      "execution_count": 0,
      "outputs": [
        {
          "output_type": "stream",
          "text": [
            "_________________________________________________________________\n",
            "Layer (type)                 Output Shape              Param #   \n",
            "=================================================================\n",
            "embedding_23 (Embedding)     (None, 20, 384)           384000    \n",
            "_________________________________________________________________\n",
            "lstm_7 (LSTM)                (None, 128)               262656    \n",
            "_________________________________________________________________\n",
            "dropout_16 (Dropout)         (None, 128)               0         \n",
            "_________________________________________________________________\n",
            "dense_22 (Dense)             (None, 9)                 1161      \n",
            "=================================================================\n",
            "Total params: 647,817\n",
            "Trainable params: 263,817\n",
            "Non-trainable params: 384,000\n",
            "_________________________________________________________________\n"
          ],
          "name": "stdout"
        }
      ]
    },
    {
      "cell_type": "markdown",
      "metadata": {
        "id": "a5cKVSBhV4dF",
        "colab_type": "text"
      },
      "source": [
        "# Train the Models"
      ]
    },
    {
      "cell_type": "code",
      "metadata": {
        "id": "qhJ1dVJDOqT9",
        "colab_type": "code",
        "outputId": "bb9ad6cd-a638-4f0c-f92e-8d10fb50f0ba",
        "colab": {
          "base_uri": "https://localhost:8080/",
          "height": 155
        }
      },
      "source": [
        "lstm_model.fit(x_train_padded, y_train, \n",
        "          epochs=3, \n",
        "          validation_data=(x_valid_padded, y_valid))"
      ],
      "execution_count": 0,
      "outputs": [
        {
          "output_type": "stream",
          "text": [
            "Train on 11985 samples, validate on 500 samples\n",
            "Epoch 1/3\n",
            "11985/11985 [==============================] - 26s 2ms/sample - loss: 1.3131 - acc: 0.4703 - val_loss: 0.7301 - val_acc: 0.6820\n",
            "Epoch 2/3\n",
            "11985/11985 [==============================] - 26s 2ms/sample - loss: 0.5042 - acc: 0.8164 - val_loss: 0.3156 - val_acc: 0.9100\n",
            "Epoch 3/3\n",
            "11985/11985 [==============================] - 25s 2ms/sample - loss: 0.2805 - acc: 0.9080 - val_loss: 0.2205 - val_acc: 0.9220\n"
          ],
          "name": "stdout"
        },
        {
          "output_type": "execute_result",
          "data": {
            "text/plain": [
              "<tensorflow.python.keras.callbacks.History at 0x7f637925c908>"
            ]
          },
          "metadata": {
            "tags": []
          },
          "execution_count": 54
        }
      ]
    },
    {
      "cell_type": "code",
      "metadata": {
        "id": "YBPpIi5VWyX2",
        "colab_type": "code",
        "outputId": "20d29cf5-892d-4532-91af-2d9b096b2dcc",
        "colab": {
          "base_uri": "https://localhost:8080/",
          "height": 155
        }
      },
      "source": [
        "cnn_model.fit(x_train_padded, y_train, \n",
        "          epochs=3, \n",
        "          validation_data=(x_valid_padded, y_valid))"
      ],
      "execution_count": 0,
      "outputs": [
        {
          "output_type": "stream",
          "text": [
            "Train on 11985 samples, validate on 500 samples\n",
            "Epoch 1/3\n",
            "11985/11985 [==============================] - 12s 982us/sample - loss: 0.5103 - acc: 0.8178 - val_loss: 0.1646 - val_acc: 0.9520\n",
            "Epoch 2/3\n",
            "11985/11985 [==============================] - 11s 905us/sample - loss: 0.1440 - acc: 0.9382 - val_loss: 0.1415 - val_acc: 0.9460\n",
            "Epoch 3/3\n",
            "11985/11985 [==============================] - 11s 897us/sample - loss: 0.1187 - acc: 0.9449 - val_loss: 0.1278 - val_acc: 0.9520\n"
          ],
          "name": "stdout"
        },
        {
          "output_type": "execute_result",
          "data": {
            "text/plain": [
              "<tensorflow.python.keras.callbacks.History at 0x7f6367e14dd8>"
            ]
          },
          "metadata": {
            "tags": []
          },
          "execution_count": 256
        }
      ]
    },
    {
      "cell_type": "code",
      "metadata": {
        "id": "6gO4qHNhpGrM",
        "colab_type": "code",
        "outputId": "4ea29394-aa34-40c7-deac-45016bec6036",
        "colab": {
          "base_uri": "https://localhost:8080/",
          "height": 155
        }
      },
      "source": [
        "lstm_pretrained_embeddings.fit(x_train_padded, y_train, \n",
        "          epochs=3, \n",
        "          validation_data=(x_valid_padded, y_valid))"
      ],
      "execution_count": 0,
      "outputs": [
        {
          "output_type": "stream",
          "text": [
            "Train on 11985 samples, validate on 500 samples\n",
            "Epoch 1/3\n",
            "11985/11985 [==============================] - 59s 5ms/sample - loss: 1.2627 - acc: 0.5857 - val_loss: 0.4868 - val_acc: 0.8820\n",
            "Epoch 2/3\n",
            "11985/11985 [==============================] - 59s 5ms/sample - loss: 0.4639 - acc: 0.8695 - val_loss: 0.2997 - val_acc: 0.9120\n",
            "Epoch 3/3\n",
            "11985/11985 [==============================] - 57s 5ms/sample - loss: 0.3068 - acc: 0.9027 - val_loss: 0.2131 - val_acc: 0.9360\n"
          ],
          "name": "stdout"
        },
        {
          "output_type": "execute_result",
          "data": {
            "text/plain": [
              "<tensorflow.python.keras.callbacks.History at 0x7f636a1eab38>"
            ]
          },
          "metadata": {
            "tags": []
          },
          "execution_count": 193
        }
      ]
    },
    {
      "cell_type": "markdown",
      "metadata": {
        "id": "NHC4Cp1E7k9p",
        "colab_type": "text"
      },
      "source": [
        "# An Exercise for the Reader"
      ]
    },
    {
      "cell_type": "markdown",
      "metadata": {
        "id": "w3-nC8iz7q6t",
        "colab_type": "text"
      },
      "source": [
        "### Try this"
      ]
    },
    {
      "cell_type": "markdown",
      "metadata": {
        "id": "UnapNGyxeu85",
        "colab_type": "text"
      },
      "source": [
        "***Stop here and iterate over the performance of your models to increase your accuracy on the validation data set!***\n",
        "\n",
        "***Feel free to try out different features and featureizations (i.e. stop words, character embeddings, sntactical information, named entities, other metadata), hyperparameters, deep learning models, etc***\n",
        "\n",
        "***DO NOT move on the next section (evaluating on the test data) until you are done-done! Otherwise you will not get a good estimate of your out-of-sample performance***"
      ]
    },
    {
      "cell_type": "markdown",
      "metadata": {
        "id": "u9t1m6ot7pK_",
        "colab_type": "text"
      },
      "source": [
        "### Where do I start?\n",
        "\n",
        "A good practice is manually inspecting the predictions in order to prove that your model is using some kind of lazy heuristic. \n",
        "\n",
        "Look at the predictions your model is most confident about and wrong. Look at the ones that it is most confident about and right - do they all look similar (i.e. is your model is only picking up on the \"easy\" ones?) Does the model's performance degrade substantially if you take out the easy ones?\n",
        "\n",
        "Look at the ones your model is very uncertain about, the ones for which it is basically guessing - can we encode some heuristics as features that could fix those?"
      ]
    },
    {
      "cell_type": "markdown",
      "metadata": {
        "id": "wk9P1XN0ZA7L",
        "colab_type": "text"
      },
      "source": [
        "# Evaluate the Models"
      ]
    },
    {
      "cell_type": "markdown",
      "metadata": {
        "id": "wAQkei9p8qnB",
        "colab_type": "text"
      },
      "source": [
        "***only do this once, or your model is cheating. If you change your model after evaluating it on the test data, you won't know how it does in the real world***"
      ]
    },
    {
      "cell_type": "code",
      "metadata": {
        "id": "2MWf0_0tTcfq",
        "colab_type": "code",
        "outputId": "9e4184e7-95b9-49bd-d0e6-29a82e53617d",
        "colab": {
          "base_uri": "https://localhost:8080/",
          "height": 52
        }
      },
      "source": [
        "loss, acc = lstm_model.evaluate(x_test_padded, y_test)\n",
        "print(\"lstm_model's out-of-sample accuracy {:.3f}%\".format(acc*100))"
      ],
      "execution_count": 0,
      "outputs": [
        {
          "output_type": "stream",
          "text": [
            "600/600 [==============================] - 0s 441us/sample - loss: 0.1188 - acc: 0.9683\n",
            "lstm_model's out-of-sample accuracy 96.833%\n"
          ],
          "name": "stdout"
        }
      ]
    },
    {
      "cell_type": "code",
      "metadata": {
        "id": "RCvderhCTkjC",
        "colab_type": "code",
        "outputId": "b0518bd7-1256-4c2f-a96e-abde822658bd",
        "colab": {
          "base_uri": "https://localhost:8080/",
          "height": 52
        }
      },
      "source": [
        "loss, acc = cnn_model.evaluate(x_test_padded, y_test)\n",
        "print(\"cnn_model's out-of-sample accuracy {:.3f}%\".format(acc*100))"
      ],
      "execution_count": 0,
      "outputs": [
        {
          "output_type": "stream",
          "text": [
            "600/600 [==============================] - 0s 183us/sample - loss: 0.0876 - acc: 0.9733\n",
            "cnn_model's out-of-sample accuracy 97.333%\n"
          ],
          "name": "stdout"
        }
      ]
    },
    {
      "cell_type": "code",
      "metadata": {
        "id": "8mPonSNqYy9U",
        "colab_type": "code",
        "outputId": "9e8cec15-81ea-4de0-e1d7-a4ea499d5366",
        "colab": {
          "base_uri": "https://localhost:8080/",
          "height": 52
        }
      },
      "source": [
        "loss, acc = lstm_pretrained_embeddings.evaluate(x_test_padded, y_test)\n",
        "print(\"lstm_pretrained_embeddings's out-of-sample accuracy {:.3f}%\".format(acc*100))"
      ],
      "execution_count": 0,
      "outputs": [
        {
          "output_type": "stream",
          "text": [
            "600/600 [==============================] - 1s 1ms/sample - loss: 0.1665 - acc: 0.9567\n",
            "lstm_pretrained_embeddings's out-of-sample accuracy 95.667%\n"
          ],
          "name": "stdout"
        }
      ]
    },
    {
      "cell_type": "markdown",
      "metadata": {
        "id": "mbfSaMBlpiV-",
        "colab_type": "text"
      },
      "source": [
        "# Persist the models"
      ]
    },
    {
      "cell_type": "code",
      "metadata": {
        "id": "AQSufmJi2Cud",
        "colab_type": "code",
        "colab": {}
      },
      "source": [
        "def to_disk(keras_model, model_name):\n",
        "  keras_model.save('{}.h5'.format(model_name))"
      ],
      "execution_count": 0,
      "outputs": []
    },
    {
      "cell_type": "code",
      "metadata": {
        "id": "x8quIsC_2_tq",
        "colab_type": "code",
        "colab": {}
      },
      "source": [
        "from tensorflow.keras.models import load_model\n",
        "\n",
        "def from_disk(model_name):\n",
        "  return load_model('{}.h5'.format(model_name))"
      ],
      "execution_count": 0,
      "outputs": []
    },
    {
      "cell_type": "markdown",
      "metadata": {
        "id": "dDSDytzZ3PeQ",
        "colab_type": "text"
      },
      "source": [
        "save the models"
      ]
    },
    {
      "cell_type": "code",
      "metadata": {
        "id": "8d8SDKTW3Trl",
        "colab_type": "code",
        "colab": {}
      },
      "source": [
        "to_disk(lstm_model,'lstm')"
      ],
      "execution_count": 0,
      "outputs": []
    },
    {
      "cell_type": "code",
      "metadata": {
        "id": "JRLiA-oz3dMs",
        "colab_type": "code",
        "colab": {}
      },
      "source": [
        "to_disk(cnn_model,'cnn')"
      ],
      "execution_count": 0,
      "outputs": []
    },
    {
      "cell_type": "code",
      "metadata": {
        "id": "r_T4knFO3gXY",
        "colab_type": "code",
        "colab": {}
      },
      "source": [
        "to_disk(lstm_pretrained_embeddings, 'lstm_pretrained_embeddings')"
      ],
      "execution_count": 0,
      "outputs": []
    },
    {
      "cell_type": "markdown",
      "metadata": {
        "id": "8ZEVSD8G3kLL",
        "colab_type": "text"
      },
      "source": [
        "load and use the models"
      ]
    },
    {
      "cell_type": "code",
      "metadata": {
        "id": "iTgr4AWR3lu9",
        "colab_type": "code",
        "colab": {}
      },
      "source": [
        "model_from_disk = from_disk('cnn')"
      ],
      "execution_count": 0,
      "outputs": []
    },
    {
      "cell_type": "code",
      "metadata": {
        "id": "nMvrwc383r-x",
        "colab_type": "code",
        "outputId": "973d3c77-2649-4326-9266-25598a06b5be",
        "colab": {
          "base_uri": "https://localhost:8080/",
          "height": 52
        }
      },
      "source": [
        "# use the model\n",
        "loss, acc = model_from_disk.evaluate(x_test_padded, y_test)\n",
        "print(\"lstm_pretrained_embeddings's out-of-sample accuracy {:.3f}%\".format(acc*100))"
      ],
      "execution_count": 0,
      "outputs": [
        {
          "output_type": "stream",
          "text": [
            "600/600 [==============================] - 1s 924us/sample - loss: 0.0876 - acc: 0.9733\n",
            "lstm_pretrained_embeddings's out-of-sample accuracy 97.333%\n"
          ],
          "name": "stdout"
        }
      ]
    },
    {
      "cell_type": "markdown",
      "metadata": {
        "id": "ujh8K82_3zZk",
        "colab_type": "text"
      },
      "source": [
        "if you want to download these models to your local machine"
      ]
    },
    {
      "cell_type": "code",
      "metadata": {
        "id": "rmHCXgk25giK",
        "colab_type": "code",
        "colab": {}
      },
      "source": [
        "from google.colab import files"
      ],
      "execution_count": 0,
      "outputs": []
    },
    {
      "cell_type": "code",
      "metadata": {
        "id": "tiH8obic5jME",
        "colab_type": "code",
        "colab": {}
      },
      "source": [
        "files.download('lstm.h5')"
      ],
      "execution_count": 0,
      "outputs": []
    },
    {
      "cell_type": "code",
      "metadata": {
        "id": "aolIDFhu5mIZ",
        "colab_type": "code",
        "colab": {}
      },
      "source": [
        "files.download('cnn.h5')"
      ],
      "execution_count": 0,
      "outputs": []
    },
    {
      "cell_type": "code",
      "metadata": {
        "id": "S3AL7i1U5oF8",
        "colab_type": "code",
        "colab": {}
      },
      "source": [
        "files.download('lstm_pretrained_embeddings.h5')"
      ],
      "execution_count": 0,
      "outputs": []
    }
  ]
}